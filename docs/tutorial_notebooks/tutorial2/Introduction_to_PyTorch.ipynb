{
  "nbformat": 4,
  "nbformat_minor": 0,
  "metadata": {
    "kernelspec": {
      "display_name": "Python 3",
      "language": "python",
      "name": "python3"
    },
    "language_info": {
      "codemirror_mode": {
        "name": "ipython",
        "version": 3
      },
      "file_extension": ".py",
      "mimetype": "text/x-python",
      "name": "python",
      "nbconvert_exporter": "python",
      "pygments_lexer": "ipython3",
      "version": "3.8.6"
    },
    "colab": {
      "name": "Introduction_to_PyTorch.ipynb",
      "provenance": []
    },
    "accelerator": "GPU",
    "widgets": {
      "application/vnd.jupyter.widget-state+json": {
        "d1146219e8e34f4399325a6bb2098146": {
          "model_module": "@jupyter-widgets/controls",
          "model_name": "HBoxModel",
          "model_module_version": "1.5.0",
          "state": {
            "_view_name": "HBoxView",
            "_dom_classes": [],
            "_model_name": "HBoxModel",
            "_view_module": "@jupyter-widgets/controls",
            "_model_module_version": "1.5.0",
            "_view_count": null,
            "_view_module_version": "1.5.0",
            "box_style": "",
            "layout": "IPY_MODEL_67d3eeab8a1842e19a196896e031505b",
            "_model_module": "@jupyter-widgets/controls",
            "children": [
              "IPY_MODEL_bc18f277e0a94b5999f6418c4731571d",
              "IPY_MODEL_3d3391c85f48408d84cca61373682c38",
              "IPY_MODEL_b13dae2943464ab3a9f84e6085be5c0b"
            ]
          }
        },
        "67d3eeab8a1842e19a196896e031505b": {
          "model_module": "@jupyter-widgets/base",
          "model_name": "LayoutModel",
          "model_module_version": "1.2.0",
          "state": {
            "_view_name": "LayoutView",
            "grid_template_rows": null,
            "right": null,
            "justify_content": null,
            "_view_module": "@jupyter-widgets/base",
            "overflow": null,
            "_model_module_version": "1.2.0",
            "_view_count": null,
            "flex_flow": null,
            "width": null,
            "min_width": null,
            "border": null,
            "align_items": null,
            "bottom": null,
            "_model_module": "@jupyter-widgets/base",
            "top": null,
            "grid_column": null,
            "overflow_y": null,
            "overflow_x": null,
            "grid_auto_flow": null,
            "grid_area": null,
            "grid_template_columns": null,
            "flex": null,
            "_model_name": "LayoutModel",
            "justify_items": null,
            "grid_row": null,
            "max_height": null,
            "align_content": null,
            "visibility": null,
            "align_self": null,
            "height": null,
            "min_height": null,
            "padding": null,
            "grid_auto_rows": null,
            "grid_gap": null,
            "max_width": null,
            "order": null,
            "_view_module_version": "1.2.0",
            "grid_template_areas": null,
            "object_position": null,
            "object_fit": null,
            "grid_auto_columns": null,
            "margin": null,
            "display": null,
            "left": null
          }
        },
        "bc18f277e0a94b5999f6418c4731571d": {
          "model_module": "@jupyter-widgets/controls",
          "model_name": "HTMLModel",
          "model_module_version": "1.5.0",
          "state": {
            "_view_name": "HTMLView",
            "style": "IPY_MODEL_dfaa704305cb4e88ac30a56951434a56",
            "_dom_classes": [],
            "description": "",
            "_model_name": "HTMLModel",
            "placeholder": "​",
            "_view_module": "@jupyter-widgets/controls",
            "_model_module_version": "1.5.0",
            "value": "100%",
            "_view_count": null,
            "_view_module_version": "1.5.0",
            "description_tooltip": null,
            "_model_module": "@jupyter-widgets/controls",
            "layout": "IPY_MODEL_f4fb458dda1a4c3fa135796026de282c"
          }
        },
        "3d3391c85f48408d84cca61373682c38": {
          "model_module": "@jupyter-widgets/controls",
          "model_name": "FloatProgressModel",
          "model_module_version": "1.5.0",
          "state": {
            "_view_name": "ProgressView",
            "style": "IPY_MODEL_06c30e0bf1f44e1db544420b48829a8f",
            "_dom_classes": [],
            "description": "",
            "_model_name": "FloatProgressModel",
            "bar_style": "success",
            "max": 100,
            "_view_module": "@jupyter-widgets/controls",
            "_model_module_version": "1.5.0",
            "value": 100,
            "_view_count": null,
            "_view_module_version": "1.5.0",
            "orientation": "horizontal",
            "min": 0,
            "description_tooltip": null,
            "_model_module": "@jupyter-widgets/controls",
            "layout": "IPY_MODEL_82eb43a6395343099ebd516646ed5a79"
          }
        },
        "b13dae2943464ab3a9f84e6085be5c0b": {
          "model_module": "@jupyter-widgets/controls",
          "model_name": "HTMLModel",
          "model_module_version": "1.5.0",
          "state": {
            "_view_name": "HTMLView",
            "style": "IPY_MODEL_ebec3cac544c47119efd37718d4099dc",
            "_dom_classes": [],
            "description": "",
            "_model_name": "HTMLModel",
            "placeholder": "​",
            "_view_module": "@jupyter-widgets/controls",
            "_model_module_version": "1.5.0",
            "value": " 100/100 [00:04&lt;00:00, 23.72it/s]",
            "_view_count": null,
            "_view_module_version": "1.5.0",
            "description_tooltip": null,
            "_model_module": "@jupyter-widgets/controls",
            "layout": "IPY_MODEL_1287adba61794f06ba346b1f622d9c87"
          }
        },
        "dfaa704305cb4e88ac30a56951434a56": {
          "model_module": "@jupyter-widgets/controls",
          "model_name": "DescriptionStyleModel",
          "model_module_version": "1.5.0",
          "state": {
            "_view_name": "StyleView",
            "_model_name": "DescriptionStyleModel",
            "description_width": "",
            "_view_module": "@jupyter-widgets/base",
            "_model_module_version": "1.5.0",
            "_view_count": null,
            "_view_module_version": "1.2.0",
            "_model_module": "@jupyter-widgets/controls"
          }
        },
        "f4fb458dda1a4c3fa135796026de282c": {
          "model_module": "@jupyter-widgets/base",
          "model_name": "LayoutModel",
          "model_module_version": "1.2.0",
          "state": {
            "_view_name": "LayoutView",
            "grid_template_rows": null,
            "right": null,
            "justify_content": null,
            "_view_module": "@jupyter-widgets/base",
            "overflow": null,
            "_model_module_version": "1.2.0",
            "_view_count": null,
            "flex_flow": null,
            "width": null,
            "min_width": null,
            "border": null,
            "align_items": null,
            "bottom": null,
            "_model_module": "@jupyter-widgets/base",
            "top": null,
            "grid_column": null,
            "overflow_y": null,
            "overflow_x": null,
            "grid_auto_flow": null,
            "grid_area": null,
            "grid_template_columns": null,
            "flex": null,
            "_model_name": "LayoutModel",
            "justify_items": null,
            "grid_row": null,
            "max_height": null,
            "align_content": null,
            "visibility": null,
            "align_self": null,
            "height": null,
            "min_height": null,
            "padding": null,
            "grid_auto_rows": null,
            "grid_gap": null,
            "max_width": null,
            "order": null,
            "_view_module_version": "1.2.0",
            "grid_template_areas": null,
            "object_position": null,
            "object_fit": null,
            "grid_auto_columns": null,
            "margin": null,
            "display": null,
            "left": null
          }
        },
        "06c30e0bf1f44e1db544420b48829a8f": {
          "model_module": "@jupyter-widgets/controls",
          "model_name": "ProgressStyleModel",
          "model_module_version": "1.5.0",
          "state": {
            "_view_name": "StyleView",
            "_model_name": "ProgressStyleModel",
            "description_width": "",
            "_view_module": "@jupyter-widgets/base",
            "_model_module_version": "1.5.0",
            "_view_count": null,
            "_view_module_version": "1.2.0",
            "bar_color": null,
            "_model_module": "@jupyter-widgets/controls"
          }
        },
        "82eb43a6395343099ebd516646ed5a79": {
          "model_module": "@jupyter-widgets/base",
          "model_name": "LayoutModel",
          "model_module_version": "1.2.0",
          "state": {
            "_view_name": "LayoutView",
            "grid_template_rows": null,
            "right": null,
            "justify_content": null,
            "_view_module": "@jupyter-widgets/base",
            "overflow": null,
            "_model_module_version": "1.2.0",
            "_view_count": null,
            "flex_flow": null,
            "width": null,
            "min_width": null,
            "border": null,
            "align_items": null,
            "bottom": null,
            "_model_module": "@jupyter-widgets/base",
            "top": null,
            "grid_column": null,
            "overflow_y": null,
            "overflow_x": null,
            "grid_auto_flow": null,
            "grid_area": null,
            "grid_template_columns": null,
            "flex": null,
            "_model_name": "LayoutModel",
            "justify_items": null,
            "grid_row": null,
            "max_height": null,
            "align_content": null,
            "visibility": null,
            "align_self": null,
            "height": null,
            "min_height": null,
            "padding": null,
            "grid_auto_rows": null,
            "grid_gap": null,
            "max_width": null,
            "order": null,
            "_view_module_version": "1.2.0",
            "grid_template_areas": null,
            "object_position": null,
            "object_fit": null,
            "grid_auto_columns": null,
            "margin": null,
            "display": null,
            "left": null
          }
        },
        "ebec3cac544c47119efd37718d4099dc": {
          "model_module": "@jupyter-widgets/controls",
          "model_name": "DescriptionStyleModel",
          "model_module_version": "1.5.0",
          "state": {
            "_view_name": "StyleView",
            "_model_name": "DescriptionStyleModel",
            "description_width": "",
            "_view_module": "@jupyter-widgets/base",
            "_model_module_version": "1.5.0",
            "_view_count": null,
            "_view_module_version": "1.2.0",
            "_model_module": "@jupyter-widgets/controls"
          }
        },
        "1287adba61794f06ba346b1f622d9c87": {
          "model_module": "@jupyter-widgets/base",
          "model_name": "LayoutModel",
          "model_module_version": "1.2.0",
          "state": {
            "_view_name": "LayoutView",
            "grid_template_rows": null,
            "right": null,
            "justify_content": null,
            "_view_module": "@jupyter-widgets/base",
            "overflow": null,
            "_model_module_version": "1.2.0",
            "_view_count": null,
            "flex_flow": null,
            "width": null,
            "min_width": null,
            "border": null,
            "align_items": null,
            "bottom": null,
            "_model_module": "@jupyter-widgets/base",
            "top": null,
            "grid_column": null,
            "overflow_y": null,
            "overflow_x": null,
            "grid_auto_flow": null,
            "grid_area": null,
            "grid_template_columns": null,
            "flex": null,
            "_model_name": "LayoutModel",
            "justify_items": null,
            "grid_row": null,
            "max_height": null,
            "align_content": null,
            "visibility": null,
            "align_self": null,
            "height": null,
            "min_height": null,
            "padding": null,
            "grid_auto_rows": null,
            "grid_gap": null,
            "max_width": null,
            "order": null,
            "_view_module_version": "1.2.0",
            "grid_template_areas": null,
            "object_position": null,
            "object_fit": null,
            "grid_auto_columns": null,
            "margin": null,
            "display": null,
            "left": null
          }
        },
        "230f704d81534aea96ccd61e00bdd241": {
          "model_module": "@jupyter-widgets/controls",
          "model_name": "HBoxModel",
          "model_module_version": "1.5.0",
          "state": {
            "_view_name": "HBoxView",
            "_dom_classes": [],
            "_model_name": "HBoxModel",
            "_view_module": "@jupyter-widgets/controls",
            "_model_module_version": "1.5.0",
            "_view_count": null,
            "_view_module_version": "1.5.0",
            "box_style": "",
            "layout": "IPY_MODEL_1c27fba839724477a1cbad8a13f1b672",
            "_model_module": "@jupyter-widgets/controls",
            "children": [
              "IPY_MODEL_a0bcbe035350431ba9e41a9b98bbd992",
              "IPY_MODEL_ebfeecc100044de296e6545b2e0fcdc5",
              "IPY_MODEL_0426a0c194a14f63805ab1b9ff0d0b3e"
            ]
          }
        },
        "1c27fba839724477a1cbad8a13f1b672": {
          "model_module": "@jupyter-widgets/base",
          "model_name": "LayoutModel",
          "model_module_version": "1.2.0",
          "state": {
            "_view_name": "LayoutView",
            "grid_template_rows": null,
            "right": null,
            "justify_content": null,
            "_view_module": "@jupyter-widgets/base",
            "overflow": null,
            "_model_module_version": "1.2.0",
            "_view_count": null,
            "flex_flow": null,
            "width": null,
            "min_width": null,
            "border": null,
            "align_items": null,
            "bottom": null,
            "_model_module": "@jupyter-widgets/base",
            "top": null,
            "grid_column": null,
            "overflow_y": null,
            "overflow_x": null,
            "grid_auto_flow": null,
            "grid_area": null,
            "grid_template_columns": null,
            "flex": null,
            "_model_name": "LayoutModel",
            "justify_items": null,
            "grid_row": null,
            "max_height": null,
            "align_content": null,
            "visibility": null,
            "align_self": null,
            "height": null,
            "min_height": null,
            "padding": null,
            "grid_auto_rows": null,
            "grid_gap": null,
            "max_width": null,
            "order": null,
            "_view_module_version": "1.2.0",
            "grid_template_areas": null,
            "object_position": null,
            "object_fit": null,
            "grid_auto_columns": null,
            "margin": null,
            "display": null,
            "left": null
          }
        },
        "a0bcbe035350431ba9e41a9b98bbd992": {
          "model_module": "@jupyter-widgets/controls",
          "model_name": "HTMLModel",
          "model_module_version": "1.5.0",
          "state": {
            "_view_name": "HTMLView",
            "style": "IPY_MODEL_4f740501d81a46c0a5f0379f4ffe19c8",
            "_dom_classes": [],
            "description": "",
            "_model_name": "HTMLModel",
            "placeholder": "​",
            "_view_module": "@jupyter-widgets/controls",
            "_model_module_version": "1.5.0",
            "value": "",
            "_view_count": null,
            "_view_module_version": "1.5.0",
            "description_tooltip": null,
            "_model_module": "@jupyter-widgets/controls",
            "layout": "IPY_MODEL_e4aa35f6e1a14a5b86e94ab30bd1fd1d"
          }
        },
        "ebfeecc100044de296e6545b2e0fcdc5": {
          "model_module": "@jupyter-widgets/controls",
          "model_name": "FloatProgressModel",
          "model_module_version": "1.5.0",
          "state": {
            "_view_name": "ProgressView",
            "style": "IPY_MODEL_948bc66222914e1dadee50c85a6a6448",
            "_dom_classes": [],
            "description": "",
            "_model_name": "FloatProgressModel",
            "bar_style": "success",
            "max": 9912422,
            "_view_module": "@jupyter-widgets/controls",
            "_model_module_version": "1.5.0",
            "value": 9912422,
            "_view_count": null,
            "_view_module_version": "1.5.0",
            "orientation": "horizontal",
            "min": 0,
            "description_tooltip": null,
            "_model_module": "@jupyter-widgets/controls",
            "layout": "IPY_MODEL_051e8e2f281f4128966be1d8c16f8553"
          }
        },
        "0426a0c194a14f63805ab1b9ff0d0b3e": {
          "model_module": "@jupyter-widgets/controls",
          "model_name": "HTMLModel",
          "model_module_version": "1.5.0",
          "state": {
            "_view_name": "HTMLView",
            "style": "IPY_MODEL_7226d2fbb63c4c33b1a22eac6327e4e7",
            "_dom_classes": [],
            "description": "",
            "_model_name": "HTMLModel",
            "placeholder": "​",
            "_view_module": "@jupyter-widgets/controls",
            "_model_module_version": "1.5.0",
            "value": " 9913344/? [00:00&lt;00:00, 14839979.41it/s]",
            "_view_count": null,
            "_view_module_version": "1.5.0",
            "description_tooltip": null,
            "_model_module": "@jupyter-widgets/controls",
            "layout": "IPY_MODEL_ba1af1a666af467b9dbeceb863628b6b"
          }
        },
        "4f740501d81a46c0a5f0379f4ffe19c8": {
          "model_module": "@jupyter-widgets/controls",
          "model_name": "DescriptionStyleModel",
          "model_module_version": "1.5.0",
          "state": {
            "_view_name": "StyleView",
            "_model_name": "DescriptionStyleModel",
            "description_width": "",
            "_view_module": "@jupyter-widgets/base",
            "_model_module_version": "1.5.0",
            "_view_count": null,
            "_view_module_version": "1.2.0",
            "_model_module": "@jupyter-widgets/controls"
          }
        },
        "e4aa35f6e1a14a5b86e94ab30bd1fd1d": {
          "model_module": "@jupyter-widgets/base",
          "model_name": "LayoutModel",
          "model_module_version": "1.2.0",
          "state": {
            "_view_name": "LayoutView",
            "grid_template_rows": null,
            "right": null,
            "justify_content": null,
            "_view_module": "@jupyter-widgets/base",
            "overflow": null,
            "_model_module_version": "1.2.0",
            "_view_count": null,
            "flex_flow": null,
            "width": null,
            "min_width": null,
            "border": null,
            "align_items": null,
            "bottom": null,
            "_model_module": "@jupyter-widgets/base",
            "top": null,
            "grid_column": null,
            "overflow_y": null,
            "overflow_x": null,
            "grid_auto_flow": null,
            "grid_area": null,
            "grid_template_columns": null,
            "flex": null,
            "_model_name": "LayoutModel",
            "justify_items": null,
            "grid_row": null,
            "max_height": null,
            "align_content": null,
            "visibility": null,
            "align_self": null,
            "height": null,
            "min_height": null,
            "padding": null,
            "grid_auto_rows": null,
            "grid_gap": null,
            "max_width": null,
            "order": null,
            "_view_module_version": "1.2.0",
            "grid_template_areas": null,
            "object_position": null,
            "object_fit": null,
            "grid_auto_columns": null,
            "margin": null,
            "display": null,
            "left": null
          }
        },
        "948bc66222914e1dadee50c85a6a6448": {
          "model_module": "@jupyter-widgets/controls",
          "model_name": "ProgressStyleModel",
          "model_module_version": "1.5.0",
          "state": {
            "_view_name": "StyleView",
            "_model_name": "ProgressStyleModel",
            "description_width": "",
            "_view_module": "@jupyter-widgets/base",
            "_model_module_version": "1.5.0",
            "_view_count": null,
            "_view_module_version": "1.2.0",
            "bar_color": null,
            "_model_module": "@jupyter-widgets/controls"
          }
        },
        "051e8e2f281f4128966be1d8c16f8553": {
          "model_module": "@jupyter-widgets/base",
          "model_name": "LayoutModel",
          "model_module_version": "1.2.0",
          "state": {
            "_view_name": "LayoutView",
            "grid_template_rows": null,
            "right": null,
            "justify_content": null,
            "_view_module": "@jupyter-widgets/base",
            "overflow": null,
            "_model_module_version": "1.2.0",
            "_view_count": null,
            "flex_flow": null,
            "width": null,
            "min_width": null,
            "border": null,
            "align_items": null,
            "bottom": null,
            "_model_module": "@jupyter-widgets/base",
            "top": null,
            "grid_column": null,
            "overflow_y": null,
            "overflow_x": null,
            "grid_auto_flow": null,
            "grid_area": null,
            "grid_template_columns": null,
            "flex": null,
            "_model_name": "LayoutModel",
            "justify_items": null,
            "grid_row": null,
            "max_height": null,
            "align_content": null,
            "visibility": null,
            "align_self": null,
            "height": null,
            "min_height": null,
            "padding": null,
            "grid_auto_rows": null,
            "grid_gap": null,
            "max_width": null,
            "order": null,
            "_view_module_version": "1.2.0",
            "grid_template_areas": null,
            "object_position": null,
            "object_fit": null,
            "grid_auto_columns": null,
            "margin": null,
            "display": null,
            "left": null
          }
        },
        "7226d2fbb63c4c33b1a22eac6327e4e7": {
          "model_module": "@jupyter-widgets/controls",
          "model_name": "DescriptionStyleModel",
          "model_module_version": "1.5.0",
          "state": {
            "_view_name": "StyleView",
            "_model_name": "DescriptionStyleModel",
            "description_width": "",
            "_view_module": "@jupyter-widgets/base",
            "_model_module_version": "1.5.0",
            "_view_count": null,
            "_view_module_version": "1.2.0",
            "_model_module": "@jupyter-widgets/controls"
          }
        },
        "ba1af1a666af467b9dbeceb863628b6b": {
          "model_module": "@jupyter-widgets/base",
          "model_name": "LayoutModel",
          "model_module_version": "1.2.0",
          "state": {
            "_view_name": "LayoutView",
            "grid_template_rows": null,
            "right": null,
            "justify_content": null,
            "_view_module": "@jupyter-widgets/base",
            "overflow": null,
            "_model_module_version": "1.2.0",
            "_view_count": null,
            "flex_flow": null,
            "width": null,
            "min_width": null,
            "border": null,
            "align_items": null,
            "bottom": null,
            "_model_module": "@jupyter-widgets/base",
            "top": null,
            "grid_column": null,
            "overflow_y": null,
            "overflow_x": null,
            "grid_auto_flow": null,
            "grid_area": null,
            "grid_template_columns": null,
            "flex": null,
            "_model_name": "LayoutModel",
            "justify_items": null,
            "grid_row": null,
            "max_height": null,
            "align_content": null,
            "visibility": null,
            "align_self": null,
            "height": null,
            "min_height": null,
            "padding": null,
            "grid_auto_rows": null,
            "grid_gap": null,
            "max_width": null,
            "order": null,
            "_view_module_version": "1.2.0",
            "grid_template_areas": null,
            "object_position": null,
            "object_fit": null,
            "grid_auto_columns": null,
            "margin": null,
            "display": null,
            "left": null
          }
        },
        "ceb18b9dfabb4552a8e6272d7f304ead": {
          "model_module": "@jupyter-widgets/controls",
          "model_name": "HBoxModel",
          "model_module_version": "1.5.0",
          "state": {
            "_view_name": "HBoxView",
            "_dom_classes": [],
            "_model_name": "HBoxModel",
            "_view_module": "@jupyter-widgets/controls",
            "_model_module_version": "1.5.0",
            "_view_count": null,
            "_view_module_version": "1.5.0",
            "box_style": "",
            "layout": "IPY_MODEL_add53f6deb9849f0b9a30aacacbe2036",
            "_model_module": "@jupyter-widgets/controls",
            "children": [
              "IPY_MODEL_9d352747466b491ca9f03d8b457adbeb",
              "IPY_MODEL_9b3da039176a454cb5029d9295740ebc",
              "IPY_MODEL_09ad2b28013a4c309e7f346bd70c179d"
            ]
          }
        },
        "add53f6deb9849f0b9a30aacacbe2036": {
          "model_module": "@jupyter-widgets/base",
          "model_name": "LayoutModel",
          "model_module_version": "1.2.0",
          "state": {
            "_view_name": "LayoutView",
            "grid_template_rows": null,
            "right": null,
            "justify_content": null,
            "_view_module": "@jupyter-widgets/base",
            "overflow": null,
            "_model_module_version": "1.2.0",
            "_view_count": null,
            "flex_flow": null,
            "width": null,
            "min_width": null,
            "border": null,
            "align_items": null,
            "bottom": null,
            "_model_module": "@jupyter-widgets/base",
            "top": null,
            "grid_column": null,
            "overflow_y": null,
            "overflow_x": null,
            "grid_auto_flow": null,
            "grid_area": null,
            "grid_template_columns": null,
            "flex": null,
            "_model_name": "LayoutModel",
            "justify_items": null,
            "grid_row": null,
            "max_height": null,
            "align_content": null,
            "visibility": null,
            "align_self": null,
            "height": null,
            "min_height": null,
            "padding": null,
            "grid_auto_rows": null,
            "grid_gap": null,
            "max_width": null,
            "order": null,
            "_view_module_version": "1.2.0",
            "grid_template_areas": null,
            "object_position": null,
            "object_fit": null,
            "grid_auto_columns": null,
            "margin": null,
            "display": null,
            "left": null
          }
        },
        "9d352747466b491ca9f03d8b457adbeb": {
          "model_module": "@jupyter-widgets/controls",
          "model_name": "HTMLModel",
          "model_module_version": "1.5.0",
          "state": {
            "_view_name": "HTMLView",
            "style": "IPY_MODEL_b85b96b97a8446eeb9d23a0901322fbb",
            "_dom_classes": [],
            "description": "",
            "_model_name": "HTMLModel",
            "placeholder": "​",
            "_view_module": "@jupyter-widgets/controls",
            "_model_module_version": "1.5.0",
            "value": "",
            "_view_count": null,
            "_view_module_version": "1.5.0",
            "description_tooltip": null,
            "_model_module": "@jupyter-widgets/controls",
            "layout": "IPY_MODEL_5170b56503414765b3eda76c1d735892"
          }
        },
        "9b3da039176a454cb5029d9295740ebc": {
          "model_module": "@jupyter-widgets/controls",
          "model_name": "FloatProgressModel",
          "model_module_version": "1.5.0",
          "state": {
            "_view_name": "ProgressView",
            "style": "IPY_MODEL_df0608e556f444219a01b7511d565ab2",
            "_dom_classes": [],
            "description": "",
            "_model_name": "FloatProgressModel",
            "bar_style": "success",
            "max": 28881,
            "_view_module": "@jupyter-widgets/controls",
            "_model_module_version": "1.5.0",
            "value": 28881,
            "_view_count": null,
            "_view_module_version": "1.5.0",
            "orientation": "horizontal",
            "min": 0,
            "description_tooltip": null,
            "_model_module": "@jupyter-widgets/controls",
            "layout": "IPY_MODEL_003a8546a0a340699758b2a237943d32"
          }
        },
        "09ad2b28013a4c309e7f346bd70c179d": {
          "model_module": "@jupyter-widgets/controls",
          "model_name": "HTMLModel",
          "model_module_version": "1.5.0",
          "state": {
            "_view_name": "HTMLView",
            "style": "IPY_MODEL_e52107a253a4470ca822a47daa4d847d",
            "_dom_classes": [],
            "description": "",
            "_model_name": "HTMLModel",
            "placeholder": "​",
            "_view_module": "@jupyter-widgets/controls",
            "_model_module_version": "1.5.0",
            "value": " 29696/? [00:00&lt;00:00, 657155.94it/s]",
            "_view_count": null,
            "_view_module_version": "1.5.0",
            "description_tooltip": null,
            "_model_module": "@jupyter-widgets/controls",
            "layout": "IPY_MODEL_f6f983e4b9934ef68a640a44282bb9cc"
          }
        },
        "b85b96b97a8446eeb9d23a0901322fbb": {
          "model_module": "@jupyter-widgets/controls",
          "model_name": "DescriptionStyleModel",
          "model_module_version": "1.5.0",
          "state": {
            "_view_name": "StyleView",
            "_model_name": "DescriptionStyleModel",
            "description_width": "",
            "_view_module": "@jupyter-widgets/base",
            "_model_module_version": "1.5.0",
            "_view_count": null,
            "_view_module_version": "1.2.0",
            "_model_module": "@jupyter-widgets/controls"
          }
        },
        "5170b56503414765b3eda76c1d735892": {
          "model_module": "@jupyter-widgets/base",
          "model_name": "LayoutModel",
          "model_module_version": "1.2.0",
          "state": {
            "_view_name": "LayoutView",
            "grid_template_rows": null,
            "right": null,
            "justify_content": null,
            "_view_module": "@jupyter-widgets/base",
            "overflow": null,
            "_model_module_version": "1.2.0",
            "_view_count": null,
            "flex_flow": null,
            "width": null,
            "min_width": null,
            "border": null,
            "align_items": null,
            "bottom": null,
            "_model_module": "@jupyter-widgets/base",
            "top": null,
            "grid_column": null,
            "overflow_y": null,
            "overflow_x": null,
            "grid_auto_flow": null,
            "grid_area": null,
            "grid_template_columns": null,
            "flex": null,
            "_model_name": "LayoutModel",
            "justify_items": null,
            "grid_row": null,
            "max_height": null,
            "align_content": null,
            "visibility": null,
            "align_self": null,
            "height": null,
            "min_height": null,
            "padding": null,
            "grid_auto_rows": null,
            "grid_gap": null,
            "max_width": null,
            "order": null,
            "_view_module_version": "1.2.0",
            "grid_template_areas": null,
            "object_position": null,
            "object_fit": null,
            "grid_auto_columns": null,
            "margin": null,
            "display": null,
            "left": null
          }
        },
        "df0608e556f444219a01b7511d565ab2": {
          "model_module": "@jupyter-widgets/controls",
          "model_name": "ProgressStyleModel",
          "model_module_version": "1.5.0",
          "state": {
            "_view_name": "StyleView",
            "_model_name": "ProgressStyleModel",
            "description_width": "",
            "_view_module": "@jupyter-widgets/base",
            "_model_module_version": "1.5.0",
            "_view_count": null,
            "_view_module_version": "1.2.0",
            "bar_color": null,
            "_model_module": "@jupyter-widgets/controls"
          }
        },
        "003a8546a0a340699758b2a237943d32": {
          "model_module": "@jupyter-widgets/base",
          "model_name": "LayoutModel",
          "model_module_version": "1.2.0",
          "state": {
            "_view_name": "LayoutView",
            "grid_template_rows": null,
            "right": null,
            "justify_content": null,
            "_view_module": "@jupyter-widgets/base",
            "overflow": null,
            "_model_module_version": "1.2.0",
            "_view_count": null,
            "flex_flow": null,
            "width": null,
            "min_width": null,
            "border": null,
            "align_items": null,
            "bottom": null,
            "_model_module": "@jupyter-widgets/base",
            "top": null,
            "grid_column": null,
            "overflow_y": null,
            "overflow_x": null,
            "grid_auto_flow": null,
            "grid_area": null,
            "grid_template_columns": null,
            "flex": null,
            "_model_name": "LayoutModel",
            "justify_items": null,
            "grid_row": null,
            "max_height": null,
            "align_content": null,
            "visibility": null,
            "align_self": null,
            "height": null,
            "min_height": null,
            "padding": null,
            "grid_auto_rows": null,
            "grid_gap": null,
            "max_width": null,
            "order": null,
            "_view_module_version": "1.2.0",
            "grid_template_areas": null,
            "object_position": null,
            "object_fit": null,
            "grid_auto_columns": null,
            "margin": null,
            "display": null,
            "left": null
          }
        },
        "e52107a253a4470ca822a47daa4d847d": {
          "model_module": "@jupyter-widgets/controls",
          "model_name": "DescriptionStyleModel",
          "model_module_version": "1.5.0",
          "state": {
            "_view_name": "StyleView",
            "_model_name": "DescriptionStyleModel",
            "description_width": "",
            "_view_module": "@jupyter-widgets/base",
            "_model_module_version": "1.5.0",
            "_view_count": null,
            "_view_module_version": "1.2.0",
            "_model_module": "@jupyter-widgets/controls"
          }
        },
        "f6f983e4b9934ef68a640a44282bb9cc": {
          "model_module": "@jupyter-widgets/base",
          "model_name": "LayoutModel",
          "model_module_version": "1.2.0",
          "state": {
            "_view_name": "LayoutView",
            "grid_template_rows": null,
            "right": null,
            "justify_content": null,
            "_view_module": "@jupyter-widgets/base",
            "overflow": null,
            "_model_module_version": "1.2.0",
            "_view_count": null,
            "flex_flow": null,
            "width": null,
            "min_width": null,
            "border": null,
            "align_items": null,
            "bottom": null,
            "_model_module": "@jupyter-widgets/base",
            "top": null,
            "grid_column": null,
            "overflow_y": null,
            "overflow_x": null,
            "grid_auto_flow": null,
            "grid_area": null,
            "grid_template_columns": null,
            "flex": null,
            "_model_name": "LayoutModel",
            "justify_items": null,
            "grid_row": null,
            "max_height": null,
            "align_content": null,
            "visibility": null,
            "align_self": null,
            "height": null,
            "min_height": null,
            "padding": null,
            "grid_auto_rows": null,
            "grid_gap": null,
            "max_width": null,
            "order": null,
            "_view_module_version": "1.2.0",
            "grid_template_areas": null,
            "object_position": null,
            "object_fit": null,
            "grid_auto_columns": null,
            "margin": null,
            "display": null,
            "left": null
          }
        },
        "6f0cf37e983140f5ba46659ac2012a1d": {
          "model_module": "@jupyter-widgets/controls",
          "model_name": "HBoxModel",
          "model_module_version": "1.5.0",
          "state": {
            "_view_name": "HBoxView",
            "_dom_classes": [],
            "_model_name": "HBoxModel",
            "_view_module": "@jupyter-widgets/controls",
            "_model_module_version": "1.5.0",
            "_view_count": null,
            "_view_module_version": "1.5.0",
            "box_style": "",
            "layout": "IPY_MODEL_667ae143e5a64f52b5f8b4648086e09f",
            "_model_module": "@jupyter-widgets/controls",
            "children": [
              "IPY_MODEL_406cba99995a47aeb35e2957a7f45ac9",
              "IPY_MODEL_2be0e6a822974a36bdc6fd56b9dd2dc3",
              "IPY_MODEL_53fa53f1db5944579c747d76c7475a3d"
            ]
          }
        },
        "667ae143e5a64f52b5f8b4648086e09f": {
          "model_module": "@jupyter-widgets/base",
          "model_name": "LayoutModel",
          "model_module_version": "1.2.0",
          "state": {
            "_view_name": "LayoutView",
            "grid_template_rows": null,
            "right": null,
            "justify_content": null,
            "_view_module": "@jupyter-widgets/base",
            "overflow": null,
            "_model_module_version": "1.2.0",
            "_view_count": null,
            "flex_flow": null,
            "width": null,
            "min_width": null,
            "border": null,
            "align_items": null,
            "bottom": null,
            "_model_module": "@jupyter-widgets/base",
            "top": null,
            "grid_column": null,
            "overflow_y": null,
            "overflow_x": null,
            "grid_auto_flow": null,
            "grid_area": null,
            "grid_template_columns": null,
            "flex": null,
            "_model_name": "LayoutModel",
            "justify_items": null,
            "grid_row": null,
            "max_height": null,
            "align_content": null,
            "visibility": null,
            "align_self": null,
            "height": null,
            "min_height": null,
            "padding": null,
            "grid_auto_rows": null,
            "grid_gap": null,
            "max_width": null,
            "order": null,
            "_view_module_version": "1.2.0",
            "grid_template_areas": null,
            "object_position": null,
            "object_fit": null,
            "grid_auto_columns": null,
            "margin": null,
            "display": null,
            "left": null
          }
        },
        "406cba99995a47aeb35e2957a7f45ac9": {
          "model_module": "@jupyter-widgets/controls",
          "model_name": "HTMLModel",
          "model_module_version": "1.5.0",
          "state": {
            "_view_name": "HTMLView",
            "style": "IPY_MODEL_2266d2f68c464fe5992f23d77a640caf",
            "_dom_classes": [],
            "description": "",
            "_model_name": "HTMLModel",
            "placeholder": "​",
            "_view_module": "@jupyter-widgets/controls",
            "_model_module_version": "1.5.0",
            "value": "",
            "_view_count": null,
            "_view_module_version": "1.5.0",
            "description_tooltip": null,
            "_model_module": "@jupyter-widgets/controls",
            "layout": "IPY_MODEL_4a26b3f39e234276a365ca4061cb46ae"
          }
        },
        "2be0e6a822974a36bdc6fd56b9dd2dc3": {
          "model_module": "@jupyter-widgets/controls",
          "model_name": "FloatProgressModel",
          "model_module_version": "1.5.0",
          "state": {
            "_view_name": "ProgressView",
            "style": "IPY_MODEL_d8a838b0aaa14ef6a232b41b939b9c27",
            "_dom_classes": [],
            "description": "",
            "_model_name": "FloatProgressModel",
            "bar_style": "success",
            "max": 1648877,
            "_view_module": "@jupyter-widgets/controls",
            "_model_module_version": "1.5.0",
            "value": 1648877,
            "_view_count": null,
            "_view_module_version": "1.5.0",
            "orientation": "horizontal",
            "min": 0,
            "description_tooltip": null,
            "_model_module": "@jupyter-widgets/controls",
            "layout": "IPY_MODEL_f5ea383942394641ad8ba33b99131b1e"
          }
        },
        "53fa53f1db5944579c747d76c7475a3d": {
          "model_module": "@jupyter-widgets/controls",
          "model_name": "HTMLModel",
          "model_module_version": "1.5.0",
          "state": {
            "_view_name": "HTMLView",
            "style": "IPY_MODEL_e04a8144152845e0ac23cdcd09e965a2",
            "_dom_classes": [],
            "description": "",
            "_model_name": "HTMLModel",
            "placeholder": "​",
            "_view_module": "@jupyter-widgets/controls",
            "_model_module_version": "1.5.0",
            "value": " 1649664/? [00:00&lt;00:00, 4352004.14it/s]",
            "_view_count": null,
            "_view_module_version": "1.5.0",
            "description_tooltip": null,
            "_model_module": "@jupyter-widgets/controls",
            "layout": "IPY_MODEL_ffe17d82e7924dbdb647c65ab5bd75c1"
          }
        },
        "2266d2f68c464fe5992f23d77a640caf": {
          "model_module": "@jupyter-widgets/controls",
          "model_name": "DescriptionStyleModel",
          "model_module_version": "1.5.0",
          "state": {
            "_view_name": "StyleView",
            "_model_name": "DescriptionStyleModel",
            "description_width": "",
            "_view_module": "@jupyter-widgets/base",
            "_model_module_version": "1.5.0",
            "_view_count": null,
            "_view_module_version": "1.2.0",
            "_model_module": "@jupyter-widgets/controls"
          }
        },
        "4a26b3f39e234276a365ca4061cb46ae": {
          "model_module": "@jupyter-widgets/base",
          "model_name": "LayoutModel",
          "model_module_version": "1.2.0",
          "state": {
            "_view_name": "LayoutView",
            "grid_template_rows": null,
            "right": null,
            "justify_content": null,
            "_view_module": "@jupyter-widgets/base",
            "overflow": null,
            "_model_module_version": "1.2.0",
            "_view_count": null,
            "flex_flow": null,
            "width": null,
            "min_width": null,
            "border": null,
            "align_items": null,
            "bottom": null,
            "_model_module": "@jupyter-widgets/base",
            "top": null,
            "grid_column": null,
            "overflow_y": null,
            "overflow_x": null,
            "grid_auto_flow": null,
            "grid_area": null,
            "grid_template_columns": null,
            "flex": null,
            "_model_name": "LayoutModel",
            "justify_items": null,
            "grid_row": null,
            "max_height": null,
            "align_content": null,
            "visibility": null,
            "align_self": null,
            "height": null,
            "min_height": null,
            "padding": null,
            "grid_auto_rows": null,
            "grid_gap": null,
            "max_width": null,
            "order": null,
            "_view_module_version": "1.2.0",
            "grid_template_areas": null,
            "object_position": null,
            "object_fit": null,
            "grid_auto_columns": null,
            "margin": null,
            "display": null,
            "left": null
          }
        },
        "d8a838b0aaa14ef6a232b41b939b9c27": {
          "model_module": "@jupyter-widgets/controls",
          "model_name": "ProgressStyleModel",
          "model_module_version": "1.5.0",
          "state": {
            "_view_name": "StyleView",
            "_model_name": "ProgressStyleModel",
            "description_width": "",
            "_view_module": "@jupyter-widgets/base",
            "_model_module_version": "1.5.0",
            "_view_count": null,
            "_view_module_version": "1.2.0",
            "bar_color": null,
            "_model_module": "@jupyter-widgets/controls"
          }
        },
        "f5ea383942394641ad8ba33b99131b1e": {
          "model_module": "@jupyter-widgets/base",
          "model_name": "LayoutModel",
          "model_module_version": "1.2.0",
          "state": {
            "_view_name": "LayoutView",
            "grid_template_rows": null,
            "right": null,
            "justify_content": null,
            "_view_module": "@jupyter-widgets/base",
            "overflow": null,
            "_model_module_version": "1.2.0",
            "_view_count": null,
            "flex_flow": null,
            "width": null,
            "min_width": null,
            "border": null,
            "align_items": null,
            "bottom": null,
            "_model_module": "@jupyter-widgets/base",
            "top": null,
            "grid_column": null,
            "overflow_y": null,
            "overflow_x": null,
            "grid_auto_flow": null,
            "grid_area": null,
            "grid_template_columns": null,
            "flex": null,
            "_model_name": "LayoutModel",
            "justify_items": null,
            "grid_row": null,
            "max_height": null,
            "align_content": null,
            "visibility": null,
            "align_self": null,
            "height": null,
            "min_height": null,
            "padding": null,
            "grid_auto_rows": null,
            "grid_gap": null,
            "max_width": null,
            "order": null,
            "_view_module_version": "1.2.0",
            "grid_template_areas": null,
            "object_position": null,
            "object_fit": null,
            "grid_auto_columns": null,
            "margin": null,
            "display": null,
            "left": null
          }
        },
        "e04a8144152845e0ac23cdcd09e965a2": {
          "model_module": "@jupyter-widgets/controls",
          "model_name": "DescriptionStyleModel",
          "model_module_version": "1.5.0",
          "state": {
            "_view_name": "StyleView",
            "_model_name": "DescriptionStyleModel",
            "description_width": "",
            "_view_module": "@jupyter-widgets/base",
            "_model_module_version": "1.5.0",
            "_view_count": null,
            "_view_module_version": "1.2.0",
            "_model_module": "@jupyter-widgets/controls"
          }
        },
        "ffe17d82e7924dbdb647c65ab5bd75c1": {
          "model_module": "@jupyter-widgets/base",
          "model_name": "LayoutModel",
          "model_module_version": "1.2.0",
          "state": {
            "_view_name": "LayoutView",
            "grid_template_rows": null,
            "right": null,
            "justify_content": null,
            "_view_module": "@jupyter-widgets/base",
            "overflow": null,
            "_model_module_version": "1.2.0",
            "_view_count": null,
            "flex_flow": null,
            "width": null,
            "min_width": null,
            "border": null,
            "align_items": null,
            "bottom": null,
            "_model_module": "@jupyter-widgets/base",
            "top": null,
            "grid_column": null,
            "overflow_y": null,
            "overflow_x": null,
            "grid_auto_flow": null,
            "grid_area": null,
            "grid_template_columns": null,
            "flex": null,
            "_model_name": "LayoutModel",
            "justify_items": null,
            "grid_row": null,
            "max_height": null,
            "align_content": null,
            "visibility": null,
            "align_self": null,
            "height": null,
            "min_height": null,
            "padding": null,
            "grid_auto_rows": null,
            "grid_gap": null,
            "max_width": null,
            "order": null,
            "_view_module_version": "1.2.0",
            "grid_template_areas": null,
            "object_position": null,
            "object_fit": null,
            "grid_auto_columns": null,
            "margin": null,
            "display": null,
            "left": null
          }
        },
        "f55335d876294a008035d1312ded8c59": {
          "model_module": "@jupyter-widgets/controls",
          "model_name": "HBoxModel",
          "model_module_version": "1.5.0",
          "state": {
            "_view_name": "HBoxView",
            "_dom_classes": [],
            "_model_name": "HBoxModel",
            "_view_module": "@jupyter-widgets/controls",
            "_model_module_version": "1.5.0",
            "_view_count": null,
            "_view_module_version": "1.5.0",
            "box_style": "",
            "layout": "IPY_MODEL_ef082cec426449dabd263a254167dcce",
            "_model_module": "@jupyter-widgets/controls",
            "children": [
              "IPY_MODEL_9eab1e5ed66841bc800d8de801983f2f",
              "IPY_MODEL_9a533e4d4b0f4d76859e18bedc575fa9",
              "IPY_MODEL_29e79792045745c6b2960d50e7466d13"
            ]
          }
        },
        "ef082cec426449dabd263a254167dcce": {
          "model_module": "@jupyter-widgets/base",
          "model_name": "LayoutModel",
          "model_module_version": "1.2.0",
          "state": {
            "_view_name": "LayoutView",
            "grid_template_rows": null,
            "right": null,
            "justify_content": null,
            "_view_module": "@jupyter-widgets/base",
            "overflow": null,
            "_model_module_version": "1.2.0",
            "_view_count": null,
            "flex_flow": null,
            "width": null,
            "min_width": null,
            "border": null,
            "align_items": null,
            "bottom": null,
            "_model_module": "@jupyter-widgets/base",
            "top": null,
            "grid_column": null,
            "overflow_y": null,
            "overflow_x": null,
            "grid_auto_flow": null,
            "grid_area": null,
            "grid_template_columns": null,
            "flex": null,
            "_model_name": "LayoutModel",
            "justify_items": null,
            "grid_row": null,
            "max_height": null,
            "align_content": null,
            "visibility": null,
            "align_self": null,
            "height": null,
            "min_height": null,
            "padding": null,
            "grid_auto_rows": null,
            "grid_gap": null,
            "max_width": null,
            "order": null,
            "_view_module_version": "1.2.0",
            "grid_template_areas": null,
            "object_position": null,
            "object_fit": null,
            "grid_auto_columns": null,
            "margin": null,
            "display": null,
            "left": null
          }
        },
        "9eab1e5ed66841bc800d8de801983f2f": {
          "model_module": "@jupyter-widgets/controls",
          "model_name": "HTMLModel",
          "model_module_version": "1.5.0",
          "state": {
            "_view_name": "HTMLView",
            "style": "IPY_MODEL_0fd8f6d11e324681b989912d064eb19b",
            "_dom_classes": [],
            "description": "",
            "_model_name": "HTMLModel",
            "placeholder": "​",
            "_view_module": "@jupyter-widgets/controls",
            "_model_module_version": "1.5.0",
            "value": "",
            "_view_count": null,
            "_view_module_version": "1.5.0",
            "description_tooltip": null,
            "_model_module": "@jupyter-widgets/controls",
            "layout": "IPY_MODEL_afc5101138c245f580247879e2f3092c"
          }
        },
        "9a533e4d4b0f4d76859e18bedc575fa9": {
          "model_module": "@jupyter-widgets/controls",
          "model_name": "FloatProgressModel",
          "model_module_version": "1.5.0",
          "state": {
            "_view_name": "ProgressView",
            "style": "IPY_MODEL_7ba2e7141ac44483815a620208d41613",
            "_dom_classes": [],
            "description": "",
            "_model_name": "FloatProgressModel",
            "bar_style": "success",
            "max": 4542,
            "_view_module": "@jupyter-widgets/controls",
            "_model_module_version": "1.5.0",
            "value": 4542,
            "_view_count": null,
            "_view_module_version": "1.5.0",
            "orientation": "horizontal",
            "min": 0,
            "description_tooltip": null,
            "_model_module": "@jupyter-widgets/controls",
            "layout": "IPY_MODEL_1b7e2402b5f44a9daebf777adf745cb8"
          }
        },
        "29e79792045745c6b2960d50e7466d13": {
          "model_module": "@jupyter-widgets/controls",
          "model_name": "HTMLModel",
          "model_module_version": "1.5.0",
          "state": {
            "_view_name": "HTMLView",
            "style": "IPY_MODEL_c503cb78cfb740c78c987b86c3b29c69",
            "_dom_classes": [],
            "description": "",
            "_model_name": "HTMLModel",
            "placeholder": "​",
            "_view_module": "@jupyter-widgets/controls",
            "_model_module_version": "1.5.0",
            "value": " 5120/? [00:00&lt;00:00, 121111.22it/s]",
            "_view_count": null,
            "_view_module_version": "1.5.0",
            "description_tooltip": null,
            "_model_module": "@jupyter-widgets/controls",
            "layout": "IPY_MODEL_185f39a27e0942a8b6b7c4c534bfeb1e"
          }
        },
        "0fd8f6d11e324681b989912d064eb19b": {
          "model_module": "@jupyter-widgets/controls",
          "model_name": "DescriptionStyleModel",
          "model_module_version": "1.5.0",
          "state": {
            "_view_name": "StyleView",
            "_model_name": "DescriptionStyleModel",
            "description_width": "",
            "_view_module": "@jupyter-widgets/base",
            "_model_module_version": "1.5.0",
            "_view_count": null,
            "_view_module_version": "1.2.0",
            "_model_module": "@jupyter-widgets/controls"
          }
        },
        "afc5101138c245f580247879e2f3092c": {
          "model_module": "@jupyter-widgets/base",
          "model_name": "LayoutModel",
          "model_module_version": "1.2.0",
          "state": {
            "_view_name": "LayoutView",
            "grid_template_rows": null,
            "right": null,
            "justify_content": null,
            "_view_module": "@jupyter-widgets/base",
            "overflow": null,
            "_model_module_version": "1.2.0",
            "_view_count": null,
            "flex_flow": null,
            "width": null,
            "min_width": null,
            "border": null,
            "align_items": null,
            "bottom": null,
            "_model_module": "@jupyter-widgets/base",
            "top": null,
            "grid_column": null,
            "overflow_y": null,
            "overflow_x": null,
            "grid_auto_flow": null,
            "grid_area": null,
            "grid_template_columns": null,
            "flex": null,
            "_model_name": "LayoutModel",
            "justify_items": null,
            "grid_row": null,
            "max_height": null,
            "align_content": null,
            "visibility": null,
            "align_self": null,
            "height": null,
            "min_height": null,
            "padding": null,
            "grid_auto_rows": null,
            "grid_gap": null,
            "max_width": null,
            "order": null,
            "_view_module_version": "1.2.0",
            "grid_template_areas": null,
            "object_position": null,
            "object_fit": null,
            "grid_auto_columns": null,
            "margin": null,
            "display": null,
            "left": null
          }
        },
        "7ba2e7141ac44483815a620208d41613": {
          "model_module": "@jupyter-widgets/controls",
          "model_name": "ProgressStyleModel",
          "model_module_version": "1.5.0",
          "state": {
            "_view_name": "StyleView",
            "_model_name": "ProgressStyleModel",
            "description_width": "",
            "_view_module": "@jupyter-widgets/base",
            "_model_module_version": "1.5.0",
            "_view_count": null,
            "_view_module_version": "1.2.0",
            "bar_color": null,
            "_model_module": "@jupyter-widgets/controls"
          }
        },
        "1b7e2402b5f44a9daebf777adf745cb8": {
          "model_module": "@jupyter-widgets/base",
          "model_name": "LayoutModel",
          "model_module_version": "1.2.0",
          "state": {
            "_view_name": "LayoutView",
            "grid_template_rows": null,
            "right": null,
            "justify_content": null,
            "_view_module": "@jupyter-widgets/base",
            "overflow": null,
            "_model_module_version": "1.2.0",
            "_view_count": null,
            "flex_flow": null,
            "width": null,
            "min_width": null,
            "border": null,
            "align_items": null,
            "bottom": null,
            "_model_module": "@jupyter-widgets/base",
            "top": null,
            "grid_column": null,
            "overflow_y": null,
            "overflow_x": null,
            "grid_auto_flow": null,
            "grid_area": null,
            "grid_template_columns": null,
            "flex": null,
            "_model_name": "LayoutModel",
            "justify_items": null,
            "grid_row": null,
            "max_height": null,
            "align_content": null,
            "visibility": null,
            "align_self": null,
            "height": null,
            "min_height": null,
            "padding": null,
            "grid_auto_rows": null,
            "grid_gap": null,
            "max_width": null,
            "order": null,
            "_view_module_version": "1.2.0",
            "grid_template_areas": null,
            "object_position": null,
            "object_fit": null,
            "grid_auto_columns": null,
            "margin": null,
            "display": null,
            "left": null
          }
        },
        "c503cb78cfb740c78c987b86c3b29c69": {
          "model_module": "@jupyter-widgets/controls",
          "model_name": "DescriptionStyleModel",
          "model_module_version": "1.5.0",
          "state": {
            "_view_name": "StyleView",
            "_model_name": "DescriptionStyleModel",
            "description_width": "",
            "_view_module": "@jupyter-widgets/base",
            "_model_module_version": "1.5.0",
            "_view_count": null,
            "_view_module_version": "1.2.0",
            "_model_module": "@jupyter-widgets/controls"
          }
        },
        "185f39a27e0942a8b6b7c4c534bfeb1e": {
          "model_module": "@jupyter-widgets/base",
          "model_name": "LayoutModel",
          "model_module_version": "1.2.0",
          "state": {
            "_view_name": "LayoutView",
            "grid_template_rows": null,
            "right": null,
            "justify_content": null,
            "_view_module": "@jupyter-widgets/base",
            "overflow": null,
            "_model_module_version": "1.2.0",
            "_view_count": null,
            "flex_flow": null,
            "width": null,
            "min_width": null,
            "border": null,
            "align_items": null,
            "bottom": null,
            "_model_module": "@jupyter-widgets/base",
            "top": null,
            "grid_column": null,
            "overflow_y": null,
            "overflow_x": null,
            "grid_auto_flow": null,
            "grid_area": null,
            "grid_template_columns": null,
            "flex": null,
            "_model_name": "LayoutModel",
            "justify_items": null,
            "grid_row": null,
            "max_height": null,
            "align_content": null,
            "visibility": null,
            "align_self": null,
            "height": null,
            "min_height": null,
            "padding": null,
            "grid_auto_rows": null,
            "grid_gap": null,
            "max_width": null,
            "order": null,
            "_view_module_version": "1.2.0",
            "grid_template_areas": null,
            "object_position": null,
            "object_fit": null,
            "grid_auto_columns": null,
            "margin": null,
            "display": null,
            "left": null
          }
        },
        "3e2231583d534c58b2f16afefdf905c4": {
          "model_module": "@jupyter-widgets/controls",
          "model_name": "HBoxModel",
          "model_module_version": "1.5.0",
          "state": {
            "_view_name": "HBoxView",
            "_dom_classes": [],
            "_model_name": "HBoxModel",
            "_view_module": "@jupyter-widgets/controls",
            "_model_module_version": "1.5.0",
            "_view_count": null,
            "_view_module_version": "1.5.0",
            "box_style": "",
            "layout": "IPY_MODEL_d686560409b04281b917bd530b28f18a",
            "_model_module": "@jupyter-widgets/controls",
            "children": [
              "IPY_MODEL_929efa7b73cd40b4b9f814537ed1d1da",
              "IPY_MODEL_34f6012dac204045a173681a4511ecfb",
              "IPY_MODEL_a4c0477291e845cfab92db2290023a2d"
            ]
          }
        },
        "d686560409b04281b917bd530b28f18a": {
          "model_module": "@jupyter-widgets/base",
          "model_name": "LayoutModel",
          "model_module_version": "1.2.0",
          "state": {
            "_view_name": "LayoutView",
            "grid_template_rows": null,
            "right": null,
            "justify_content": null,
            "_view_module": "@jupyter-widgets/base",
            "overflow": null,
            "_model_module_version": "1.2.0",
            "_view_count": null,
            "flex_flow": null,
            "width": null,
            "min_width": null,
            "border": null,
            "align_items": null,
            "bottom": null,
            "_model_module": "@jupyter-widgets/base",
            "top": null,
            "grid_column": null,
            "overflow_y": null,
            "overflow_x": null,
            "grid_auto_flow": null,
            "grid_area": null,
            "grid_template_columns": null,
            "flex": null,
            "_model_name": "LayoutModel",
            "justify_items": null,
            "grid_row": null,
            "max_height": null,
            "align_content": null,
            "visibility": null,
            "align_self": null,
            "height": null,
            "min_height": null,
            "padding": null,
            "grid_auto_rows": null,
            "grid_gap": null,
            "max_width": null,
            "order": null,
            "_view_module_version": "1.2.0",
            "grid_template_areas": null,
            "object_position": null,
            "object_fit": null,
            "grid_auto_columns": null,
            "margin": null,
            "display": null,
            "left": null
          }
        },
        "929efa7b73cd40b4b9f814537ed1d1da": {
          "model_module": "@jupyter-widgets/controls",
          "model_name": "HTMLModel",
          "model_module_version": "1.5.0",
          "state": {
            "_view_name": "HTMLView",
            "style": "IPY_MODEL_ac96828008db4387978af49920690de3",
            "_dom_classes": [],
            "description": "",
            "_model_name": "HTMLModel",
            "placeholder": "​",
            "_view_module": "@jupyter-widgets/controls",
            "_model_module_version": "1.5.0",
            "value": "100%",
            "_view_count": null,
            "_view_module_version": "1.5.0",
            "description_tooltip": null,
            "_model_module": "@jupyter-widgets/controls",
            "layout": "IPY_MODEL_e5198caee9f04a71b3f02a165d437117"
          }
        },
        "34f6012dac204045a173681a4511ecfb": {
          "model_module": "@jupyter-widgets/controls",
          "model_name": "FloatProgressModel",
          "model_module_version": "1.5.0",
          "state": {
            "_view_name": "ProgressView",
            "style": "IPY_MODEL_87e14cdf630542e5828746dc50e2d11e",
            "_dom_classes": [],
            "description": "",
            "_model_name": "FloatProgressModel",
            "bar_style": "success",
            "max": 100,
            "_view_module": "@jupyter-widgets/controls",
            "_model_module_version": "1.5.0",
            "value": 100,
            "_view_count": null,
            "_view_module_version": "1.5.0",
            "orientation": "horizontal",
            "min": 0,
            "description_tooltip": null,
            "_model_module": "@jupyter-widgets/controls",
            "layout": "IPY_MODEL_9a3a9970f58b4b359eee6ed38a4752f6"
          }
        },
        "a4c0477291e845cfab92db2290023a2d": {
          "model_module": "@jupyter-widgets/controls",
          "model_name": "HTMLModel",
          "model_module_version": "1.5.0",
          "state": {
            "_view_name": "HTMLView",
            "style": "IPY_MODEL_520884e46dba4877a3fe1ba62e3c2872",
            "_dom_classes": [],
            "description": "",
            "_model_name": "HTMLModel",
            "placeholder": "​",
            "_view_module": "@jupyter-widgets/controls",
            "_model_module_version": "1.5.0",
            "value": " 100/100 [20:50&lt;00:00, 12.50s/it]",
            "_view_count": null,
            "_view_module_version": "1.5.0",
            "description_tooltip": null,
            "_model_module": "@jupyter-widgets/controls",
            "layout": "IPY_MODEL_b6b43d8d6f0b431aa0144f8bd6ae5b93"
          }
        },
        "ac96828008db4387978af49920690de3": {
          "model_module": "@jupyter-widgets/controls",
          "model_name": "DescriptionStyleModel",
          "model_module_version": "1.5.0",
          "state": {
            "_view_name": "StyleView",
            "_model_name": "DescriptionStyleModel",
            "description_width": "",
            "_view_module": "@jupyter-widgets/base",
            "_model_module_version": "1.5.0",
            "_view_count": null,
            "_view_module_version": "1.2.0",
            "_model_module": "@jupyter-widgets/controls"
          }
        },
        "e5198caee9f04a71b3f02a165d437117": {
          "model_module": "@jupyter-widgets/base",
          "model_name": "LayoutModel",
          "model_module_version": "1.2.0",
          "state": {
            "_view_name": "LayoutView",
            "grid_template_rows": null,
            "right": null,
            "justify_content": null,
            "_view_module": "@jupyter-widgets/base",
            "overflow": null,
            "_model_module_version": "1.2.0",
            "_view_count": null,
            "flex_flow": null,
            "width": null,
            "min_width": null,
            "border": null,
            "align_items": null,
            "bottom": null,
            "_model_module": "@jupyter-widgets/base",
            "top": null,
            "grid_column": null,
            "overflow_y": null,
            "overflow_x": null,
            "grid_auto_flow": null,
            "grid_area": null,
            "grid_template_columns": null,
            "flex": null,
            "_model_name": "LayoutModel",
            "justify_items": null,
            "grid_row": null,
            "max_height": null,
            "align_content": null,
            "visibility": null,
            "align_self": null,
            "height": null,
            "min_height": null,
            "padding": null,
            "grid_auto_rows": null,
            "grid_gap": null,
            "max_width": null,
            "order": null,
            "_view_module_version": "1.2.0",
            "grid_template_areas": null,
            "object_position": null,
            "object_fit": null,
            "grid_auto_columns": null,
            "margin": null,
            "display": null,
            "left": null
          }
        },
        "87e14cdf630542e5828746dc50e2d11e": {
          "model_module": "@jupyter-widgets/controls",
          "model_name": "ProgressStyleModel",
          "model_module_version": "1.5.0",
          "state": {
            "_view_name": "StyleView",
            "_model_name": "ProgressStyleModel",
            "description_width": "",
            "_view_module": "@jupyter-widgets/base",
            "_model_module_version": "1.5.0",
            "_view_count": null,
            "_view_module_version": "1.2.0",
            "bar_color": null,
            "_model_module": "@jupyter-widgets/controls"
          }
        },
        "9a3a9970f58b4b359eee6ed38a4752f6": {
          "model_module": "@jupyter-widgets/base",
          "model_name": "LayoutModel",
          "model_module_version": "1.2.0",
          "state": {
            "_view_name": "LayoutView",
            "grid_template_rows": null,
            "right": null,
            "justify_content": null,
            "_view_module": "@jupyter-widgets/base",
            "overflow": null,
            "_model_module_version": "1.2.0",
            "_view_count": null,
            "flex_flow": null,
            "width": null,
            "min_width": null,
            "border": null,
            "align_items": null,
            "bottom": null,
            "_model_module": "@jupyter-widgets/base",
            "top": null,
            "grid_column": null,
            "overflow_y": null,
            "overflow_x": null,
            "grid_auto_flow": null,
            "grid_area": null,
            "grid_template_columns": null,
            "flex": null,
            "_model_name": "LayoutModel",
            "justify_items": null,
            "grid_row": null,
            "max_height": null,
            "align_content": null,
            "visibility": null,
            "align_self": null,
            "height": null,
            "min_height": null,
            "padding": null,
            "grid_auto_rows": null,
            "grid_gap": null,
            "max_width": null,
            "order": null,
            "_view_module_version": "1.2.0",
            "grid_template_areas": null,
            "object_position": null,
            "object_fit": null,
            "grid_auto_columns": null,
            "margin": null,
            "display": null,
            "left": null
          }
        },
        "520884e46dba4877a3fe1ba62e3c2872": {
          "model_module": "@jupyter-widgets/controls",
          "model_name": "DescriptionStyleModel",
          "model_module_version": "1.5.0",
          "state": {
            "_view_name": "StyleView",
            "_model_name": "DescriptionStyleModel",
            "description_width": "",
            "_view_module": "@jupyter-widgets/base",
            "_model_module_version": "1.5.0",
            "_view_count": null,
            "_view_module_version": "1.2.0",
            "_model_module": "@jupyter-widgets/controls"
          }
        },
        "b6b43d8d6f0b431aa0144f8bd6ae5b93": {
          "model_module": "@jupyter-widgets/base",
          "model_name": "LayoutModel",
          "model_module_version": "1.2.0",
          "state": {
            "_view_name": "LayoutView",
            "grid_template_rows": null,
            "right": null,
            "justify_content": null,
            "_view_module": "@jupyter-widgets/base",
            "overflow": null,
            "_model_module_version": "1.2.0",
            "_view_count": null,
            "flex_flow": null,
            "width": null,
            "min_width": null,
            "border": null,
            "align_items": null,
            "bottom": null,
            "_model_module": "@jupyter-widgets/base",
            "top": null,
            "grid_column": null,
            "overflow_y": null,
            "overflow_x": null,
            "grid_auto_flow": null,
            "grid_area": null,
            "grid_template_columns": null,
            "flex": null,
            "_model_name": "LayoutModel",
            "justify_items": null,
            "grid_row": null,
            "max_height": null,
            "align_content": null,
            "visibility": null,
            "align_self": null,
            "height": null,
            "min_height": null,
            "padding": null,
            "grid_auto_rows": null,
            "grid_gap": null,
            "max_width": null,
            "order": null,
            "_view_module_version": "1.2.0",
            "grid_template_areas": null,
            "object_position": null,
            "object_fit": null,
            "grid_auto_columns": null,
            "margin": null,
            "display": null,
            "left": null
          }
        }
      }
    }
  },
  "cells": [
    {
      "cell_type": "markdown",
      "metadata": {
        "id": "Qmxw_TVUX_AN"
      },
      "source": [
        "# Tutorial: Introduction to PyTorch\n",
        "\n",
        "![Status](https://img.shields.io/static/v1.svg?label=Status&message=Finished&color=green)\n",
        "\n",
        "**Filled notebook:** \n",
        "[![View filled on Github](https://img.shields.io/static/v1.svg?logo=github&label=Repo&message=View%20On%20Github&color=lightgrey)](https://github.com/thllwg/uvadlc_notebooks/blob/master/docs/tutorial_notebooks/tutorial2/Introduction_to_PyTorch.ipynb)\n",
        "[![Open filled In Collab](https://colab.research.google.com/assets/colab-badge.svg)](https://colab.research.google.com/github/thllwg/uvadlc_notebooks/blob/master/docs/tutorial_notebooks/tutorial2/Introduction_to_PyTorch.ipynb)   \n",
        "\n",
        "**Original Author:** [Phillip Lippe](https://github.com/phlippe) | **Modified for WWU:** [Thorben Hellweg](https://github.com/thllwg/)"
      ]
    },
    {
      "cell_type": "markdown",
      "metadata": {
        "id": "s_PRYhLBX_AQ"
      },
      "source": [
        "Welcome to the PyTorch tutorial for the Recent Trends in Deep Learning couse 2021 at the University of Münster. This notebook is a modified fork of the great [PyTorch tutorial for the Deep Learning course 2021 at the University of Amsterdam](https://github.com/phlippe/uvadlc_notebooks/tree/master/docs/tutorial_notebooks/tutorial2)! It is meant to give a short introduction to PyTorch basics, and get you setup for writing your own neural networks. PyTorch is an open source machine learning framework that allows you to write your own neural networks and optimize them efficiently. Alternatives to PyTorch include [TensorFlow](https://www.tensorflow.org/), [JAX](https://github.com/google/jax#quickstart-colab-in-the-cloud) and [Caffe](http://caffe.berkeleyvision.org/). As many of the recent papers we discuss in this seminar published their code in PyTorch, we think you will profit from understanding the basic concepts behind it. Additionally, if you know one machine learning framework in depth, it is very easy to learn another one because many of them use the same concepts and ideas. \n",
        "\n",
        "We will use a set of standard libraries that are often used in machine learning projects. We assume that you are running this notebook on Google Colab, so all libraries should be pre-installed. "
      ]
    },
    {
      "cell_type": "code",
      "metadata": {
        "id": "eoqOPEgBX_AR"
      },
      "source": [
        "## Standard libraries\n",
        "import os\n",
        "import math\n",
        "import numpy as np \n",
        "import time\n",
        "\n",
        "## Imports for plotting\n",
        "import matplotlib.pyplot as plt\n",
        "%matplotlib inline \n",
        "from IPython.display import set_matplotlib_formats\n",
        "set_matplotlib_formats('svg', 'pdf') # For export\n",
        "from matplotlib.colors import to_rgba\n",
        "import seaborn as sns\n",
        "sns.set()\n",
        "\n",
        "## Progress bar\n",
        "from tqdm.notebook import tqdm"
      ],
      "execution_count": 1,
      "outputs": []
    },
    {
      "cell_type": "markdown",
      "metadata": {
        "id": "zJDiVsXIX_AT"
      },
      "source": [
        "## The Basics of PyTorch\n",
        "\n",
        "We will start with reviewing the very basic concepts of PyTorch. As a prerequisite, we recommend to be familiar with the `numpy` package as most machine learning frameworks are based on very similar concepts. If you are not familiar with numpy yet, don't worry: here is a [tutorial](https://numpy.org/devdocs/user/quickstart.html) to go through. \n",
        "\n",
        "So, let's start with importing PyTorch. The package is called `torch`, based on its original framework [Torch](http://torch.ch/). As a first step, we can check its version:"
      ]
    },
    {
      "cell_type": "code",
      "metadata": {
        "colab": {
          "base_uri": "https://localhost:8080/"
        },
        "id": "W-uN9fQRX_AU",
        "outputId": "06200314-9790-40f6-fe2f-8ed44864ac14"
      },
      "source": [
        "import torch\n",
        "print(\"Using torch\", torch.__version__)"
      ],
      "execution_count": 2,
      "outputs": [
        {
          "output_type": "stream",
          "name": "stdout",
          "text": [
            "Using torch 1.10.0+cu111\n"
          ]
        }
      ]
    },
    {
      "cell_type": "markdown",
      "metadata": {
        "id": "F3VW37YVX_AV"
      },
      "source": [
        "At the time of modifying this tutorial (mid of November 2021), the current stable version is 1.10. You should therefore see the output `Using torch 1.10.0` or `Using torch 1.9.0`, eventually with some extension for the CUDA version on Colab. However, the interface between PyTorch versions doesn't change too much, and hence all code should also be runnable with newer versions.\n",
        "\n",
        "As in every machine learning framework, PyTorch provides functions that are stochastic like generating random numbers. Thus, a very good practice is to setup your code to be reproducible with the exact same random numbers. This is why we set a seed below. "
      ]
    },
    {
      "cell_type": "code",
      "metadata": {
        "colab": {
          "base_uri": "https://localhost:8080/"
        },
        "id": "l7u2mDjAX_AW",
        "outputId": "82d2328e-2e83-4d79-fba6-a1e0a03c1a1c"
      },
      "source": [
        "torch.manual_seed(42) # Setting the seed"
      ],
      "execution_count": 3,
      "outputs": [
        {
          "output_type": "execute_result",
          "data": {
            "text/plain": [
              "<torch._C.Generator at 0x7f61b2e86950>"
            ]
          },
          "metadata": {},
          "execution_count": 3
        }
      ]
    },
    {
      "cell_type": "markdown",
      "metadata": {
        "id": "Kq86s7pDX_AX"
      },
      "source": [
        "### Tensors\n",
        "\n",
        "Tensors are the PyTorch equivalent to `numpy` arrays, with the addition to also have support for GPU acceleration. The name \"tensor\" is a generalization of concepts you already know (figure from [https://medium.com/analytics-vidhya/data-representations-for-neural-networks-tensor-vector-scaler-basics-4beae5910398](https://medium.com/analytics-vidhya/data-representations-for-neural-networks-tensor-vector-scaler-basics-4beae5910398)) :\n",
        "\n",
        "![](https://miro.medium.com/max/647/0*D5zK4ERBMvDpDcYm.png)\n",
        "\n",
        "Tensors are used to encode the input, output and parameters of a model. Thus, working with neural networks means working with tensors of various shapes and number of dimensions. \n",
        "\n",
        "#### Initialization\n",
        "\n",
        "Let's first start by looking at different ways of creating a tensor. There are many possible options, the most simple one is to call `torch.Tensor` passing the desired shape as input argument:"
      ]
    },
    {
      "cell_type": "code",
      "metadata": {
        "colab": {
          "base_uri": "https://localhost:8080/"
        },
        "id": "FBk5QUDOX_AX",
        "outputId": "2a741ea6-7721-4ac0-b548-f66c843ac0b1"
      },
      "source": [
        "x = torch.Tensor(2, 3, 4)\n",
        "print(x)"
      ],
      "execution_count": 4,
      "outputs": [
        {
          "output_type": "stream",
          "name": "stdout",
          "text": [
            "tensor([[[7.3001e+21, 3.0730e-41, 7.0065e-44, 6.8664e-44],\n",
            "         [6.3058e-44, 6.8664e-44, 6.8664e-44, 6.3058e-44],\n",
            "         [7.0065e-44, 7.0065e-44, 1.1771e-43, 6.8664e-44]],\n",
            "\n",
            "        [[6.8664e-44, 8.1275e-44, 7.2868e-44, 7.0065e-44],\n",
            "         [8.1275e-44, 6.8664e-44, 6.8664e-44, 6.4460e-44],\n",
            "         [7.9874e-44, 6.8664e-44, 7.2868e-44, 7.0065e-44]]])\n"
          ]
        }
      ]
    },
    {
      "cell_type": "markdown",
      "metadata": {
        "id": "bTemAve7X_AY"
      },
      "source": [
        "The function `torch.Tensor` allocates memory for the desired tensor, but reuses any values that have already been in the memory. To directly assign values to the tensor during initialization, there are many alternatives including:\n",
        "\n",
        "* `torch.zeros`: Creates a tensor filled with zeros\n",
        "* `torch.ones`: Creates a tensor filled with ones\n",
        "* `torch.rand`: Creates a tensor with random values uniformly sampled between 0 and 1\n",
        "* `torch.randn`: Creates a tensor with random values sampled from a normal distribution with mean 0 and variance 1\n",
        "* `torch.arange`: Creates a tensor containing the values $N,N+1,N+2,...,M$\n",
        "* `torch.Tensor` (input list): Creates a tensor from the list elements you provide\n",
        "* `torch.from_numpy`: Converts a numpy array into a PyTorch tensor"
      ]
    },
    {
      "cell_type": "code",
      "metadata": {
        "colab": {
          "base_uri": "https://localhost:8080/"
        },
        "id": "Xv-DbIF1X_AZ",
        "outputId": "b402db7e-1ee6-419c-8bf2-8bf5d08f0d1b"
      },
      "source": [
        "# Create a tensor from a (nested) list\n",
        "x = torch.Tensor([[1, 2], [3, 4]])\n",
        "print(x)"
      ],
      "execution_count": 5,
      "outputs": [
        {
          "output_type": "stream",
          "name": "stdout",
          "text": [
            "tensor([[1., 2.],\n",
            "        [3., 4.]])\n"
          ]
        }
      ]
    },
    {
      "cell_type": "code",
      "metadata": {
        "colab": {
          "base_uri": "https://localhost:8080/"
        },
        "id": "b3zT-53DX_Aa",
        "outputId": "f11124ac-c7b2-4369-cf81-17debff9d48b"
      },
      "source": [
        "# Create a tensor with random values between 0 and 1 with the shape [2, 3, 4]\n",
        "x = torch.rand(2, 3, 4)\n",
        "print(x)"
      ],
      "execution_count": 6,
      "outputs": [
        {
          "output_type": "stream",
          "name": "stdout",
          "text": [
            "tensor([[[0.8823, 0.9150, 0.3829, 0.9593],\n",
            "         [0.3904, 0.6009, 0.2566, 0.7936],\n",
            "         [0.9408, 0.1332, 0.9346, 0.5936]],\n",
            "\n",
            "        [[0.8694, 0.5677, 0.7411, 0.4294],\n",
            "         [0.8854, 0.5739, 0.2666, 0.6274],\n",
            "         [0.2696, 0.4414, 0.2969, 0.8317]]])\n"
          ]
        }
      ]
    },
    {
      "cell_type": "markdown",
      "metadata": {
        "id": "ggHdFNiKX_Ab"
      },
      "source": [
        "You can obtain the shape of a tensor in the same way as in numpy (`x.shape`), or using the `.size` method:"
      ]
    },
    {
      "cell_type": "code",
      "metadata": {
        "colab": {
          "base_uri": "https://localhost:8080/"
        },
        "id": "1QKMK92NX_Ab",
        "outputId": "ed29f0c4-8a26-4408-e31b-17f2cbcadb49"
      },
      "source": [
        "shape = x.shape\n",
        "print(\"Shape:\", x.shape)\n",
        "\n",
        "size = x.size()\n",
        "print(\"Size:\", size)"
      ],
      "execution_count": 7,
      "outputs": [
        {
          "output_type": "stream",
          "name": "stdout",
          "text": [
            "Shape: torch.Size([2, 3, 4])\n",
            "Size: torch.Size([2, 3, 4])\n"
          ]
        }
      ]
    },
    {
      "cell_type": "markdown",
      "metadata": {
        "id": "BquDu-9fX_Ae"
      },
      "source": [
        "#### Operations\n",
        "\n",
        "Most operations that exist in numpy, also exist in PyTorch. A full list of operations can be found in the [PyTorch documentation](https://pytorch.org/docs/stable/tensors.html#), but we will review the most important ones here.\n",
        "\n",
        "The simplest operation is to add two tensors:"
      ]
    },
    {
      "cell_type": "code",
      "metadata": {
        "colab": {
          "base_uri": "https://localhost:8080/"
        },
        "id": "uE7F-cHaX_Ae",
        "outputId": "d2bfdb98-c3a1-4971-c07a-60c34eb6bf0d"
      },
      "source": [
        "x1 = torch.rand(2, 3)\n",
        "x2 = torch.rand(2, 3)\n",
        "y = x1 + x2\n",
        "\n",
        "print(\"X1\", x1)\n",
        "print(\"X2\", x2)\n",
        "print(\"Y\", y)"
      ],
      "execution_count": 10,
      "outputs": [
        {
          "output_type": "stream",
          "name": "stdout",
          "text": [
            "X1 tensor([[0.1053, 0.2695, 0.3588],\n",
            "        [0.1994, 0.5472, 0.0062]])\n",
            "X2 tensor([[0.9516, 0.0753, 0.8860],\n",
            "        [0.5832, 0.3376, 0.8090]])\n",
            "Y tensor([[1.0569, 0.3448, 1.2448],\n",
            "        [0.7826, 0.8848, 0.8151]])\n"
          ]
        }
      ]
    },
    {
      "cell_type": "markdown",
      "metadata": {
        "id": "7M6JBFeXX_Af"
      },
      "source": [
        "Calling `x1 + x2` creates a new tensor containing the sum of the two inputs. However, we can also use in-place operations that are applied directly on the memory of a tensor. We therefore change the values of `x2` without the chance to re-accessing the values of `x2` before the operation. An example is shown below:"
      ]
    },
    {
      "cell_type": "code",
      "metadata": {
        "colab": {
          "base_uri": "https://localhost:8080/"
        },
        "id": "BsD2pQogX_Af",
        "outputId": "b6df7e4c-492e-483a-c4db-2089982f2712"
      },
      "source": [
        "x1 = torch.rand(2, 3)\n",
        "x2 = torch.rand(2, 3)\n",
        "print(\"X1 (before)\", x1)\n",
        "print(\"X2 (before)\", x2)\n",
        "\n",
        "x2.add_(x1)\n",
        "print(\"X1 (after)\", x1)\n",
        "print(\"X2 (after)\", x2)"
      ],
      "execution_count": 11,
      "outputs": [
        {
          "output_type": "stream",
          "name": "stdout",
          "text": [
            "X1 (before) tensor([[0.5779, 0.9040, 0.5547],\n",
            "        [0.3423, 0.6343, 0.3644]])\n",
            "X2 (before) tensor([[0.7104, 0.9464, 0.7890],\n",
            "        [0.2814, 0.7886, 0.5895]])\n",
            "X1 (after) tensor([[0.5779, 0.9040, 0.5547],\n",
            "        [0.3423, 0.6343, 0.3644]])\n",
            "X2 (after) tensor([[1.2884, 1.8504, 1.3437],\n",
            "        [0.6237, 1.4230, 0.9539]])\n"
          ]
        }
      ]
    },
    {
      "cell_type": "markdown",
      "metadata": {
        "id": "ErmxoYDBX_Ag"
      },
      "source": [
        "In-place operations are usually marked with a underscore postfix (e.g. \"add_\" instead of \"add\").\n",
        "\n",
        "Another common operation aims at changing the shape of a tensor. A tensor of size (2,3) can be re-organized to any other shape with the same number of elements (e.g. a tensor of size (6), or (3,2), ...). In PyTorch, this operation is called `view`:"
      ]
    },
    {
      "cell_type": "code",
      "metadata": {
        "colab": {
          "base_uri": "https://localhost:8080/"
        },
        "id": "mJJ7wOuWX_Ag",
        "outputId": "d223edb7-f6ec-4d56-ab8e-14e768d7cd94"
      },
      "source": [
        "x = torch.arange(6)\n",
        "print(\"X\", x)"
      ],
      "execution_count": 12,
      "outputs": [
        {
          "output_type": "stream",
          "name": "stdout",
          "text": [
            "X tensor([0, 1, 2, 3, 4, 5])\n"
          ]
        }
      ]
    },
    {
      "cell_type": "code",
      "metadata": {
        "colab": {
          "base_uri": "https://localhost:8080/"
        },
        "id": "urvjW_VOX_Ag",
        "outputId": "0f2e37a1-f16d-43f8-86a4-c3c93b26de8b"
      },
      "source": [
        "x = x.view(2, 3)\n",
        "print(\"X\", x)"
      ],
      "execution_count": 13,
      "outputs": [
        {
          "output_type": "stream",
          "name": "stdout",
          "text": [
            "X tensor([[0, 1, 2],\n",
            "        [3, 4, 5]])\n"
          ]
        }
      ]
    },
    {
      "cell_type": "code",
      "metadata": {
        "colab": {
          "base_uri": "https://localhost:8080/"
        },
        "id": "LCLb9M1mX_Ah",
        "outputId": "ba33266c-a50a-4650-e170-7d9929641da6"
      },
      "source": [
        "x = x.permute(1, 0) # Swapping dimension 0 and 1\n",
        "print(\"X\", x)"
      ],
      "execution_count": 14,
      "outputs": [
        {
          "output_type": "stream",
          "name": "stdout",
          "text": [
            "X tensor([[0, 3],\n",
            "        [1, 4],\n",
            "        [2, 5]])\n"
          ]
        }
      ]
    },
    {
      "cell_type": "markdown",
      "metadata": {
        "id": "xLsPGc5zX_Ai"
      },
      "source": [
        "Other commonly used operations include matrix multiplications, which are essential for neural networks. Quite often, we have an input vector $\\mathbf{x}$, which is transformed using a learned weight matrix $\\mathbf{W}$. There are multiple ways and functions to perform matrix multiplication, some of which we list below:\n",
        "\n",
        "* `torch.matmul`: Performs the matrix product over two tensors, where the specific behavior depends on the dimensions. If both inputs are matrices (2-dimensional tensors), it performs the standard matrix product. For higher dimensional inputs, the function supports broadcasting (for details see the [documentation](https://pytorch.org/docs/stable/generated/torch.matmul.html?highlight=matmul#torch.matmul)). Can also be written as `a @ b`, similar to numpy. \n",
        "* `torch.mm`: Performs the matrix product over two matrices, but doesn't support broadcasting (see [documentation](https://pytorch.org/docs/stable/generated/torch.mm.html?highlight=torch%20mm#torch.mm))\n",
        "* `torch.bmm`: Performs the matrix product with a support batch dimension. If the first tensor $T$ is of shape ($b\\times n\\times m$), and the second tensor $R$ ($b\\times m\\times p$), the output $O$ is of shape ($b\\times n\\times p$), and has been calculated by performing $b$ matrix multiplications of the submatrices of $T$ and $R$: $O_i = T_i @ R_i$\n",
        "* `torch.einsum`: Performs matrix multiplications and more (i.e. sums of products) using the Einstein summation convention. \n",
        "\n",
        "We can try a matrix multiplication with `torch.matmul` below."
      ]
    },
    {
      "cell_type": "code",
      "metadata": {
        "colab": {
          "base_uri": "https://localhost:8080/"
        },
        "id": "g-gPIS05X_Ai",
        "outputId": "9463f87a-1e87-41c4-c519-d647b131efa3"
      },
      "source": [
        "x = torch.arange(6)\n",
        "x = x.view(2, 3)\n",
        "print(\"X\", x)"
      ],
      "execution_count": 15,
      "outputs": [
        {
          "output_type": "stream",
          "name": "stdout",
          "text": [
            "X tensor([[0, 1, 2],\n",
            "        [3, 4, 5]])\n"
          ]
        }
      ]
    },
    {
      "cell_type": "code",
      "metadata": {
        "colab": {
          "base_uri": "https://localhost:8080/"
        },
        "id": "t8W6iV7jX_Ai",
        "outputId": "51e15329-5b60-48cb-f80b-b95c152f3518"
      },
      "source": [
        "W = torch.arange(9).view(3, 3) # We can also stack multiple operations in a single line\n",
        "print(\"W\", W)"
      ],
      "execution_count": 16,
      "outputs": [
        {
          "output_type": "stream",
          "name": "stdout",
          "text": [
            "W tensor([[0, 1, 2],\n",
            "        [3, 4, 5],\n",
            "        [6, 7, 8]])\n"
          ]
        }
      ]
    },
    {
      "cell_type": "code",
      "metadata": {
        "colab": {
          "base_uri": "https://localhost:8080/"
        },
        "id": "poyJWZ23X_Aj",
        "outputId": "d783d569-f0c6-4b0c-e809-0b7661930094"
      },
      "source": [
        "h = torch.matmul(x, W) # Verify the result by calculating it by hand too!\n",
        "print(\"h\", h)"
      ],
      "execution_count": 17,
      "outputs": [
        {
          "output_type": "stream",
          "name": "stdout",
          "text": [
            "h tensor([[15, 18, 21],\n",
            "        [42, 54, 66]])\n"
          ]
        }
      ]
    },
    {
      "cell_type": "markdown",
      "metadata": {
        "id": "lUJevh6fX_Aj"
      },
      "source": [
        "#### Indexing\n",
        "\n",
        "We often have the situation where we need to select a part of a tensor. Indexing works just like in numpy, so let's try it:"
      ]
    },
    {
      "cell_type": "code",
      "metadata": {
        "colab": {
          "base_uri": "https://localhost:8080/"
        },
        "id": "CM4HECUFX_Ak",
        "outputId": "8d23a95c-9f05-4e9b-8a36-fc8bf4e059e1"
      },
      "source": [
        "x = torch.arange(12).view(3, 4)\n",
        "print(\"X\", x)"
      ],
      "execution_count": 18,
      "outputs": [
        {
          "output_type": "stream",
          "name": "stdout",
          "text": [
            "X tensor([[ 0,  1,  2,  3],\n",
            "        [ 4,  5,  6,  7],\n",
            "        [ 8,  9, 10, 11]])\n"
          ]
        }
      ]
    },
    {
      "cell_type": "code",
      "metadata": {
        "colab": {
          "base_uri": "https://localhost:8080/"
        },
        "id": "QCqXr5-GX_Ak",
        "outputId": "6c1f9b1e-39b8-409a-85f4-468ffef911ef"
      },
      "source": [
        "print(x[:, 1])   # Second column"
      ],
      "execution_count": 19,
      "outputs": [
        {
          "output_type": "stream",
          "name": "stdout",
          "text": [
            "tensor([1, 5, 9])\n"
          ]
        }
      ]
    },
    {
      "cell_type": "code",
      "metadata": {
        "colab": {
          "base_uri": "https://localhost:8080/"
        },
        "id": "MmbWVjfRX_Al",
        "outputId": "afa2b8af-b988-4248-c849-ea1a36cee25b"
      },
      "source": [
        "print(x[0])      # First row"
      ],
      "execution_count": 20,
      "outputs": [
        {
          "output_type": "stream",
          "name": "stdout",
          "text": [
            "tensor([0, 1, 2, 3])\n"
          ]
        }
      ]
    },
    {
      "cell_type": "code",
      "metadata": {
        "colab": {
          "base_uri": "https://localhost:8080/"
        },
        "id": "lyuYJSpQX_Al",
        "outputId": "958f271b-0a78-4e91-ec20-7555999dbc5f"
      },
      "source": [
        "print(x[:2, -1]) # First two rows, last column"
      ],
      "execution_count": 21,
      "outputs": [
        {
          "output_type": "stream",
          "name": "stdout",
          "text": [
            "tensor([3, 7])\n"
          ]
        }
      ]
    },
    {
      "cell_type": "code",
      "metadata": {
        "colab": {
          "base_uri": "https://localhost:8080/"
        },
        "id": "NrHtdPJwX_Al",
        "outputId": "27389643-a9e7-4da9-9173-a22fa2aaa675"
      },
      "source": [
        "print(x[1:3, :]) # Middle two rows"
      ],
      "execution_count": 22,
      "outputs": [
        {
          "output_type": "stream",
          "name": "stdout",
          "text": [
            "tensor([[ 4,  5,  6,  7],\n",
            "        [ 8,  9, 10, 11]])\n"
          ]
        }
      ]
    },
    {
      "cell_type": "markdown",
      "metadata": {
        "id": "TmaT2TJEX_At"
      },
      "source": [
        "### Dynamic Computation Graph and Backpropagation\n",
        "\n",
        "One of the main reasons for using PyTorch in Deep Learning projects is that we can automatically get **gradients/derivatives** of functions that we define. We will mainly use PyTorch for implementing neural networks, and they are just fancy functions. If we use weight matrices in our function that we want to learn, then those are called the **parameters** or simply the **weights**.\n",
        "\n",
        "If our neural network would output a single scalar value, we would talk about taking the **derivative**, but you will see that quite often we will have **multiple** output variables (\"values\"); in that case we talk about **gradients**. It's a more general term.\n",
        "\n",
        "Given an input $\\mathbf{x}$, we define our function by **manipulating** that input, usually by matrix-multiplications with weight matrices and additions with so-called bias vectors. As we manipulate our input, we are automatically creating a **computational graph**. This graph shows how to arrive at our output from our input. \n",
        "PyTorch is a **define-by-run** framework; this means that we can just do our manipulations, and PyTorch will keep track of that graph for us. Thus, we create a dynamic computation graph along the way.\n",
        "\n",
        "So, to recap: the only thing we have to do is to compute the **output**, and then we can ask PyTorch to automatically get the **gradients**. \n",
        "\n",
        "> **Note:  Why do we want gradients?** Consider that we have defined a function, a neural net, that is supposed to compute a certain output $y$ for an input vector $\\mathbf{x}$. We then define an **error measure** that tells us how wrong our network is; how bad it is in predicting output $y$ from input $\\mathbf{x}$. Based on this error measure, we can use the gradients to **update** the weights $\\mathbf{W}$ that were responsible for the output, so that the next time we present input $\\mathbf{x}$ to our network, the output will be closer to what we want.\n",
        "\n",
        "The first thing we have to do is to specify which tensors require gradients. By default, when we create a tensor, it does not require gradients."
      ]
    },
    {
      "cell_type": "code",
      "metadata": {
        "colab": {
          "base_uri": "https://localhost:8080/"
        },
        "id": "Uj06bAgTX_Au",
        "outputId": "eb4c594b-16d0-402b-805c-75c487573c66"
      },
      "source": [
        "x = torch.ones((3,))\n",
        "print(x.requires_grad)"
      ],
      "execution_count": 23,
      "outputs": [
        {
          "output_type": "stream",
          "name": "stdout",
          "text": [
            "False\n"
          ]
        }
      ]
    },
    {
      "cell_type": "markdown",
      "metadata": {
        "id": "ju8olHdSX_Au"
      },
      "source": [
        "We can change this for an existing tensor using the function `requires_grad_()` (underscore indicating that this is a in-place operation). Alternatively, when creating a tensor, you can pass the argument `requires_grad=True` to most initializers we have seen above."
      ]
    },
    {
      "cell_type": "code",
      "metadata": {
        "colab": {
          "base_uri": "https://localhost:8080/"
        },
        "id": "FR4B3ICDX_Av",
        "outputId": "365ce716-47fe-439f-bfce-8ed047f24656"
      },
      "source": [
        "x.requires_grad_(True)\n",
        "print(x.requires_grad)"
      ],
      "execution_count": 24,
      "outputs": [
        {
          "output_type": "stream",
          "name": "stdout",
          "text": [
            "True\n"
          ]
        }
      ]
    },
    {
      "cell_type": "markdown",
      "metadata": {
        "id": "eH4NlU-vX_Av"
      },
      "source": [
        "In order to get familiar with the concept of a computation graph, we will create one for the following function:\n",
        "\n",
        "$$y = \\frac{1}{|x|}\\sum_i \\left[(x_i + 2)^2 + 3\\right]$$\n",
        "\n",
        "You could imagine that $x$ are our parameters, and we want to optimize (either maximize or minimize) the output $y$. For this, we want to obtain the gradients $\\partial y / \\partial \\mathbf{x}$. For our example, we'll use $\\mathbf{x}=[0,1,2]$ as our input."
      ]
    },
    {
      "cell_type": "code",
      "metadata": {
        "colab": {
          "base_uri": "https://localhost:8080/"
        },
        "id": "e-MwCFUZX_Av",
        "outputId": "2bc294c9-c9ee-44af-f8a8-efbb07989570"
      },
      "source": [
        "x = torch.arange(3, dtype=torch.float32, requires_grad=True) # Only float tensors can have gradients\n",
        "print(\"X\", x)"
      ],
      "execution_count": 25,
      "outputs": [
        {
          "output_type": "stream",
          "name": "stdout",
          "text": [
            "X tensor([0., 1., 2.], requires_grad=True)\n"
          ]
        }
      ]
    },
    {
      "cell_type": "markdown",
      "metadata": {
        "id": "L37HYNnlX_A0"
      },
      "source": [
        "Now let's build the computation graph step by step. You can combine multiple operations in a single line, but we will separate them here to get a better understanding of how each operation is added to the computation graph."
      ]
    },
    {
      "cell_type": "code",
      "metadata": {
        "colab": {
          "base_uri": "https://localhost:8080/"
        },
        "id": "eqZDvvuGX_A1",
        "outputId": "26e248ab-97a0-4c94-e733-34a8a9e81120"
      },
      "source": [
        "a = x + 2\n",
        "b = a ** 2\n",
        "c = b + 3\n",
        "y = c.mean()\n",
        "print(\"Y\", y)"
      ],
      "execution_count": 26,
      "outputs": [
        {
          "output_type": "stream",
          "name": "stdout",
          "text": [
            "Y tensor(12.6667, grad_fn=<MeanBackward0>)\n"
          ]
        }
      ]
    },
    {
      "cell_type": "markdown",
      "metadata": {
        "id": "rDjVX_VcX_A2"
      },
      "source": [
        "Using the statements above, we have created a computation graph that looks similar to the figure below:\n",
        "\n",
        "<center style=\"width: 100%\"><img src=\"https://github.com/thllwg/uvadlc_notebooks/blob/master/docs/tutorial_notebooks/tutorial2/pytorch_computation_graph.svg?raw=1\" width=\"200px\"></center>\n",
        "\n",
        "We calculate $a$ based on the inputs $x$ and the constant $2$, $b$ is $a$ squared, and so on. The visualization is an abstraction of the dependencies between inputs and outputs of the operations we have applied.\n",
        "Each node of the computation graph has automatically defined a function for calculating the gradients with respect to its inputs, `grad_fn`. You can see this when we printed the output tensor $y$. This is why the computation graph is usually visualized in the reverse direction (arrows point from the result to the inputs). We can perform backpropagation on the computation graph by calling the function `backward()` on the last output, which effectively calculates the gradients for each tensor that has the property `requires_grad=True`:"
      ]
    },
    {
      "cell_type": "code",
      "metadata": {
        "id": "ZD7jSc7EX_A2"
      },
      "source": [
        "y.backward()"
      ],
      "execution_count": 27,
      "outputs": []
    },
    {
      "cell_type": "markdown",
      "metadata": {
        "id": "0pwm62aWX_A2"
      },
      "source": [
        "`x.grad` will now contain the gradient $\\partial y/ \\partial \\mathcal{x}$, and this gradient indicates how a change in $\\mathbf{x}$ will affect output $y$ given the current input $\\mathbf{x}=[0,1,2]$:"
      ]
    },
    {
      "cell_type": "code",
      "metadata": {
        "colab": {
          "base_uri": "https://localhost:8080/"
        },
        "id": "yGTH7E85X_A3",
        "outputId": "b6d82719-f981-4cf4-8ca4-c0fd2b4935a1"
      },
      "source": [
        "print(x.grad)"
      ],
      "execution_count": 28,
      "outputs": [
        {
          "output_type": "stream",
          "name": "stdout",
          "text": [
            "tensor([1.3333, 2.0000, 2.6667])\n"
          ]
        }
      ]
    },
    {
      "cell_type": "markdown",
      "metadata": {
        "id": "jBlU9AlmX_A3"
      },
      "source": [
        "We can also verify these gradients by hand. We will calculate the gradients using the chain rule, in the same way as PyTorch did it:\n",
        "\n",
        "$$\\frac{\\partial y}{\\partial x_i} = \\frac{\\partial y}{\\partial c_i}\\frac{\\partial c_i}{\\partial b_i}\\frac{\\partial b_i}{\\partial a_i}\\frac{\\partial a_i}{\\partial x_i}$$\n",
        "\n",
        "Note that we have simplified this equation to index notation, and by using the fact that all operation besides the mean do not combine the elements in the tensor. The partial derivatives are:\n",
        "\n",
        "$$\n",
        "\\frac{\\partial a_i}{\\partial x_i} = 1,\\hspace{1cm}\n",
        "\\frac{\\partial b_i}{\\partial a_i} = 2\\cdot a_i\\hspace{1cm}\n",
        "\\frac{\\partial c_i}{\\partial b_i} = 1\\hspace{1cm}\n",
        "\\frac{\\partial y}{\\partial c_i} = \\frac{1}{3}\n",
        "$$\n",
        "\n",
        "Hence, with the input being $\\mathbf{x}=[0,1,2]$, our gradients are $\\partial y/\\partial \\mathbf{x}=[4/3,2,8/3]$. The previous code cell should have printed the same result."
      ]
    },
    {
      "cell_type": "markdown",
      "metadata": {
        "id": "k5_buAgaX_A4"
      },
      "source": [
        "### GPU support\n",
        "\n",
        "A crucial feature of PyTorch is the support of GPUs, short for Graphics Processing Unit. A GPU can perform many thousands of small operations in parallel, making it very well suitable for performing large matrix operations in neural networks. PyTorch implements a lot of functionality for supporting GPUs (mostly those of NVIDIA due to the libraries [CUDA](https://developer.nvidia.com/cuda-zone) and [cuDNN](https://developer.nvidia.com/cudnn)). First, let's check whether you have a GPU available:"
      ]
    },
    {
      "cell_type": "code",
      "metadata": {
        "colab": {
          "base_uri": "https://localhost:8080/"
        },
        "id": "kQzrMttOX_A4",
        "outputId": "60861d1f-f9f7-4af1-ffff-26ddb6e8a73a"
      },
      "source": [
        "gpu_avail = torch.cuda.is_available()\n",
        "print(f\"Is the GPU available? {gpu_avail}\")"
      ],
      "execution_count": 29,
      "outputs": [
        {
          "output_type": "stream",
          "name": "stdout",
          "text": [
            "Is the GPU available? True\n"
          ]
        }
      ]
    },
    {
      "cell_type": "markdown",
      "metadata": {
        "id": "6lqZVTbXX_A4"
      },
      "source": [
        "If you have a GPU on your computer but the command above returns False, make sure you have the correct CUDA-version installed. On Google Colab, make sure that you have selected a GPU in your runtime setup (in the menu, check under `Runtime -> Change runtime type`). \n",
        "\n",
        "By default, all tensors you create are stored on the CPU. We can push a tensor to the GPU by using the function `.to(...)`, or `.cuda()`. However, it is often a good practice to define a `device` object in your code which points to the GPU if you have one, and otherwise to the CPU. Then, you can write your code with respect to this device object, and it allows you to run the same code on both a CPU-only system, and one with a GPU. Let's try it below. We can specify the device as follows: "
      ]
    },
    {
      "cell_type": "code",
      "metadata": {
        "colab": {
          "base_uri": "https://localhost:8080/"
        },
        "id": "JsAsFKGsX_A4",
        "outputId": "94c55a71-4a4f-47d9-865d-d479a60b7082"
      },
      "source": [
        "device = torch.device(\"cuda\") if torch.cuda.is_available() else torch.device(\"cpu\")\n",
        "print(\"Device\", device)"
      ],
      "execution_count": 30,
      "outputs": [
        {
          "output_type": "stream",
          "name": "stdout",
          "text": [
            "Device cuda\n"
          ]
        }
      ]
    },
    {
      "cell_type": "markdown",
      "metadata": {
        "id": "x533eDeMX_A5"
      },
      "source": [
        "Now let's create a tensor and push it to the device:"
      ]
    },
    {
      "cell_type": "code",
      "metadata": {
        "colab": {
          "base_uri": "https://localhost:8080/"
        },
        "id": "mJS7xF7bX_A5",
        "outputId": "4920bf15-41b3-4b28-a142-e28a0900345b"
      },
      "source": [
        "x = torch.zeros(2, 3)\n",
        "x = x.to(device)\n",
        "print(\"X\", x)"
      ],
      "execution_count": 31,
      "outputs": [
        {
          "output_type": "stream",
          "name": "stdout",
          "text": [
            "X tensor([[0., 0., 0.],\n",
            "        [0., 0., 0.]], device='cuda:0')\n"
          ]
        }
      ]
    },
    {
      "cell_type": "markdown",
      "metadata": {
        "id": "Bw0KDmifX_A5"
      },
      "source": [
        "In case you have a GPU, you should now see the attribute `device='cuda:0'` being printed next to your tensor. The zero next to cuda indicates that this is the zero-th GPU device on your computer. PyTorch also supports multi-GPU systems, but this you will only need once you have very big networks to train (if interested, see the [PyTorch documentation](https://pytorch.org/docs/stable/distributed.html#distributed-basics)). "
      ]
    },
    {
      "cell_type": "markdown",
      "metadata": {
        "id": "rckwtgUDX_A6"
      },
      "source": [
        "When generating random numbers, the seed between CPU and GPU is not synchronized. Hence, we need to set the seed on the GPU separately to ensure a reproducible code. Note that due to different GPU architectures, running the same code on different GPUs does not guarantee the same random numbers. Still, we don't want that our code gives us a different output every time we run it on the exact same hardware. Hence, we also set the seed on the GPU:"
      ]
    },
    {
      "cell_type": "code",
      "metadata": {
        "id": "38VB3VnOX_A7"
      },
      "source": [
        "# GPU operations have a separate seed we also want to set\n",
        "if torch.cuda.is_available(): \n",
        "    torch.cuda.manual_seed(42)\n",
        "    torch.cuda.manual_seed_all(42)\n",
        "    \n",
        "# Additionally, some operations on a GPU are implemented stochastic for efficiency\n",
        "# We want to ensure that all operations are deterministic on GPU (if used) for reproducibility\n",
        "torch.backends.cudnn.determinstic = True\n",
        "torch.backends.cudnn.benchmark = False"
      ],
      "execution_count": 32,
      "outputs": []
    },
    {
      "cell_type": "markdown",
      "metadata": {
        "id": "SlDURA1kX_A7"
      },
      "source": [
        "## Learning by example: Continuous XOR\n",
        "\n",
        "If we want to build a neural network in PyTorch, we could specify all our parameters (weight matrices, bias vectors) using `Tensors` (with `requires_grad=True`), ask PyTorch to calculate the gradients and then adjust the parameters. But things can quickly get cumbersome if we have a lot of parameters. In PyTorch, there is a package called `torch.nn` that makes building neural networks more convenient. \n",
        "\n",
        "We will introduce the libraries and all additional parts you might need to train a neural network in PyTorch, using a simple example classifier on a simple yet well known example: XOR. Given two binary inputs $x_1$ and $x_2$, the label to predict is $1$ if either $x_1$ or $x_2$ is $1$ while the other is $0$, or the label is $0$ in all other cases. The example became famous by the fact that a single neuron, i.e. a linear classifier, cannot learn this simple function.\n",
        "Hence, we will learn how to build a small neural network that can learn this function. \n",
        "To make it a little bit more interesting, we move the XOR into continuous space and introduce some gaussian noise on the binary inputs. Our desired separation of an XOR dataset could look as follows:\n",
        "\n",
        "<center style=\"width: 100%\"><img src=\"https://github.com/thllwg/uvadlc_notebooks/blob/master/docs/tutorial_notebooks/tutorial2/continuous_xor.svg?raw=1\" width=\"350px\"></center>"
      ]
    },
    {
      "cell_type": "markdown",
      "metadata": {
        "id": "mQQVt-tIX_A7"
      },
      "source": [
        "### The model\n",
        "\n",
        "The package `torch.nn` defines a series of useful classes like linear networks layers, activation functions, loss functions etc. A full list can be found [here](https://pytorch.org/docs/stable/nn.html). In case you need a certain network layer, check the documentation of the package first before writing the layer yourself as the package likely contains the code for it already. We import it below:"
      ]
    },
    {
      "cell_type": "code",
      "metadata": {
        "id": "WrMwuCWAX_A7"
      },
      "source": [
        "import torch.nn as nn"
      ],
      "execution_count": 33,
      "outputs": []
    },
    {
      "cell_type": "markdown",
      "metadata": {
        "id": "NeXpQEHFX_A8"
      },
      "source": [
        "Additionally to `torch.nn`, there is also `torch.nn.functional`. It contains functions that are used in network layers. This is in contrast to `torch.nn` which defines them as `nn.Modules` (more on it below), and `torch.nn` actually uses a lot of functionalities from `torch.nn.functional`. Hence, the functional package is useful in many situations, and so we import it as well here."
      ]
    },
    {
      "cell_type": "code",
      "metadata": {
        "id": "HgA0LVdZX_A8"
      },
      "source": [
        "import torch.nn.functional as F"
      ],
      "execution_count": 34,
      "outputs": []
    },
    {
      "cell_type": "markdown",
      "metadata": {
        "id": "gl3cC_qaX_A8"
      },
      "source": [
        "#### nn.Module\n",
        "\n",
        "In PyTorch, a neural network is built up out of modules. Modules can contain other modules, and a neural network is considered to be a module itself as well. The basic template of a module is as follows:"
      ]
    },
    {
      "cell_type": "code",
      "metadata": {
        "id": "UUmRiaeAX_A8"
      },
      "source": [
        "class MyModule(nn.Module):\n",
        "    \n",
        "    def __init__(self):\n",
        "        super().__init__()\n",
        "        # Some init for my module\n",
        "        \n",
        "    def forward(self, x):\n",
        "        # Function for performing the calculation of the module.\n",
        "        pass"
      ],
      "execution_count": 35,
      "outputs": []
    },
    {
      "cell_type": "markdown",
      "metadata": {
        "id": "BCyNT27HX_A8"
      },
      "source": [
        "The forward function is where the computation of the module is taken place, and is executed when you call the module (`nn = MyModule(); nn(x)`). In the init function, we usually create the parameters of the module, using `nn.Parameter`, or defining other modules that are used in the forward function. The backward calculation is done automatically, but could be overwritten as well if wanted.\n",
        "\n",
        "#### Simple classifier\n",
        "We can now make use of the pre-defined modules in the `torch.nn` package, and define our own small neural network. We will use a minimal network with a input layer, one hidden layer with tanh as activation function, and a output layer. In other words, our networks should look something like this:\n",
        "\n",
        "<center width=\"100%\"><img src=\"https://github.com/thllwg/uvadlc_notebooks/blob/master/docs/tutorial_notebooks/tutorial2/small_neural_network.svg?raw=1\" width=\"300px\"></center>\n",
        "\n",
        "The input neurons are shown in blue, which represent the coordinates $x_1$ and $x_2$ of a data point. The hidden neurons including a tanh activation are shown in white, and the output neuron in red.\n",
        "In PyTorch, we can define this as follows:"
      ]
    },
    {
      "cell_type": "code",
      "metadata": {
        "id": "9WM8Fay4X_A8"
      },
      "source": [
        "class SimpleClassifier(nn.Module):\n",
        "\n",
        "    def __init__(self, num_inputs, num_hidden, num_outputs):\n",
        "        super().__init__()\n",
        "        # Initialize the modules we need to build the network\n",
        "        self.linear1 = nn.Linear(num_inputs, num_hidden)\n",
        "        self.act_fn = nn.Tanh()\n",
        "        self.linear2 = nn.Linear(num_hidden, num_outputs)\n",
        "\n",
        "    def forward(self, x):\n",
        "        # Perform the calculation of the model to determine the prediction\n",
        "        x = self.linear1(x)\n",
        "        x = self.act_fn(x)\n",
        "        x = self.linear2(x)\n",
        "        return x"
      ],
      "execution_count": 36,
      "outputs": []
    },
    {
      "cell_type": "markdown",
      "metadata": {
        "id": "FuytMuGPX_A9"
      },
      "source": [
        "For the examples in this notebook, we will use a tiny neural network with two input neurons and four hidden neurons. As we perform binary classification, we will use a single output neuron. Note that we do not apply a sigmoid on the output yet. This is because other functions, especially the loss, are more efficient and precise to calculate on the original outputs instead of the sigmoid output."
      ]
    },
    {
      "cell_type": "code",
      "metadata": {
        "colab": {
          "base_uri": "https://localhost:8080/"
        },
        "id": "pUFjtIPAX_A9",
        "outputId": "a1ab611b-3efd-415b-9fe6-a4c693126b1a"
      },
      "source": [
        "model = SimpleClassifier(num_inputs=2, num_hidden=4, num_outputs=1)\n",
        "# Printing a module shows all its submodules\n",
        "print(model)"
      ],
      "execution_count": 37,
      "outputs": [
        {
          "output_type": "stream",
          "name": "stdout",
          "text": [
            "SimpleClassifier(\n",
            "  (linear1): Linear(in_features=2, out_features=4, bias=True)\n",
            "  (act_fn): Tanh()\n",
            "  (linear2): Linear(in_features=4, out_features=1, bias=True)\n",
            ")\n"
          ]
        }
      ]
    },
    {
      "cell_type": "markdown",
      "metadata": {
        "id": "ttpU7uOQX_A9"
      },
      "source": [
        "Printing the model lists all submodules it contains. The parameters of a module can be obtained by using its `parameters()` functions, or `named_parameters()` to get a name to each parameter object. For our small neural network, we have the following parameters:"
      ]
    },
    {
      "cell_type": "code",
      "metadata": {
        "colab": {
          "base_uri": "https://localhost:8080/"
        },
        "id": "gzi2ghD3X_A-",
        "outputId": "0cda411b-6e9b-41fe-e537-f6e274b28778"
      },
      "source": [
        "for name, param in model.named_parameters():\n",
        "    print(f\"Parameter {name}, shape {param.shape}\")"
      ],
      "execution_count": 38,
      "outputs": [
        {
          "output_type": "stream",
          "name": "stdout",
          "text": [
            "Parameter linear1.weight, shape torch.Size([4, 2])\n",
            "Parameter linear1.bias, shape torch.Size([4])\n",
            "Parameter linear2.weight, shape torch.Size([1, 4])\n",
            "Parameter linear2.bias, shape torch.Size([1])\n"
          ]
        }
      ]
    },
    {
      "cell_type": "markdown",
      "metadata": {
        "id": "2XhMGRByX_A-"
      },
      "source": [
        "Each linear layer has a weight matrix of the shape `[output, input]`, and a bias of the shape `[output]`. The tanh activation function does not have any parameters. Note that parameters are only registered for `nn.Module` objects that are direct object attributes, i.e. `self.a = ...`. If you define a list of modules, the parameters of those are not registered for the outer module and can cause some issues when you try to optimize your module. There are alternatives, like `nn.ModuleList`, `nn.ModuleDict` and `nn.Sequential`, that allow you to have different data structures of modules."
      ]
    },
    {
      "cell_type": "markdown",
      "metadata": {
        "id": "zQIHUN9uX_A-"
      },
      "source": [
        "### The data\n",
        "\n",
        "PyTorch also provides a few functionalities to load the training and test data efficiently, summarized in the package `torch.utils.data`."
      ]
    },
    {
      "cell_type": "code",
      "metadata": {
        "id": "rEqrp0uMX_A-"
      },
      "source": [
        "import torch.utils.data as data"
      ],
      "execution_count": 39,
      "outputs": []
    },
    {
      "cell_type": "markdown",
      "metadata": {
        "id": "ay1xO7PhX_A_"
      },
      "source": [
        "The data package defines two classes which are the standard interface for handling data in PyTorch: `data.Dataset`, and `data.DataLoader`. The dataset class provides an uniform interface to access the training/test data, while the data loader makes sure to efficiently load and stack the data points from the dataset into batches during training."
      ]
    },
    {
      "cell_type": "markdown",
      "metadata": {
        "id": "dm3Yaq9xX_A_"
      },
      "source": [
        "#### The dataset class\n",
        "\n",
        "The dataset class summarizes the basic functionality of a dataset in a natural way. To define a dataset in PyTorch, we simply specify two functions: `__getitem__`, and `__len__`. The get-item function has to return the $i$-th data point in the dataset, while the len function returns the size of the dataset. For the XOR dataset, we can define the dataset class as follows:"
      ]
    },
    {
      "cell_type": "code",
      "metadata": {
        "id": "PpfSblt-X_A_"
      },
      "source": [
        "class XORDataset(data.Dataset):\n",
        "\n",
        "    def __init__(self, size, std=0.1):\n",
        "        \"\"\"\n",
        "        Inputs:\n",
        "            size - Number of data points we want to generate\n",
        "            std - Standard deviation of the noise (see generate_continuous_xor function)\n",
        "        \"\"\"\n",
        "        super().__init__()\n",
        "        self.size = size\n",
        "        self.std = std\n",
        "        self.generate_continuous_xor()\n",
        "\n",
        "    def generate_continuous_xor(self):\n",
        "        # Each data point in the XOR dataset has two variables, x and y, that can be either 0 or 1\n",
        "        # The label is their XOR combination, i.e. 1 if only x or only y is 1 while the other is 0.\n",
        "        # If x=y, the label is 0.\n",
        "        data = torch.randint(low=0, high=2, size=(self.size, 2), dtype=torch.float32)\n",
        "        label = (data.sum(dim=1) == 1).to(torch.long)\n",
        "        # To make it slightly more challenging, we add a bit of gaussian noise to the data points.\n",
        "        data += self.std * torch.randn(data.shape)\n",
        "\n",
        "        self.data = data\n",
        "        self.label = label\n",
        "\n",
        "    def __len__(self):\n",
        "        # Number of data point we have. Alternatively self.data.shape[0], or self.label.shape[0]\n",
        "        return self.size\n",
        "\n",
        "    def __getitem__(self, idx):\n",
        "        # Return the idx-th data point of the dataset\n",
        "        # If we have multiple things to return (data point and label), we can return them as tuple\n",
        "        data_point = self.data[idx]\n",
        "        data_label = self.label[idx]\n",
        "        return data_point, data_label"
      ],
      "execution_count": 40,
      "outputs": []
    },
    {
      "cell_type": "markdown",
      "metadata": {
        "id": "5vulk_jdX_BA"
      },
      "source": [
        "Let's try to create such a dataset and inspect it:"
      ]
    },
    {
      "cell_type": "code",
      "metadata": {
        "colab": {
          "base_uri": "https://localhost:8080/"
        },
        "id": "3bxYfSrlX_BA",
        "outputId": "684ac7c2-ad0b-44d3-c53e-8f97e34333ca"
      },
      "source": [
        "dataset = XORDataset(size=200)\n",
        "print(\"Size of dataset:\", len(dataset))\n",
        "print(\"Data point 0:\", dataset[0])"
      ],
      "execution_count": 41,
      "outputs": [
        {
          "output_type": "stream",
          "name": "stdout",
          "text": [
            "Size of dataset: 200\n",
            "Data point 0: (tensor([0.9316, 1.0066]), tensor(0))\n"
          ]
        }
      ]
    },
    {
      "cell_type": "markdown",
      "metadata": {
        "id": "zOhOBZl1X_BB"
      },
      "source": [
        "To better relate to the dataset, we visualize the samples below. "
      ]
    },
    {
      "cell_type": "code",
      "metadata": {
        "id": "vlwadC0XX_BB"
      },
      "source": [
        "def visualize_samples(data, label):\n",
        "    if isinstance(data, torch.Tensor):\n",
        "        data = data.cpu().numpy()\n",
        "    if isinstance(label, torch.Tensor):\n",
        "        label = label.cpu().numpy()\n",
        "    data_0 = data[label == 0]\n",
        "    data_1 = data[label == 1]\n",
        "    \n",
        "    plt.figure(figsize=(4,4))\n",
        "    plt.scatter(data_0[:,0], data_0[:,1], edgecolor=\"#333\", label=\"Class 0\")\n",
        "    plt.scatter(data_1[:,0], data_1[:,1], edgecolor=\"#333\", label=\"Class 1\")\n",
        "    plt.title(\"Dataset samples\")\n",
        "    plt.ylabel(r\"$x_2$\")\n",
        "    plt.xlabel(r\"$x_1$\")\n",
        "    plt.legend()"
      ],
      "execution_count": 42,
      "outputs": []
    },
    {
      "cell_type": "code",
      "metadata": {
        "colab": {
          "base_uri": "https://localhost:8080/",
          "height": 398
        },
        "id": "XCAeolq8X_BB",
        "outputId": "e7d48916-389c-484e-ae33-2bcc24296598"
      },
      "source": [
        "visualize_samples(dataset.data, dataset.label)\n",
        "plt.show()"
      ],
      "execution_count": 43,
      "outputs": [
        {
          "output_type": "display_data",
          "data": {
            "application/pdf": "[encoded data removed]",
            "text/plain": [
              "<Figure size 288x288 with 1 Axes>"
            ],
            "image/svg+xml": "<?xml version=\"1.0\" encoding=\"utf-8\" standalone=\"no\"?>\n<!DOCTYPE svg PUBLIC \"-//W3C//DTD SVG 1.1//EN\"\n  \"http://www.w3.org/Graphics/SVG/1.1/DTD/svg11.dtd\">\n<!-- Created with matplotlib (https://matplotlib.org/) -->\n<svg height=\"282.717813pt\" version=\"1.1\" viewBox=\"0 0 289.424844 282.717813\" width=\"289.424844pt\" xmlns=\"http://www.w3.org/2000/svg\" xmlns:xlink=\"http://www.w3.org/1999/xlink\">\n <defs>\n  <style type=\"text/css\">\n*{stroke-linecap:butt;stroke-linejoin:round;}\n  </style>\n </defs>\n <g id=\"figure_1\">\n  <g id=\"patch_1\">\n   <path d=\"M 0 282.717813 \nL 289.424844 282.717813 \nL 289.424844 0 \nL 0 0 \nz\n\" style=\"fill:none;\"/>\n  </g>\n  <g id=\"axes_1\">\n   <g id=\"patch_2\">\n    <path d=\"M 59.024844 239.758125 \nL 282.224844 239.758125 \nL 282.224844 22.318125 \nL 59.024844 22.318125 \nz\n\" style=\"fill:#eaeaf2;\"/>\n   </g>\n   <g id=\"matplotlib.axis_1\">\n    <g id=\"xtick_1\">\n     <g id=\"line2d_1\">\n      <path clip-path=\"url(#p727167ba38)\" d=\"M 110.44057 239.758125 \nL 110.44057 22.318125 \n\" style=\"fill:none;stroke:#ffffff;stroke-linecap:round;\"/>\n     </g>\n     <g id=\"text_1\">\n      <!-- 0.0 -->\n      <defs>\n       <path d=\"M 31.78125 66.40625 \nQ 24.171875 66.40625 20.328125 58.90625 \nQ 16.5 51.421875 16.5 36.375 \nQ 16.5 21.390625 20.328125 13.890625 \nQ 24.171875 6.390625 31.78125 6.390625 \nQ 39.453125 6.390625 43.28125 13.890625 \nQ 47.125 21.390625 47.125 36.375 \nQ 47.125 51.421875 43.28125 58.90625 \nQ 39.453125 66.40625 31.78125 66.40625 \nz\nM 31.78125 74.21875 \nQ 44.046875 74.21875 50.515625 64.515625 \nQ 56.984375 54.828125 56.984375 36.375 \nQ 56.984375 17.96875 50.515625 8.265625 \nQ 44.046875 -1.421875 31.78125 -1.421875 \nQ 19.53125 -1.421875 13.0625 8.265625 \nQ 6.59375 17.96875 6.59375 36.375 \nQ 6.59375 54.828125 13.0625 64.515625 \nQ 19.53125 74.21875 31.78125 74.21875 \nz\n\" id=\"DejaVuSans-48\"/>\n       <path d=\"M 10.6875 12.40625 \nL 21 12.40625 \nL 21 0 \nL 10.6875 0 \nz\n\" id=\"DejaVuSans-46\"/>\n      </defs>\n      <g style=\"fill:#262626;\" transform=\"translate(101.693851 257.616406)scale(0.11 -0.11)\">\n       <use xlink:href=\"#DejaVuSans-48\"/>\n       <use x=\"63.623047\" xlink:href=\"#DejaVuSans-46\"/>\n       <use x=\"95.410156\" xlink:href=\"#DejaVuSans-48\"/>\n      </g>\n     </g>\n    </g>\n    <g id=\"xtick_2\">\n     <g id=\"line2d_2\">\n      <path clip-path=\"url(#p727167ba38)\" d=\"M 176.971055 239.758125 \nL 176.971055 22.318125 \n\" style=\"fill:none;stroke:#ffffff;stroke-linecap:round;\"/>\n     </g>\n     <g id=\"text_2\">\n      <!-- 0.5 -->\n      <defs>\n       <path d=\"M 10.796875 72.90625 \nL 49.515625 72.90625 \nL 49.515625 64.59375 \nL 19.828125 64.59375 \nL 19.828125 46.734375 \nQ 21.96875 47.46875 24.109375 47.828125 \nQ 26.265625 48.1875 28.421875 48.1875 \nQ 40.625 48.1875 47.75 41.5 \nQ 54.890625 34.8125 54.890625 23.390625 \nQ 54.890625 11.625 47.5625 5.09375 \nQ 40.234375 -1.421875 26.90625 -1.421875 \nQ 22.3125 -1.421875 17.546875 -0.640625 \nQ 12.796875 0.140625 7.71875 1.703125 \nL 7.71875 11.625 \nQ 12.109375 9.234375 16.796875 8.0625 \nQ 21.484375 6.890625 26.703125 6.890625 \nQ 35.15625 6.890625 40.078125 11.328125 \nQ 45.015625 15.765625 45.015625 23.390625 \nQ 45.015625 31 40.078125 35.4375 \nQ 35.15625 39.890625 26.703125 39.890625 \nQ 22.75 39.890625 18.8125 39.015625 \nQ 14.890625 38.140625 10.796875 36.28125 \nz\n\" id=\"DejaVuSans-53\"/>\n      </defs>\n      <g style=\"fill:#262626;\" transform=\"translate(168.224337 257.616406)scale(0.11 -0.11)\">\n       <use xlink:href=\"#DejaVuSans-48\"/>\n       <use x=\"63.623047\" xlink:href=\"#DejaVuSans-46\"/>\n       <use x=\"95.410156\" xlink:href=\"#DejaVuSans-53\"/>\n      </g>\n     </g>\n    </g>\n    <g id=\"xtick_3\">\n     <g id=\"line2d_3\">\n      <path clip-path=\"url(#p727167ba38)\" d=\"M 243.501541 239.758125 \nL 243.501541 22.318125 \n\" style=\"fill:none;stroke:#ffffff;stroke-linecap:round;\"/>\n     </g>\n     <g id=\"text_3\">\n      <!-- 1.0 -->\n      <defs>\n       <path d=\"M 12.40625 8.296875 \nL 28.515625 8.296875 \nL 28.515625 63.921875 \nL 10.984375 60.40625 \nL 10.984375 69.390625 \nL 28.421875 72.90625 \nL 38.28125 72.90625 \nL 38.28125 8.296875 \nL 54.390625 8.296875 \nL 54.390625 0 \nL 12.40625 0 \nz\n\" id=\"DejaVuSans-49\"/>\n      </defs>\n      <g style=\"fill:#262626;\" transform=\"translate(234.754822 257.616406)scale(0.11 -0.11)\">\n       <use xlink:href=\"#DejaVuSans-49\"/>\n       <use x=\"63.623047\" xlink:href=\"#DejaVuSans-46\"/>\n       <use x=\"95.410156\" xlink:href=\"#DejaVuSans-48\"/>\n      </g>\n     </g>\n    </g>\n    <g id=\"text_4\">\n     <!-- $x_1$ -->\n     <defs>\n      <path d=\"M 60.015625 54.6875 \nL 34.90625 27.875 \nL 50.296875 0 \nL 39.984375 0 \nL 28.421875 21.6875 \nL 8.296875 0 \nL -2.59375 0 \nL 24.3125 28.8125 \nL 10.015625 54.6875 \nL 20.3125 54.6875 \nL 30.8125 34.90625 \nL 49.125 54.6875 \nz\n\" id=\"DejaVuSans-Oblique-120\"/>\n     </defs>\n     <g style=\"fill:#262626;\" transform=\"translate(164.204844 273.022188)scale(0.12 -0.12)\">\n      <use transform=\"translate(0 0.3125)\" xlink:href=\"#DejaVuSans-Oblique-120\"/>\n      <use transform=\"translate(59.179688 -16.09375)scale(0.7)\" xlink:href=\"#DejaVuSans-49\"/>\n     </g>\n    </g>\n   </g>\n   <g id=\"matplotlib.axis_2\">\n    <g id=\"ytick_1\">\n     <g id=\"line2d_4\">\n      <path clip-path=\"url(#p727167ba38)\" d=\"M 59.024844 226.111531 \nL 282.224844 226.111531 \n\" style=\"fill:none;stroke:#ffffff;stroke-linecap:round;\"/>\n     </g>\n     <g id=\"text_5\">\n      <!-- −0.2 -->\n      <defs>\n       <path d=\"M 10.59375 35.5 \nL 73.1875 35.5 \nL 73.1875 27.203125 \nL 10.59375 27.203125 \nz\n\" id=\"DejaVuSans-8722\"/>\n       <path d=\"M 19.1875 8.296875 \nL 53.609375 8.296875 \nL 53.609375 0 \nL 7.328125 0 \nL 7.328125 8.296875 \nQ 12.9375 14.109375 22.625 23.890625 \nQ 32.328125 33.6875 34.8125 36.53125 \nQ 39.546875 41.84375 41.421875 45.53125 \nQ 43.3125 49.21875 43.3125 52.78125 \nQ 43.3125 58.59375 39.234375 62.25 \nQ 35.15625 65.921875 28.609375 65.921875 \nQ 23.96875 65.921875 18.8125 64.3125 \nQ 13.671875 62.703125 7.8125 59.421875 \nL 7.8125 69.390625 \nQ 13.765625 71.78125 18.9375 73 \nQ 24.125 74.21875 28.421875 74.21875 \nQ 39.75 74.21875 46.484375 68.546875 \nQ 53.21875 62.890625 53.21875 53.421875 \nQ 53.21875 48.921875 51.53125 44.890625 \nQ 49.859375 40.875 45.40625 35.40625 \nQ 44.1875 33.984375 37.640625 27.21875 \nQ 31.109375 20.453125 19.1875 8.296875 \nz\n\" id=\"DejaVuSans-50\"/>\n      </defs>\n      <g style=\"fill:#262626;\" transform=\"translate(22.81375 230.290671)scale(0.11 -0.11)\">\n       <use xlink:href=\"#DejaVuSans-8722\"/>\n       <use x=\"83.789062\" xlink:href=\"#DejaVuSans-48\"/>\n       <use x=\"147.412109\" xlink:href=\"#DejaVuSans-46\"/>\n       <use x=\"179.199219\" xlink:href=\"#DejaVuSans-50\"/>\n      </g>\n     </g>\n    </g>\n    <g id=\"ytick_2\">\n     <g id=\"line2d_5\">\n      <path clip-path=\"url(#p727167ba38)\" d=\"M 59.024844 199.967512 \nL 282.224844 199.967512 \n\" style=\"fill:none;stroke:#ffffff;stroke-linecap:round;\"/>\n     </g>\n     <g id=\"text_6\">\n      <!-- 0.0 -->\n      <g style=\"fill:#262626;\" transform=\"translate(32.031406 204.146653)scale(0.11 -0.11)\">\n       <use xlink:href=\"#DejaVuSans-48\"/>\n       <use x=\"63.623047\" xlink:href=\"#DejaVuSans-46\"/>\n       <use x=\"95.410156\" xlink:href=\"#DejaVuSans-48\"/>\n      </g>\n     </g>\n    </g>\n    <g id=\"ytick_3\">\n     <g id=\"line2d_6\">\n      <path clip-path=\"url(#p727167ba38)\" d=\"M 59.024844 173.823494 \nL 282.224844 173.823494 \n\" style=\"fill:none;stroke:#ffffff;stroke-linecap:round;\"/>\n     </g>\n     <g id=\"text_7\">\n      <!-- 0.2 -->\n      <g style=\"fill:#262626;\" transform=\"translate(32.031406 178.002635)scale(0.11 -0.11)\">\n       <use xlink:href=\"#DejaVuSans-48\"/>\n       <use x=\"63.623047\" xlink:href=\"#DejaVuSans-46\"/>\n       <use x=\"95.410156\" xlink:href=\"#DejaVuSans-50\"/>\n      </g>\n     </g>\n    </g>\n    <g id=\"ytick_4\">\n     <g id=\"line2d_7\">\n      <path clip-path=\"url(#p727167ba38)\" d=\"M 59.024844 147.679476 \nL 282.224844 147.679476 \n\" style=\"fill:none;stroke:#ffffff;stroke-linecap:round;\"/>\n     </g>\n     <g id=\"text_8\">\n      <!-- 0.4 -->\n      <defs>\n       <path d=\"M 37.796875 64.3125 \nL 12.890625 25.390625 \nL 37.796875 25.390625 \nz\nM 35.203125 72.90625 \nL 47.609375 72.90625 \nL 47.609375 25.390625 \nL 58.015625 25.390625 \nL 58.015625 17.1875 \nL 47.609375 17.1875 \nL 47.609375 0 \nL 37.796875 0 \nL 37.796875 17.1875 \nL 4.890625 17.1875 \nL 4.890625 26.703125 \nz\n\" id=\"DejaVuSans-52\"/>\n      </defs>\n      <g style=\"fill:#262626;\" transform=\"translate(32.031406 151.858617)scale(0.11 -0.11)\">\n       <use xlink:href=\"#DejaVuSans-48\"/>\n       <use x=\"63.623047\" xlink:href=\"#DejaVuSans-46\"/>\n       <use x=\"95.410156\" xlink:href=\"#DejaVuSans-52\"/>\n      </g>\n     </g>\n    </g>\n    <g id=\"ytick_5\">\n     <g id=\"line2d_8\">\n      <path clip-path=\"url(#p727167ba38)\" d=\"M 59.024844 121.535458 \nL 282.224844 121.535458 \n\" style=\"fill:none;stroke:#ffffff;stroke-linecap:round;\"/>\n     </g>\n     <g id=\"text_9\">\n      <!-- 0.6 -->\n      <defs>\n       <path d=\"M 33.015625 40.375 \nQ 26.375 40.375 22.484375 35.828125 \nQ 18.609375 31.296875 18.609375 23.390625 \nQ 18.609375 15.53125 22.484375 10.953125 \nQ 26.375 6.390625 33.015625 6.390625 \nQ 39.65625 6.390625 43.53125 10.953125 \nQ 47.40625 15.53125 47.40625 23.390625 \nQ 47.40625 31.296875 43.53125 35.828125 \nQ 39.65625 40.375 33.015625 40.375 \nz\nM 52.59375 71.296875 \nL 52.59375 62.3125 \nQ 48.875 64.0625 45.09375 64.984375 \nQ 41.3125 65.921875 37.59375 65.921875 \nQ 27.828125 65.921875 22.671875 59.328125 \nQ 17.53125 52.734375 16.796875 39.40625 \nQ 19.671875 43.65625 24.015625 45.921875 \nQ 28.375 48.1875 33.59375 48.1875 \nQ 44.578125 48.1875 50.953125 41.515625 \nQ 57.328125 34.859375 57.328125 23.390625 \nQ 57.328125 12.15625 50.6875 5.359375 \nQ 44.046875 -1.421875 33.015625 -1.421875 \nQ 20.359375 -1.421875 13.671875 8.265625 \nQ 6.984375 17.96875 6.984375 36.375 \nQ 6.984375 53.65625 15.1875 63.9375 \nQ 23.390625 74.21875 37.203125 74.21875 \nQ 40.921875 74.21875 44.703125 73.484375 \nQ 48.484375 72.75 52.59375 71.296875 \nz\n\" id=\"DejaVuSans-54\"/>\n      </defs>\n      <g style=\"fill:#262626;\" transform=\"translate(32.031406 125.714599)scale(0.11 -0.11)\">\n       <use xlink:href=\"#DejaVuSans-48\"/>\n       <use x=\"63.623047\" xlink:href=\"#DejaVuSans-46\"/>\n       <use x=\"95.410156\" xlink:href=\"#DejaVuSans-54\"/>\n      </g>\n     </g>\n    </g>\n    <g id=\"ytick_6\">\n     <g id=\"line2d_9\">\n      <path clip-path=\"url(#p727167ba38)\" d=\"M 59.024844 95.39144 \nL 282.224844 95.39144 \n\" style=\"fill:none;stroke:#ffffff;stroke-linecap:round;\"/>\n     </g>\n     <g id=\"text_10\">\n      <!-- 0.8 -->\n      <defs>\n       <path d=\"M 31.78125 34.625 \nQ 24.75 34.625 20.71875 30.859375 \nQ 16.703125 27.09375 16.703125 20.515625 \nQ 16.703125 13.921875 20.71875 10.15625 \nQ 24.75 6.390625 31.78125 6.390625 \nQ 38.8125 6.390625 42.859375 10.171875 \nQ 46.921875 13.96875 46.921875 20.515625 \nQ 46.921875 27.09375 42.890625 30.859375 \nQ 38.875 34.625 31.78125 34.625 \nz\nM 21.921875 38.8125 \nQ 15.578125 40.375 12.03125 44.71875 \nQ 8.5 49.078125 8.5 55.328125 \nQ 8.5 64.0625 14.71875 69.140625 \nQ 20.953125 74.21875 31.78125 74.21875 \nQ 42.671875 74.21875 48.875 69.140625 \nQ 55.078125 64.0625 55.078125 55.328125 \nQ 55.078125 49.078125 51.53125 44.71875 \nQ 48 40.375 41.703125 38.8125 \nQ 48.828125 37.15625 52.796875 32.3125 \nQ 56.78125 27.484375 56.78125 20.515625 \nQ 56.78125 9.90625 50.3125 4.234375 \nQ 43.84375 -1.421875 31.78125 -1.421875 \nQ 19.734375 -1.421875 13.25 4.234375 \nQ 6.78125 9.90625 6.78125 20.515625 \nQ 6.78125 27.484375 10.78125 32.3125 \nQ 14.796875 37.15625 21.921875 38.8125 \nz\nM 18.3125 54.390625 \nQ 18.3125 48.734375 21.84375 45.5625 \nQ 25.390625 42.390625 31.78125 42.390625 \nQ 38.140625 42.390625 41.71875 45.5625 \nQ 45.3125 48.734375 45.3125 54.390625 \nQ 45.3125 60.0625 41.71875 63.234375 \nQ 38.140625 66.40625 31.78125 66.40625 \nQ 25.390625 66.40625 21.84375 63.234375 \nQ 18.3125 60.0625 18.3125 54.390625 \nz\n\" id=\"DejaVuSans-56\"/>\n      </defs>\n      <g style=\"fill:#262626;\" transform=\"translate(32.031406 99.570581)scale(0.11 -0.11)\">\n       <use xlink:href=\"#DejaVuSans-48\"/>\n       <use x=\"63.623047\" xlink:href=\"#DejaVuSans-46\"/>\n       <use x=\"95.410156\" xlink:href=\"#DejaVuSans-56\"/>\n      </g>\n     </g>\n    </g>\n    <g id=\"ytick_7\">\n     <g id=\"line2d_10\">\n      <path clip-path=\"url(#p727167ba38)\" d=\"M 59.024844 69.247422 \nL 282.224844 69.247422 \n\" style=\"fill:none;stroke:#ffffff;stroke-linecap:round;\"/>\n     </g>\n     <g id=\"text_11\">\n      <!-- 1.0 -->\n      <g style=\"fill:#262626;\" transform=\"translate(32.031406 73.426563)scale(0.11 -0.11)\">\n       <use xlink:href=\"#DejaVuSans-49\"/>\n       <use x=\"63.623047\" xlink:href=\"#DejaVuSans-46\"/>\n       <use x=\"95.410156\" xlink:href=\"#DejaVuSans-48\"/>\n      </g>\n     </g>\n    </g>\n    <g id=\"ytick_8\">\n     <g id=\"line2d_11\">\n      <path clip-path=\"url(#p727167ba38)\" d=\"M 59.024844 43.103404 \nL 282.224844 43.103404 \n\" style=\"fill:none;stroke:#ffffff;stroke-linecap:round;\"/>\n     </g>\n     <g id=\"text_12\">\n      <!-- 1.2 -->\n      <g style=\"fill:#262626;\" transform=\"translate(32.031406 47.282544)scale(0.11 -0.11)\">\n       <use xlink:href=\"#DejaVuSans-49\"/>\n       <use x=\"63.623047\" xlink:href=\"#DejaVuSans-46\"/>\n       <use x=\"95.410156\" xlink:href=\"#DejaVuSans-50\"/>\n      </g>\n     </g>\n    </g>\n    <g id=\"text_13\">\n     <!-- $x_2$ -->\n     <g style=\"fill:#262626;\" transform=\"translate(16.318125 137.458125)rotate(-90)scale(0.12 -0.12)\">\n      <use transform=\"translate(0 0.3125)\" xlink:href=\"#DejaVuSans-Oblique-120\"/>\n      <use transform=\"translate(59.179688 -16.09375)scale(0.7)\" xlink:href=\"#DejaVuSans-50\"/>\n     </g>\n    </g>\n   </g>\n   <g id=\"PathCollection_1\">\n    <defs>\n     <path d=\"M 0 3 \nC 0.795609 3 1.55874 2.683901 2.12132 2.12132 \nC 2.683901 1.55874 3 0.795609 3 0 \nC 3 -0.795609 2.683901 -1.55874 2.12132 -2.12132 \nC 1.55874 -2.683901 0.795609 -3 0 -3 \nC -0.795609 -3 -1.55874 -2.683901 -2.12132 -2.12132 \nC -2.683901 -1.55874 -3 -0.795609 -3 0 \nC -3 0.795609 -2.683901 1.55874 -2.12132 2.12132 \nC -1.55874 2.683901 -0.795609 3 0 3 \nz\n\" id=\"m4ea67aef23\" style=\"stroke:#333333;\"/>\n    </defs>\n    <g clip-path=\"url(#p727167ba38)\">\n     <use style=\"fill:#4c72b0;stroke:#333333;\" x=\"234.404252\" xlink:href=\"#m4ea67aef23\" y=\"68.384105\"/>\n     <use style=\"fill:#4c72b0;stroke:#333333;\" x=\"259.41507\" xlink:href=\"#m4ea67aef23\" y=\"86.321473\"/>\n     <use style=\"fill:#4c72b0;stroke:#333333;\" x=\"233.955552\" xlink:href=\"#m4ea67aef23\" y=\"32.201761\"/>\n     <use style=\"fill:#4c72b0;stroke:#333333;\" x=\"242.530645\" xlink:href=\"#m4ea67aef23\" y=\"76.410295\"/>\n     <use style=\"fill:#4c72b0;stroke:#333333;\" x=\"228.298619\" xlink:href=\"#m4ea67aef23\" y=\"75.113513\"/>\n     <use style=\"fill:#4c72b0;stroke:#333333;\" x=\"243.096312\" xlink:href=\"#m4ea67aef23\" y=\"64.240432\"/>\n     <use style=\"fill:#4c72b0;stroke:#333333;\" x=\"242.905832\" xlink:href=\"#m4ea67aef23\" y=\"99.469304\"/>\n     <use style=\"fill:#4c72b0;stroke:#333333;\" x=\"239.091527\" xlink:href=\"#m4ea67aef23\" y=\"60.757091\"/>\n     <use style=\"fill:#4c72b0;stroke:#333333;\" x=\"111.704097\" xlink:href=\"#m4ea67aef23\" y=\"209.805343\"/>\n     <use style=\"fill:#4c72b0;stroke:#333333;\" x=\"234.889442\" xlink:href=\"#m4ea67aef23\" y=\"86.009157\"/>\n     <use style=\"fill:#4c72b0;stroke:#333333;\" x=\"269.651916\" xlink:href=\"#m4ea67aef23\" y=\"84.627665\"/>\n     <use style=\"fill:#4c72b0;stroke:#333333;\" x=\"209.347529\" xlink:href=\"#m4ea67aef23\" y=\"59.971363\"/>\n     <use style=\"fill:#4c72b0;stroke:#333333;\" x=\"254.410449\" xlink:href=\"#m4ea67aef23\" y=\"61.123869\"/>\n     <use style=\"fill:#4c72b0;stroke:#333333;\" x=\"246.326486\" xlink:href=\"#m4ea67aef23\" y=\"78.727261\"/>\n     <use style=\"fill:#4c72b0;stroke:#333333;\" x=\"105.295624\" xlink:href=\"#m4ea67aef23\" y=\"223.375257\"/>\n     <use style=\"fill:#4c72b0;stroke:#333333;\" x=\"244.742909\" xlink:href=\"#m4ea67aef23\" y=\"94.283678\"/>\n     <use style=\"fill:#4c72b0;stroke:#333333;\" x=\"226.306989\" xlink:href=\"#m4ea67aef23\" y=\"59.231074\"/>\n     <use style=\"fill:#4c72b0;stroke:#333333;\" x=\"119.02833\" xlink:href=\"#m4ea67aef23\" y=\"195.348962\"/>\n     <use style=\"fill:#4c72b0;stroke:#333333;\" x=\"75.212836\" xlink:href=\"#m4ea67aef23\" y=\"219.020445\"/>\n     <use style=\"fill:#4c72b0;stroke:#333333;\" x=\"97.517183\" xlink:href=\"#m4ea67aef23\" y=\"196.810612\"/>\n     <use style=\"fill:#4c72b0;stroke:#333333;\" x=\"108.057991\" xlink:href=\"#m4ea67aef23\" y=\"184.290456\"/>\n     <use style=\"fill:#4c72b0;stroke:#333333;\" x=\"235.416167\" xlink:href=\"#m4ea67aef23\" y=\"69.839079\"/>\n     <use style=\"fill:#4c72b0;stroke:#333333;\" x=\"108.772629\" xlink:href=\"#m4ea67aef23\" y=\"217.821456\"/>\n     <use style=\"fill:#4c72b0;stroke:#333333;\" x=\"125.233571\" xlink:href=\"#m4ea67aef23\" y=\"208.108716\"/>\n     <use style=\"fill:#4c72b0;stroke:#333333;\" x=\"132.306674\" xlink:href=\"#m4ea67aef23\" y=\"193.218954\"/>\n     <use style=\"fill:#4c72b0;stroke:#333333;\" x=\"93.766673\" xlink:href=\"#m4ea67aef23\" y=\"185.341641\"/>\n     <use style=\"fill:#4c72b0;stroke:#333333;\" x=\"248.561806\" xlink:href=\"#m4ea67aef23\" y=\"66.646346\"/>\n     <use style=\"fill:#4c72b0;stroke:#333333;\" x=\"104.451805\" xlink:href=\"#m4ea67aef23\" y=\"202.240361\"/>\n     <use style=\"fill:#4c72b0;stroke:#333333;\" x=\"252.154985\" xlink:href=\"#m4ea67aef23\" y=\"54.002354\"/>\n     <use style=\"fill:#4c72b0;stroke:#333333;\" x=\"110.665922\" xlink:href=\"#m4ea67aef23\" y=\"193.005533\"/>\n     <use style=\"fill:#4c72b0;stroke:#333333;\" x=\"235.470843\" xlink:href=\"#m4ea67aef23\" y=\"71.525344\"/>\n     <use style=\"fill:#4c72b0;stroke:#333333;\" x=\"95.525759\" xlink:href=\"#m4ea67aef23\" y=\"197.410096\"/>\n     <use style=\"fill:#4c72b0;stroke:#333333;\" x=\"100.041614\" xlink:href=\"#m4ea67aef23\" y=\"223.364828\"/>\n     <use style=\"fill:#4c72b0;stroke:#333333;\" x=\"139.512124\" xlink:href=\"#m4ea67aef23\" y=\"187.194179\"/>\n     <use style=\"fill:#4c72b0;stroke:#333333;\" x=\"110.891577\" xlink:href=\"#m4ea67aef23\" y=\"204.049823\"/>\n     <use style=\"fill:#4c72b0;stroke:#333333;\" x=\"97.743754\" xlink:href=\"#m4ea67aef23\" y=\"188.21932\"/>\n     <use style=\"fill:#4c72b0;stroke:#333333;\" x=\"111.575062\" xlink:href=\"#m4ea67aef23\" y=\"190.188013\"/>\n     <use style=\"fill:#4c72b0;stroke:#333333;\" x=\"241.325173\" xlink:href=\"#m4ea67aef23\" y=\"81.124082\"/>\n     <use style=\"fill:#4c72b0;stroke:#333333;\" x=\"95.626088\" xlink:href=\"#m4ea67aef23\" y=\"193.094261\"/>\n     <use style=\"fill:#4c72b0;stroke:#333333;\" x=\"251.842041\" xlink:href=\"#m4ea67aef23\" y=\"75.752215\"/>\n     <use style=\"fill:#4c72b0;stroke:#333333;\" x=\"141.389301\" xlink:href=\"#m4ea67aef23\" y=\"211.998872\"/>\n     <use style=\"fill:#4c72b0;stroke:#333333;\" x=\"119.30396\" xlink:href=\"#m4ea67aef23\" y=\"205.722659\"/>\n     <use style=\"fill:#4c72b0;stroke:#333333;\" x=\"79.597615\" xlink:href=\"#m4ea67aef23\" y=\"183.044715\"/>\n     <use style=\"fill:#4c72b0;stroke:#333333;\" x=\"109.394854\" xlink:href=\"#m4ea67aef23\" y=\"194.332877\"/>\n     <use style=\"fill:#4c72b0;stroke:#333333;\" x=\"259.192382\" xlink:href=\"#m4ea67aef23\" y=\"68.162187\"/>\n     <use style=\"fill:#4c72b0;stroke:#333333;\" x=\"235.802155\" xlink:href=\"#m4ea67aef23\" y=\"85.325085\"/>\n     <use style=\"fill:#4c72b0;stroke:#333333;\" x=\"238.32645\" xlink:href=\"#m4ea67aef23\" y=\"58.624972\"/>\n     <use style=\"fill:#4c72b0;stroke:#333333;\" x=\"263.435653\" xlink:href=\"#m4ea67aef23\" y=\"68.673607\"/>\n     <use style=\"fill:#4c72b0;stroke:#333333;\" x=\"250.241063\" xlink:href=\"#m4ea67aef23\" y=\"81.244437\"/>\n     <use style=\"fill:#4c72b0;stroke:#333333;\" x=\"114.935963\" xlink:href=\"#m4ea67aef23\" y=\"198.332778\"/>\n     <use style=\"fill:#4c72b0;stroke:#333333;\" x=\"120.760877\" xlink:href=\"#m4ea67aef23\" y=\"212.304082\"/>\n     <use style=\"fill:#4c72b0;stroke:#333333;\" x=\"108.356282\" xlink:href=\"#m4ea67aef23\" y=\"211.351213\"/>\n     <use style=\"fill:#4c72b0;stroke:#333333;\" x=\"101.910067\" xlink:href=\"#m4ea67aef23\" y=\"192.942896\"/>\n     <use style=\"fill:#4c72b0;stroke:#333333;\" x=\"234.317169\" xlink:href=\"#m4ea67aef23\" y=\"72.253408\"/>\n     <use style=\"fill:#4c72b0;stroke:#333333;\" x=\"81.535948\" xlink:href=\"#m4ea67aef23\" y=\"198.821316\"/>\n     <use style=\"fill:#4c72b0;stroke:#333333;\" x=\"106.466794\" xlink:href=\"#m4ea67aef23\" y=\"180.107187\"/>\n     <use style=\"fill:#4c72b0;stroke:#333333;\" x=\"242.271086\" xlink:href=\"#m4ea67aef23\" y=\"82.537137\"/>\n     <use style=\"fill:#4c72b0;stroke:#333333;\" x=\"221.303669\" xlink:href=\"#m4ea67aef23\" y=\"69.50843\"/>\n     <use style=\"fill:#4c72b0;stroke:#333333;\" x=\"235.892862\" xlink:href=\"#m4ea67aef23\" y=\"43.769059\"/>\n     <use style=\"fill:#4c72b0;stroke:#333333;\" x=\"234.038852\" xlink:href=\"#m4ea67aef23\" y=\"62.403939\"/>\n     <use style=\"fill:#4c72b0;stroke:#333333;\" x=\"106.849981\" xlink:href=\"#m4ea67aef23\" y=\"198.35885\"/>\n     <use style=\"fill:#4c72b0;stroke:#333333;\" x=\"122.0934\" xlink:href=\"#m4ea67aef23\" y=\"197.201133\"/>\n     <use style=\"fill:#4c72b0;stroke:#333333;\" x=\"146.782597\" xlink:href=\"#m4ea67aef23\" y=\"194.320336\"/>\n     <use style=\"fill:#4c72b0;stroke:#333333;\" x=\"239.38753\" xlink:href=\"#m4ea67aef23\" y=\"70.509929\"/>\n     <use style=\"fill:#4c72b0;stroke:#333333;\" x=\"264.018538\" xlink:href=\"#m4ea67aef23\" y=\"89.048031\"/>\n     <use style=\"fill:#4c72b0;stroke:#333333;\" x=\"104.866588\" xlink:href=\"#m4ea67aef23\" y=\"181.16423\"/>\n     <use style=\"fill:#4c72b0;stroke:#333333;\" x=\"150.692161\" xlink:href=\"#m4ea67aef23\" y=\"182.369203\"/>\n     <use style=\"fill:#4c72b0;stroke:#333333;\" x=\"254.886328\" xlink:href=\"#m4ea67aef23\" y=\"89.190032\"/>\n     <use style=\"fill:#4c72b0;stroke:#333333;\" x=\"260.539867\" xlink:href=\"#m4ea67aef23\" y=\"70.765873\"/>\n     <use style=\"fill:#4c72b0;stroke:#333333;\" x=\"261.738027\" xlink:href=\"#m4ea67aef23\" y=\"75.534247\"/>\n     <use style=\"fill:#4c72b0;stroke:#333333;\" x=\"110.549755\" xlink:href=\"#m4ea67aef23\" y=\"205.272921\"/>\n     <use style=\"fill:#4c72b0;stroke:#333333;\" x=\"115.493545\" xlink:href=\"#m4ea67aef23\" y=\"186.904601\"/>\n     <use style=\"fill:#4c72b0;stroke:#333333;\" x=\"260.469281\" xlink:href=\"#m4ea67aef23\" y=\"52.640707\"/>\n     <use style=\"fill:#4c72b0;stroke:#333333;\" x=\"271.339612\" xlink:href=\"#m4ea67aef23\" y=\"58.851128\"/>\n     <use style=\"fill:#4c72b0;stroke:#333333;\" x=\"117.505214\" xlink:href=\"#m4ea67aef23\" y=\"217.764794\"/>\n     <use style=\"fill:#4c72b0;stroke:#333333;\" x=\"269.531586\" xlink:href=\"#m4ea67aef23\" y=\"46.129704\"/>\n     <use style=\"fill:#4c72b0;stroke:#333333;\" x=\"79.811595\" xlink:href=\"#m4ea67aef23\" y=\"192.030853\"/>\n     <use style=\"fill:#4c72b0;stroke:#333333;\" x=\"232.198999\" xlink:href=\"#m4ea67aef23\" y=\"90.939011\"/>\n     <use style=\"fill:#4c72b0;stroke:#333333;\" x=\"121.063453\" xlink:href=\"#m4ea67aef23\" y=\"175.274196\"/>\n     <use style=\"fill:#4c72b0;stroke:#333333;\" x=\"224.449528\" xlink:href=\"#m4ea67aef23\" y=\"77.183791\"/>\n     <use style=\"fill:#4c72b0;stroke:#333333;\" x=\"238.367636\" xlink:href=\"#m4ea67aef23\" y=\"68.605572\"/>\n     <use style=\"fill:#4c72b0;stroke:#333333;\" x=\"253.737499\" xlink:href=\"#m4ea67aef23\" y=\"79.272247\"/>\n     <use style=\"fill:#4c72b0;stroke:#333333;\" x=\"97.806607\" xlink:href=\"#m4ea67aef23\" y=\"192.344642\"/>\n     <use style=\"fill:#4c72b0;stroke:#333333;\" x=\"128.343724\" xlink:href=\"#m4ea67aef23\" y=\"198.309696\"/>\n     <use style=\"fill:#4c72b0;stroke:#333333;\" x=\"77.813065\" xlink:href=\"#m4ea67aef23\" y=\"194.529868\"/>\n     <use style=\"fill:#4c72b0;stroke:#333333;\" x=\"248.129897\" xlink:href=\"#m4ea67aef23\" y=\"59.571813\"/>\n     <use style=\"fill:#4c72b0;stroke:#333333;\" x=\"262.345625\" xlink:href=\"#m4ea67aef23\" y=\"60.314034\"/>\n     <use style=\"fill:#4c72b0;stroke:#333333;\" x=\"241.116491\" xlink:href=\"#m4ea67aef23\" y=\"66.638788\"/>\n     <use style=\"fill:#4c72b0;stroke:#333333;\" x=\"226.919551\" xlink:href=\"#m4ea67aef23\" y=\"63.972653\"/>\n     <use style=\"fill:#4c72b0;stroke:#333333;\" x=\"230.1941\" xlink:href=\"#m4ea67aef23\" y=\"78.292634\"/>\n     <use style=\"fill:#4c72b0;stroke:#333333;\" x=\"104.160215\" xlink:href=\"#m4ea67aef23\" y=\"216.823009\"/>\n     <use style=\"fill:#4c72b0;stroke:#333333;\" x=\"124.76167\" xlink:href=\"#m4ea67aef23\" y=\"229.874489\"/>\n     <use style=\"fill:#4c72b0;stroke:#333333;\" x=\"217.031155\" xlink:href=\"#m4ea67aef23\" y=\"65.360947\"/>\n     <use style=\"fill:#4c72b0;stroke:#333333;\" x=\"249.282485\" xlink:href=\"#m4ea67aef23\" y=\"69.203057\"/>\n     <use style=\"fill:#4c72b0;stroke:#333333;\" x=\"229.875906\" xlink:href=\"#m4ea67aef23\" y=\"66.318666\"/>\n     <use style=\"fill:#4c72b0;stroke:#333333;\" x=\"106.186134\" xlink:href=\"#m4ea67aef23\" y=\"211.903465\"/>\n     <use style=\"fill:#4c72b0;stroke:#333333;\" x=\"252.972993\" xlink:href=\"#m4ea67aef23\" y=\"64.782193\"/>\n     <use style=\"fill:#4c72b0;stroke:#333333;\" x=\"264.639476\" xlink:href=\"#m4ea67aef23\" y=\"73.807957\"/>\n     <use style=\"fill:#4c72b0;stroke:#333333;\" x=\"102.482497\" xlink:href=\"#m4ea67aef23\" y=\"201.731318\"/>\n     <use style=\"fill:#4c72b0;stroke:#333333;\" x=\"249.922838\" xlink:href=\"#m4ea67aef23\" y=\"62.866537\"/>\n     <use style=\"fill:#4c72b0;stroke:#333333;\" x=\"123.856301\" xlink:href=\"#m4ea67aef23\" y=\"207.745412\"/>\n     <use style=\"fill:#4c72b0;stroke:#333333;\" x=\"231.711913\" xlink:href=\"#m4ea67aef23\" y=\"49.899493\"/>\n     <use style=\"fill:#4c72b0;stroke:#333333;\" x=\"254.667367\" xlink:href=\"#m4ea67aef23\" y=\"71.862476\"/>\n    </g>\n   </g>\n   <g id=\"PathCollection_2\">\n    <defs>\n     <path d=\"M 0 3 \nC 0.795609 3 1.55874 2.683901 2.12132 2.12132 \nC 2.683901 1.55874 3 0.795609 3 0 \nC 3 -0.795609 2.683901 -1.55874 2.12132 -2.12132 \nC 1.55874 -2.683901 0.795609 -3 0 -3 \nC -0.795609 -3 -1.55874 -2.683901 -2.12132 -2.12132 \nC -2.683901 -1.55874 -3 -0.795609 -3 0 \nC -3 0.795609 -2.683901 1.55874 -2.12132 2.12132 \nC -1.55874 2.683901 -0.795609 3 0 3 \nz\n\" id=\"m3c6fa69b2d\" style=\"stroke:#333333;\"/>\n    </defs>\n    <g clip-path=\"url(#p727167ba38)\">\n     <use style=\"fill:#dd8452;stroke:#333333;\" x=\"110.430274\" xlink:href=\"#m3c6fa69b2d\" y=\"67.128969\"/>\n     <use style=\"fill:#dd8452;stroke:#333333;\" x=\"224.820154\" xlink:href=\"#m3c6fa69b2d\" y=\"198.722206\"/>\n     <use style=\"fill:#dd8452;stroke:#333333;\" x=\"247.569615\" xlink:href=\"#m3c6fa69b2d\" y=\"194.541869\"/>\n     <use style=\"fill:#dd8452;stroke:#333333;\" x=\"269.494659\" xlink:href=\"#m3c6fa69b2d\" y=\"173.187129\"/>\n     <use style=\"fill:#dd8452;stroke:#333333;\" x=\"229.024\" xlink:href=\"#m3c6fa69b2d\" y=\"226.737652\"/>\n     <use style=\"fill:#dd8452;stroke:#333333;\" x=\"254.828558\" xlink:href=\"#m3c6fa69b2d\" y=\"205.202456\"/>\n     <use style=\"fill:#dd8452;stroke:#333333;\" x=\"235.400431\" xlink:href=\"#m3c6fa69b2d\" y=\"206.60934\"/>\n     <use style=\"fill:#dd8452;stroke:#333333;\" x=\"102.210879\" xlink:href=\"#m3c6fa69b2d\" y=\"90.777555\"/>\n     <use style=\"fill:#dd8452;stroke:#333333;\" x=\"96.652661\" xlink:href=\"#m3c6fa69b2d\" y=\"81.941319\"/>\n     <use style=\"fill:#dd8452;stroke:#333333;\" x=\"116.071523\" xlink:href=\"#m3c6fa69b2d\" y=\"73.677504\"/>\n     <use style=\"fill:#dd8452;stroke:#333333;\" x=\"117.332774\" xlink:href=\"#m3c6fa69b2d\" y=\"92.070231\"/>\n     <use style=\"fill:#dd8452;stroke:#333333;\" x=\"246.06906\" xlink:href=\"#m3c6fa69b2d\" y=\"207.945808\"/>\n     <use style=\"fill:#dd8452;stroke:#333333;\" x=\"245.673555\" xlink:href=\"#m3c6fa69b2d\" y=\"180.226534\"/>\n     <use style=\"fill:#dd8452;stroke:#333333;\" x=\"97.762876\" xlink:href=\"#m3c6fa69b2d\" y=\"80.264357\"/>\n     <use style=\"fill:#dd8452;stroke:#333333;\" x=\"104.268306\" xlink:href=\"#m3c6fa69b2d\" y=\"66.863387\"/>\n     <use style=\"fill:#dd8452;stroke:#333333;\" x=\"101.895723\" xlink:href=\"#m3c6fa69b2d\" y=\"78.074315\"/>\n     <use style=\"fill:#dd8452;stroke:#333333;\" x=\"104.729364\" xlink:href=\"#m3c6fa69b2d\" y=\"56.040975\"/>\n     <use style=\"fill:#dd8452;stroke:#333333;\" x=\"118.571129\" xlink:href=\"#m3c6fa69b2d\" y=\"53.288603\"/>\n     <use style=\"fill:#dd8452;stroke:#333333;\" x=\"233.000622\" xlink:href=\"#m3c6fa69b2d\" y=\"202.161308\"/>\n     <use style=\"fill:#dd8452;stroke:#333333;\" x=\"267.096944\" xlink:href=\"#m3c6fa69b2d\" y=\"227.048275\"/>\n     <use style=\"fill:#dd8452;stroke:#333333;\" x=\"238.012436\" xlink:href=\"#m3c6fa69b2d\" y=\"212.738285\"/>\n     <use style=\"fill:#dd8452;stroke:#333333;\" x=\"243.054007\" xlink:href=\"#m3c6fa69b2d\" y=\"210.402422\"/>\n     <use style=\"fill:#dd8452;stroke:#333333;\" x=\"145.331111\" xlink:href=\"#m3c6fa69b2d\" y=\"64.423159\"/>\n     <use style=\"fill:#dd8452;stroke:#333333;\" x=\"107.299125\" xlink:href=\"#m3c6fa69b2d\" y=\"65.281255\"/>\n     <use style=\"fill:#dd8452;stroke:#333333;\" x=\"251.607695\" xlink:href=\"#m3c6fa69b2d\" y=\"197.020611\"/>\n     <use style=\"fill:#dd8452;stroke:#333333;\" x=\"106.960047\" xlink:href=\"#m3c6fa69b2d\" y=\"75.002382\"/>\n     <use style=\"fill:#dd8452;stroke:#333333;\" x=\"93.313315\" xlink:href=\"#m3c6fa69b2d\" y=\"59.588736\"/>\n     <use style=\"fill:#dd8452;stroke:#333333;\" x=\"240.119463\" xlink:href=\"#m3c6fa69b2d\" y=\"215.726292\"/>\n     <use style=\"fill:#dd8452;stroke:#333333;\" x=\"247.666295\" xlink:href=\"#m3c6fa69b2d\" y=\"189.443921\"/>\n     <use style=\"fill:#dd8452;stroke:#333333;\" x=\"227.534819\" xlink:href=\"#m3c6fa69b2d\" y=\"198.305888\"/>\n     <use style=\"fill:#dd8452;stroke:#333333;\" x=\"116.300123\" xlink:href=\"#m3c6fa69b2d\" y=\"60.91046\"/>\n     <use style=\"fill:#dd8452;stroke:#333333;\" x=\"112.566735\" xlink:href=\"#m3c6fa69b2d\" y=\"46.112625\"/>\n     <use style=\"fill:#dd8452;stroke:#333333;\" x=\"113.40348\" xlink:href=\"#m3c6fa69b2d\" y=\"86.141302\"/>\n     <use style=\"fill:#dd8452;stroke:#333333;\" x=\"132.381553\" xlink:href=\"#m3c6fa69b2d\" y=\"48.324779\"/>\n     <use style=\"fill:#dd8452;stroke:#333333;\" x=\"115.341911\" xlink:href=\"#m3c6fa69b2d\" y=\"59.263051\"/>\n     <use style=\"fill:#dd8452;stroke:#333333;\" x=\"250.399542\" xlink:href=\"#m3c6fa69b2d\" y=\"209.138007\"/>\n     <use style=\"fill:#dd8452;stroke:#333333;\" x=\"237.748768\" xlink:href=\"#m3c6fa69b2d\" y=\"198.118123\"/>\n     <use style=\"fill:#dd8452;stroke:#333333;\" x=\"111.386682\" xlink:href=\"#m3c6fa69b2d\" y=\"61.883263\"/>\n     <use style=\"fill:#dd8452;stroke:#333333;\" x=\"262.719844\" xlink:href=\"#m3c6fa69b2d\" y=\"196.934428\"/>\n     <use style=\"fill:#dd8452;stroke:#333333;\" x=\"109.92925\" xlink:href=\"#m3c6fa69b2d\" y=\"44.230192\"/>\n     <use style=\"fill:#dd8452;stroke:#333333;\" x=\"233.360279\" xlink:href=\"#m3c6fa69b2d\" y=\"215.530524\"/>\n     <use style=\"fill:#dd8452;stroke:#333333;\" x=\"113.771489\" xlink:href=\"#m3c6fa69b2d\" y=\"87.039696\"/>\n     <use style=\"fill:#dd8452;stroke:#333333;\" x=\"134.415949\" xlink:href=\"#m3c6fa69b2d\" y=\"70.21922\"/>\n     <use style=\"fill:#dd8452;stroke:#333333;\" x=\"258.055545\" xlink:href=\"#m3c6fa69b2d\" y=\"201.506357\"/>\n     <use style=\"fill:#dd8452;stroke:#333333;\" x=\"243.399405\" xlink:href=\"#m3c6fa69b2d\" y=\"206.7417\"/>\n     <use style=\"fill:#dd8452;stroke:#333333;\" x=\"121.611605\" xlink:href=\"#m3c6fa69b2d\" y=\"68.482419\"/>\n     <use style=\"fill:#dd8452;stroke:#333333;\" x=\"223.30093\" xlink:href=\"#m3c6fa69b2d\" y=\"198.154055\"/>\n     <use style=\"fill:#dd8452;stroke:#333333;\" x=\"227.803578\" xlink:href=\"#m3c6fa69b2d\" y=\"206.892294\"/>\n     <use style=\"fill:#dd8452;stroke:#333333;\" x=\"256.308873\" xlink:href=\"#m3c6fa69b2d\" y=\"196.314693\"/>\n     <use style=\"fill:#dd8452;stroke:#333333;\" x=\"87.679825\" xlink:href=\"#m3c6fa69b2d\" y=\"58.286742\"/>\n     <use style=\"fill:#dd8452;stroke:#333333;\" x=\"253.339979\" xlink:href=\"#m3c6fa69b2d\" y=\"196.397506\"/>\n     <use style=\"fill:#dd8452;stroke:#333333;\" x=\"234.096225\" xlink:href=\"#m3c6fa69b2d\" y=\"216.333033\"/>\n     <use style=\"fill:#dd8452;stroke:#333333;\" x=\"116.375843\" xlink:href=\"#m3c6fa69b2d\" y=\"49.339282\"/>\n     <use style=\"fill:#dd8452;stroke:#333333;\" x=\"97.262714\" xlink:href=\"#m3c6fa69b2d\" y=\"85.139545\"/>\n     <use style=\"fill:#dd8452;stroke:#333333;\" x=\"234.039764\" xlink:href=\"#m3c6fa69b2d\" y=\"204.537217\"/>\n     <use style=\"fill:#dd8452;stroke:#333333;\" x=\"111.817884\" xlink:href=\"#m3c6fa69b2d\" y=\"58.410268\"/>\n     <use style=\"fill:#dd8452;stroke:#333333;\" x=\"247.21773\" xlink:href=\"#m3c6fa69b2d\" y=\"197.530264\"/>\n     <use style=\"fill:#dd8452;stroke:#333333;\" x=\"115.16042\" xlink:href=\"#m3c6fa69b2d\" y=\"67.616188\"/>\n     <use style=\"fill:#dd8452;stroke:#333333;\" x=\"266.684164\" xlink:href=\"#m3c6fa69b2d\" y=\"216.516693\"/>\n     <use style=\"fill:#dd8452;stroke:#333333;\" x=\"115.618781\" xlink:href=\"#m3c6fa69b2d\" y=\"64.765363\"/>\n     <use style=\"fill:#dd8452;stroke:#333333;\" x=\"91.026126\" xlink:href=\"#m3c6fa69b2d\" y=\"88.772507\"/>\n     <use style=\"fill:#dd8452;stroke:#333333;\" x=\"240.555766\" xlink:href=\"#m3c6fa69b2d\" y=\"198.386125\"/>\n     <use style=\"fill:#dd8452;stroke:#333333;\" x=\"109.412735\" xlink:href=\"#m3c6fa69b2d\" y=\"56.362422\"/>\n     <use style=\"fill:#dd8452;stroke:#333333;\" x=\"260.511204\" xlink:href=\"#m3c6fa69b2d\" y=\"196.200788\"/>\n     <use style=\"fill:#dd8452;stroke:#333333;\" x=\"255.065205\" xlink:href=\"#m3c6fa69b2d\" y=\"210.551994\"/>\n     <use style=\"fill:#dd8452;stroke:#333333;\" x=\"224.475677\" xlink:href=\"#m3c6fa69b2d\" y=\"201.903543\"/>\n     <use style=\"fill:#dd8452;stroke:#333333;\" x=\"97.323439\" xlink:href=\"#m3c6fa69b2d\" y=\"85.41849\"/>\n     <use style=\"fill:#dd8452;stroke:#333333;\" x=\"114.516102\" xlink:href=\"#m3c6fa69b2d\" y=\"53.795722\"/>\n     <use style=\"fill:#dd8452;stroke:#333333;\" x=\"247.839684\" xlink:href=\"#m3c6fa69b2d\" y=\"205.058367\"/>\n     <use style=\"fill:#dd8452;stroke:#333333;\" x=\"148.421235\" xlink:href=\"#m3c6fa69b2d\" y=\"64.921723\"/>\n     <use style=\"fill:#dd8452;stroke:#333333;\" x=\"251.39822\" xlink:href=\"#m3c6fa69b2d\" y=\"199.056989\"/>\n     <use style=\"fill:#dd8452;stroke:#333333;\" x=\"89.105122\" xlink:href=\"#m3c6fa69b2d\" y=\"74.866054\"/>\n     <use style=\"fill:#dd8452;stroke:#333333;\" x=\"251.167965\" xlink:href=\"#m3c6fa69b2d\" y=\"191.040376\"/>\n     <use style=\"fill:#dd8452;stroke:#333333;\" x=\"69.170298\" xlink:href=\"#m3c6fa69b2d\" y=\"88.315854\"/>\n     <use style=\"fill:#dd8452;stroke:#333333;\" x=\"240.045442\" xlink:href=\"#m3c6fa69b2d\" y=\"209.36653\"/>\n     <use style=\"fill:#dd8452;stroke:#333333;\" x=\"99.513911\" xlink:href=\"#m3c6fa69b2d\" y=\"75.402625\"/>\n     <use style=\"fill:#dd8452;stroke:#333333;\" x=\"118.446081\" xlink:href=\"#m3c6fa69b2d\" y=\"72.94041\"/>\n     <use style=\"fill:#dd8452;stroke:#333333;\" x=\"244.569727\" xlink:href=\"#m3c6fa69b2d\" y=\"190.23094\"/>\n     <use style=\"fill:#dd8452;stroke:#333333;\" x=\"135.755895\" xlink:href=\"#m3c6fa69b2d\" y=\"86.926828\"/>\n     <use style=\"fill:#dd8452;stroke:#333333;\" x=\"244.095751\" xlink:href=\"#m3c6fa69b2d\" y=\"219.851606\"/>\n     <use style=\"fill:#dd8452;stroke:#333333;\" x=\"108.600978\" xlink:href=\"#m3c6fa69b2d\" y=\"56.353321\"/>\n     <use style=\"fill:#dd8452;stroke:#333333;\" x=\"250.53042\" xlink:href=\"#m3c6fa69b2d\" y=\"200.075074\"/>\n     <use style=\"fill:#dd8452;stroke:#333333;\" x=\"91.155616\" xlink:href=\"#m3c6fa69b2d\" y=\"77.158375\"/>\n     <use style=\"fill:#dd8452;stroke:#333333;\" x=\"262.873484\" xlink:href=\"#m3c6fa69b2d\" y=\"195.632136\"/>\n     <use style=\"fill:#dd8452;stroke:#333333;\" x=\"100.388099\" xlink:href=\"#m3c6fa69b2d\" y=\"57.912935\"/>\n     <use style=\"fill:#dd8452;stroke:#333333;\" x=\"269.038735\" xlink:href=\"#m3c6fa69b2d\" y=\"221.555766\"/>\n     <use style=\"fill:#dd8452;stroke:#333333;\" x=\"272.079389\" xlink:href=\"#m3c6fa69b2d\" y=\"208.600443\"/>\n     <use style=\"fill:#dd8452;stroke:#333333;\" x=\"245.012121\" xlink:href=\"#m3c6fa69b2d\" y=\"195.317897\"/>\n     <use style=\"fill:#dd8452;stroke:#333333;\" x=\"237.408423\" xlink:href=\"#m3c6fa69b2d\" y=\"216.074934\"/>\n     <use style=\"fill:#dd8452;stroke:#333333;\" x=\"244.204359\" xlink:href=\"#m3c6fa69b2d\" y=\"194.412203\"/>\n     <use style=\"fill:#dd8452;stroke:#333333;\" x=\"248.725963\" xlink:href=\"#m3c6fa69b2d\" y=\"218.678138\"/>\n     <use style=\"fill:#dd8452;stroke:#333333;\" x=\"256.740497\" xlink:href=\"#m3c6fa69b2d\" y=\"190.553229\"/>\n     <use style=\"fill:#dd8452;stroke:#333333;\" x=\"108.655814\" xlink:href=\"#m3c6fa69b2d\" y=\"71.397244\"/>\n     <use style=\"fill:#dd8452;stroke:#333333;\" x=\"212.086343\" xlink:href=\"#m3c6fa69b2d\" y=\"203.764845\"/>\n     <use style=\"fill:#dd8452;stroke:#333333;\" x=\"108.664758\" xlink:href=\"#m3c6fa69b2d\" y=\"71.29886\"/>\n     <use style=\"fill:#dd8452;stroke:#333333;\" x=\"125.587494\" xlink:href=\"#m3c6fa69b2d\" y=\"72.522239\"/>\n     <use style=\"fill:#dd8452;stroke:#333333;\" x=\"132.667815\" xlink:href=\"#m3c6fa69b2d\" y=\"44.557545\"/>\n    </g>\n   </g>\n   <g id=\"patch_3\">\n    <path d=\"M 59.024844 239.758125 \nL 59.024844 22.318125 \n\" style=\"fill:none;stroke:#ffffff;stroke-linecap:square;stroke-linejoin:miter;stroke-width:1.25;\"/>\n   </g>\n   <g id=\"patch_4\">\n    <path d=\"M 282.224844 239.758125 \nL 282.224844 22.318125 \n\" style=\"fill:none;stroke:#ffffff;stroke-linecap:square;stroke-linejoin:miter;stroke-width:1.25;\"/>\n   </g>\n   <g id=\"patch_5\">\n    <path d=\"M 59.024844 239.758125 \nL 282.224844 239.758125 \n\" style=\"fill:none;stroke:#ffffff;stroke-linecap:square;stroke-linejoin:miter;stroke-width:1.25;\"/>\n   </g>\n   <g id=\"patch_6\">\n    <path d=\"M 59.024844 22.318125 \nL 282.224844 22.318125 \n\" style=\"fill:none;stroke:#ffffff;stroke-linecap:square;stroke-linejoin:miter;stroke-width:1.25;\"/>\n   </g>\n   <g id=\"text_14\">\n    <!-- Dataset samples -->\n    <defs>\n     <path d=\"M 19.671875 64.796875 \nL 19.671875 8.109375 \nL 31.59375 8.109375 \nQ 46.6875 8.109375 53.6875 14.9375 \nQ 60.6875 21.78125 60.6875 36.53125 \nQ 60.6875 51.171875 53.6875 57.984375 \nQ 46.6875 64.796875 31.59375 64.796875 \nz\nM 9.8125 72.90625 \nL 30.078125 72.90625 \nQ 51.265625 72.90625 61.171875 64.09375 \nQ 71.09375 55.28125 71.09375 36.53125 \nQ 71.09375 17.671875 61.125 8.828125 \nQ 51.171875 0 30.078125 0 \nL 9.8125 0 \nz\n\" id=\"DejaVuSans-68\"/>\n     <path d=\"M 34.28125 27.484375 \nQ 23.390625 27.484375 19.1875 25 \nQ 14.984375 22.515625 14.984375 16.5 \nQ 14.984375 11.71875 18.140625 8.90625 \nQ 21.296875 6.109375 26.703125 6.109375 \nQ 34.1875 6.109375 38.703125 11.40625 \nQ 43.21875 16.703125 43.21875 25.484375 \nL 43.21875 27.484375 \nz\nM 52.203125 31.203125 \nL 52.203125 0 \nL 43.21875 0 \nL 43.21875 8.296875 \nQ 40.140625 3.328125 35.546875 0.953125 \nQ 30.953125 -1.421875 24.3125 -1.421875 \nQ 15.921875 -1.421875 10.953125 3.296875 \nQ 6 8.015625 6 15.921875 \nQ 6 25.140625 12.171875 29.828125 \nQ 18.359375 34.515625 30.609375 34.515625 \nL 43.21875 34.515625 \nL 43.21875 35.40625 \nQ 43.21875 41.609375 39.140625 45 \nQ 35.0625 48.390625 27.6875 48.390625 \nQ 23 48.390625 18.546875 47.265625 \nQ 14.109375 46.140625 10.015625 43.890625 \nL 10.015625 52.203125 \nQ 14.9375 54.109375 19.578125 55.046875 \nQ 24.21875 56 28.609375 56 \nQ 40.484375 56 46.34375 49.84375 \nQ 52.203125 43.703125 52.203125 31.203125 \nz\n\" id=\"DejaVuSans-97\"/>\n     <path d=\"M 18.3125 70.21875 \nL 18.3125 54.6875 \nL 36.8125 54.6875 \nL 36.8125 47.703125 \nL 18.3125 47.703125 \nL 18.3125 18.015625 \nQ 18.3125 11.328125 20.140625 9.421875 \nQ 21.96875 7.515625 27.59375 7.515625 \nL 36.8125 7.515625 \nL 36.8125 0 \nL 27.59375 0 \nQ 17.1875 0 13.234375 3.875 \nQ 9.28125 7.765625 9.28125 18.015625 \nL 9.28125 47.703125 \nL 2.6875 47.703125 \nL 2.6875 54.6875 \nL 9.28125 54.6875 \nL 9.28125 70.21875 \nz\n\" id=\"DejaVuSans-116\"/>\n     <path d=\"M 44.28125 53.078125 \nL 44.28125 44.578125 \nQ 40.484375 46.53125 36.375 47.5 \nQ 32.28125 48.484375 27.875 48.484375 \nQ 21.1875 48.484375 17.84375 46.4375 \nQ 14.5 44.390625 14.5 40.28125 \nQ 14.5 37.15625 16.890625 35.375 \nQ 19.28125 33.59375 26.515625 31.984375 \nL 29.59375 31.296875 \nQ 39.15625 29.25 43.1875 25.515625 \nQ 47.21875 21.78125 47.21875 15.09375 \nQ 47.21875 7.46875 41.1875 3.015625 \nQ 35.15625 -1.421875 24.609375 -1.421875 \nQ 20.21875 -1.421875 15.453125 -0.5625 \nQ 10.6875 0.296875 5.421875 2 \nL 5.421875 11.28125 \nQ 10.40625 8.6875 15.234375 7.390625 \nQ 20.0625 6.109375 24.8125 6.109375 \nQ 31.15625 6.109375 34.5625 8.28125 \nQ 37.984375 10.453125 37.984375 14.40625 \nQ 37.984375 18.0625 35.515625 20.015625 \nQ 33.0625 21.96875 24.703125 23.78125 \nL 21.578125 24.515625 \nQ 13.234375 26.265625 9.515625 29.90625 \nQ 5.8125 33.546875 5.8125 39.890625 \nQ 5.8125 47.609375 11.28125 51.796875 \nQ 16.75 56 26.8125 56 \nQ 31.78125 56 36.171875 55.265625 \nQ 40.578125 54.546875 44.28125 53.078125 \nz\n\" id=\"DejaVuSans-115\"/>\n     <path d=\"M 56.203125 29.59375 \nL 56.203125 25.203125 \nL 14.890625 25.203125 \nQ 15.484375 15.921875 20.484375 11.0625 \nQ 25.484375 6.203125 34.421875 6.203125 \nQ 39.59375 6.203125 44.453125 7.46875 \nQ 49.3125 8.734375 54.109375 11.28125 \nL 54.109375 2.78125 \nQ 49.265625 0.734375 44.1875 -0.34375 \nQ 39.109375 -1.421875 33.890625 -1.421875 \nQ 20.796875 -1.421875 13.15625 6.1875 \nQ 5.515625 13.8125 5.515625 26.8125 \nQ 5.515625 40.234375 12.765625 48.109375 \nQ 20.015625 56 32.328125 56 \nQ 43.359375 56 49.78125 48.890625 \nQ 56.203125 41.796875 56.203125 29.59375 \nz\nM 47.21875 32.234375 \nQ 47.125 39.59375 43.09375 43.984375 \nQ 39.0625 48.390625 32.421875 48.390625 \nQ 24.90625 48.390625 20.390625 44.140625 \nQ 15.875 39.890625 15.1875 32.171875 \nz\n\" id=\"DejaVuSans-101\"/>\n     <path id=\"DejaVuSans-32\"/>\n     <path d=\"M 52 44.1875 \nQ 55.375 50.25 60.0625 53.125 \nQ 64.75 56 71.09375 56 \nQ 79.640625 56 84.28125 50.015625 \nQ 88.921875 44.046875 88.921875 33.015625 \nL 88.921875 0 \nL 79.890625 0 \nL 79.890625 32.71875 \nQ 79.890625 40.578125 77.09375 44.375 \nQ 74.3125 48.1875 68.609375 48.1875 \nQ 61.625 48.1875 57.5625 43.546875 \nQ 53.515625 38.921875 53.515625 30.90625 \nL 53.515625 0 \nL 44.484375 0 \nL 44.484375 32.71875 \nQ 44.484375 40.625 41.703125 44.40625 \nQ 38.921875 48.1875 33.109375 48.1875 \nQ 26.21875 48.1875 22.15625 43.53125 \nQ 18.109375 38.875 18.109375 30.90625 \nL 18.109375 0 \nL 9.078125 0 \nL 9.078125 54.6875 \nL 18.109375 54.6875 \nL 18.109375 46.1875 \nQ 21.1875 51.21875 25.484375 53.609375 \nQ 29.78125 56 35.6875 56 \nQ 41.65625 56 45.828125 52.96875 \nQ 50 49.953125 52 44.1875 \nz\n\" id=\"DejaVuSans-109\"/>\n     <path d=\"M 18.109375 8.203125 \nL 18.109375 -20.796875 \nL 9.078125 -20.796875 \nL 9.078125 54.6875 \nL 18.109375 54.6875 \nL 18.109375 46.390625 \nQ 20.953125 51.265625 25.265625 53.625 \nQ 29.59375 56 35.59375 56 \nQ 45.5625 56 51.78125 48.09375 \nQ 58.015625 40.1875 58.015625 27.296875 \nQ 58.015625 14.40625 51.78125 6.484375 \nQ 45.5625 -1.421875 35.59375 -1.421875 \nQ 29.59375 -1.421875 25.265625 0.953125 \nQ 20.953125 3.328125 18.109375 8.203125 \nz\nM 48.6875 27.296875 \nQ 48.6875 37.203125 44.609375 42.84375 \nQ 40.53125 48.484375 33.40625 48.484375 \nQ 26.265625 48.484375 22.1875 42.84375 \nQ 18.109375 37.203125 18.109375 27.296875 \nQ 18.109375 17.390625 22.1875 11.75 \nQ 26.265625 6.109375 33.40625 6.109375 \nQ 40.53125 6.109375 44.609375 11.75 \nQ 48.6875 17.390625 48.6875 27.296875 \nz\n\" id=\"DejaVuSans-112\"/>\n     <path d=\"M 9.421875 75.984375 \nL 18.40625 75.984375 \nL 18.40625 0 \nL 9.421875 0 \nz\n\" id=\"DejaVuSans-108\"/>\n    </defs>\n    <g style=\"fill:#262626;\" transform=\"translate(120.282031 16.318125)scale(0.12 -0.12)\">\n     <use xlink:href=\"#DejaVuSans-68\"/>\n     <use x=\"77.001953\" xlink:href=\"#DejaVuSans-97\"/>\n     <use x=\"138.28125\" xlink:href=\"#DejaVuSans-116\"/>\n     <use x=\"177.490234\" xlink:href=\"#DejaVuSans-97\"/>\n     <use x=\"238.769531\" xlink:href=\"#DejaVuSans-115\"/>\n     <use x=\"290.869141\" xlink:href=\"#DejaVuSans-101\"/>\n     <use x=\"352.392578\" xlink:href=\"#DejaVuSans-116\"/>\n     <use x=\"391.601562\" xlink:href=\"#DejaVuSans-32\"/>\n     <use x=\"423.388672\" xlink:href=\"#DejaVuSans-115\"/>\n     <use x=\"475.488281\" xlink:href=\"#DejaVuSans-97\"/>\n     <use x=\"536.767578\" xlink:href=\"#DejaVuSans-109\"/>\n     <use x=\"634.179688\" xlink:href=\"#DejaVuSans-112\"/>\n     <use x=\"697.65625\" xlink:href=\"#DejaVuSans-108\"/>\n     <use x=\"725.439453\" xlink:href=\"#DejaVuSans-101\"/>\n     <use x=\"786.962891\" xlink:href=\"#DejaVuSans-115\"/>\n    </g>\n   </g>\n   <g id=\"legend_1\">\n    <g id=\"patch_7\">\n     <path d=\"M 199.891562 148.834063 \nL 274.524844 148.834063 \nQ 276.724844 148.834063 276.724844 146.634063 \nL 276.724844 115.442187 \nQ 276.724844 113.242188 274.524844 113.242188 \nL 199.891562 113.242188 \nQ 197.691562 113.242188 197.691562 115.442187 \nL 197.691562 146.634063 \nQ 197.691562 148.834063 199.891562 148.834063 \nz\n\" style=\"fill:#eaeaf2;opacity:0.8;stroke:#cccccc;stroke-linejoin:miter;\"/>\n    </g>\n    <g id=\"PathCollection_3\">\n     <g>\n      <use style=\"fill:#4c72b0;stroke:#333333;\" x=\"213.091562\" xlink:href=\"#m4ea67aef23\" y=\"123.112969\"/>\n     </g>\n    </g>\n    <g id=\"text_15\">\n     <!-- Class 0 -->\n     <defs>\n      <path d=\"M 64.40625 67.28125 \nL 64.40625 56.890625 \nQ 59.421875 61.53125 53.78125 63.8125 \nQ 48.140625 66.109375 41.796875 66.109375 \nQ 29.296875 66.109375 22.65625 58.46875 \nQ 16.015625 50.828125 16.015625 36.375 \nQ 16.015625 21.96875 22.65625 14.328125 \nQ 29.296875 6.6875 41.796875 6.6875 \nQ 48.140625 6.6875 53.78125 8.984375 \nQ 59.421875 11.28125 64.40625 15.921875 \nL 64.40625 5.609375 \nQ 59.234375 2.09375 53.4375 0.328125 \nQ 47.65625 -1.421875 41.21875 -1.421875 \nQ 24.65625 -1.421875 15.125 8.703125 \nQ 5.609375 18.84375 5.609375 36.375 \nQ 5.609375 53.953125 15.125 64.078125 \nQ 24.65625 74.21875 41.21875 74.21875 \nQ 47.75 74.21875 53.53125 72.484375 \nQ 59.328125 70.75 64.40625 67.28125 \nz\n\" id=\"DejaVuSans-67\"/>\n     </defs>\n     <g style=\"fill:#262626;\" transform=\"translate(232.891562 126.000469)scale(0.11 -0.11)\">\n      <use xlink:href=\"#DejaVuSans-67\"/>\n      <use x=\"69.824219\" xlink:href=\"#DejaVuSans-108\"/>\n      <use x=\"97.607422\" xlink:href=\"#DejaVuSans-97\"/>\n      <use x=\"158.886719\" xlink:href=\"#DejaVuSans-115\"/>\n      <use x=\"210.986328\" xlink:href=\"#DejaVuSans-115\"/>\n      <use x=\"263.085938\" xlink:href=\"#DejaVuSans-32\"/>\n      <use x=\"294.873047\" xlink:href=\"#DejaVuSans-48\"/>\n     </g>\n    </g>\n    <g id=\"PathCollection_4\">\n     <g>\n      <use style=\"fill:#dd8452;stroke:#333333;\" x=\"213.091562\" xlink:href=\"#m3c6fa69b2d\" y=\"139.258906\"/>\n     </g>\n    </g>\n    <g id=\"text_16\">\n     <!-- Class 1 -->\n     <g style=\"fill:#262626;\" transform=\"translate(232.891562 142.146406)scale(0.11 -0.11)\">\n      <use xlink:href=\"#DejaVuSans-67\"/>\n      <use x=\"69.824219\" xlink:href=\"#DejaVuSans-108\"/>\n      <use x=\"97.607422\" xlink:href=\"#DejaVuSans-97\"/>\n      <use x=\"158.886719\" xlink:href=\"#DejaVuSans-115\"/>\n      <use x=\"210.986328\" xlink:href=\"#DejaVuSans-115\"/>\n      <use x=\"263.085938\" xlink:href=\"#DejaVuSans-32\"/>\n      <use x=\"294.873047\" xlink:href=\"#DejaVuSans-49\"/>\n     </g>\n    </g>\n   </g>\n  </g>\n </g>\n <defs>\n  <clipPath id=\"p727167ba38\">\n   <rect height=\"217.44\" width=\"223.2\" x=\"59.024844\" y=\"22.318125\"/>\n  </clipPath>\n </defs>\n</svg>\n"
          },
          "metadata": {
            "needs_background": "light"
          }
        }
      ]
    },
    {
      "cell_type": "markdown",
      "metadata": {
        "id": "w8yQK5MdX_BC"
      },
      "source": [
        "#### The data loader class\n",
        "\n",
        "The class `torch.utils.data.DataLoader` represents a Python iterable over a dataset with support for automatic batching, multi-process data loading and many more features. The data loader communicates with the dataset using the function `__getitem__`, and stacks its outputs as tensors over the first dimension to form a batch.\n",
        "In contrast to the dataset class, we usually don't have to define our own data loader class, but can just create an object of it with the dataset as input. Additionally, we can configure our data loader with the following input arguments (only a selection, see full list [here](https://pytorch.org/docs/stable/data.html#torch.utils.data.DataLoader)):\n",
        "\n",
        "* `batch_size`: Number of samples to stack per batch\n",
        "* `shuffle`: If True, the data is returned in a random order. This is important during training for introducing stochasticity. \n",
        "* `num_workers`: Number of subprocesses to use for data loading. The default, 0, means that the data will be loaded in the main process which can slow down training for datasets where loading a data point takes a considerable amount of time (e.g. large images). More workers are recommended for those, but can cause issues on Windows computers. For tiny datasets as ours, 0 workers are usually faster.\n",
        "* `pin_memory`: If True, the data loader will copy Tensors into CUDA pinned memory before returning them. This can save some time for large data points on GPUs. Usually a good practice to use for a training set, but not necessarily for validation and test to save memory on the GPU.\n",
        "* `drop_last`: If True, the last batch is dropped in case it is smaller than the specified batch size. This occurs when the dataset size is not a multiple of the batch size. Only potentially helpful during training to keep a consistent batch size.\n",
        "\n",
        "Let's create a simple data loader below:"
      ]
    },
    {
      "cell_type": "code",
      "metadata": {
        "id": "SwTNEA3FX_BC"
      },
      "source": [
        "data_loader = data.DataLoader(dataset, batch_size=8, shuffle=True)"
      ],
      "execution_count": 44,
      "outputs": []
    },
    {
      "cell_type": "code",
      "metadata": {
        "colab": {
          "base_uri": "https://localhost:8080/"
        },
        "id": "XnCUNjGFX_BD",
        "outputId": "50cc2ffc-125c-4aae-c15f-acfdb97ee4d5"
      },
      "source": [
        "# next(iter(...)) catches the first batch of the data loader\n",
        "# If shuffle is True, this will return a different batch every time we run this cell\n",
        "# For iterating over the whole dataset, we can simple use \"for batch in data_loader: ...\"\n",
        "data_inputs, data_labels = next(iter(data_loader))\n",
        "\n",
        "# The shape of the outputs are [batch_size, d_1,...,d_N] where d_1,...,d_N are the \n",
        "# dimensions of the data point returned from the dataset class\n",
        "print(\"Data inputs\", data_inputs.shape, \"\\n\", data_inputs)\n",
        "print(\"Data labels\", data_labels.shape, \"\\n\", data_labels)"
      ],
      "execution_count": 45,
      "outputs": [
        {
          "output_type": "stream",
          "name": "stdout",
          "text": [
            "Data inputs torch.Size([8, 2]) \n",
            " tensor([[ 1.0483,  1.0488],\n",
            "        [ 1.1919, -0.1651],\n",
            "        [-0.0419,  0.1438],\n",
            "        [ 0.9428,  1.1949],\n",
            "        [-0.3102,  0.8541],\n",
            "        [-0.0642,  0.9325],\n",
            "        [ 0.9614,  1.0049],\n",
            "        [ 1.0212,  0.9275]])\n",
            "Data labels torch.Size([8]) \n",
            " tensor([0, 1, 0, 0, 1, 1, 0, 0])\n"
          ]
        }
      ]
    },
    {
      "cell_type": "markdown",
      "metadata": {
        "id": "Fyo1l-OTX_BD"
      },
      "source": [
        "### Optimization\n",
        "\n",
        "After defining the model and the dataset, it is time to prepare the optimization of the model. During training, we will perform the following steps:\n",
        "\n",
        "1. Get a batch from the data loader\n",
        "2. Obtain the predictions from the model for the batch\n",
        "3. Calculate the loss based on the difference between predictions and labels\n",
        "4. Backpropagation: calculate the gradients for every parameter with respect to the loss\n",
        "5. Update the parameters of the model in the direction of the gradients\n",
        "\n",
        "We have seen how we can do step 1, 2 and 4 in PyTorch. Now, we will look at step 3 and 5."
      ]
    },
    {
      "cell_type": "markdown",
      "metadata": {
        "id": "5clOxuLmX_BD"
      },
      "source": [
        "#### Loss modules\n",
        "\n",
        "We can calculate the loss for a batch by simply performing a few tensor operations as those are automatically added to the computation graph. For instance, for binary classification, we can use Binary Cross Entropy (BCE) which is defined as follows:\n",
        "\n",
        "$$\\mathcal{L}_{BCE} = -\\sum_i \\left[ y_i \\log x_i + (1 - y_i) \\log (1 - x_i) \\right]$$\n",
        "\n",
        "where $y$ are our labels, and $x$ our predictions, both in the range of $[0,1]$. However, PyTorch already provides a list of predefined loss functions which we can use (see [here](https://pytorch.org/docs/stable/nn.html#loss-functions) for a full list). For instance, for BCE, PyTorch has two modules: `nn.BCELoss()`, `nn.BCEWithLogitsLoss()`. While `nn.BCELoss` expects the inputs $x$ to be in the range $[0,1]$, i.e. the output of a sigmoid, `nn.BCEWithLogitsLoss` combines a sigmoid layer and the BCE loss in a single class. This version is numerically more stable than using a plain Sigmoid followed by a BCE loss because of the logarithms applied in the loss function. Hence, it is adviced to use loss functions applied on \"logits\" where possible (remember to not apply a sigmoid on the output of the model in this case!). For our model defined above, we therefore use the module `nn.BCEWithLogitsLoss`. "
      ]
    },
    {
      "cell_type": "code",
      "metadata": {
        "id": "nRvcurVkX_BE"
      },
      "source": [
        "loss_module = nn.BCEWithLogitsLoss()"
      ],
      "execution_count": 46,
      "outputs": []
    },
    {
      "cell_type": "markdown",
      "metadata": {
        "id": "ztpCxAmHX_BE"
      },
      "source": [
        "#### Stochastic Gradient Descent\n",
        "\n",
        "For updating the parameters, PyTorch provides the package `torch.optim` that has most popular optimizers implemented. We will discuss the specific optimizers and their differences later in the course, but will for now use the simplest of them: `torch.optim.SGD`. Stochastic Gradient Descent updates parameters by multiplying the gradients with a small constant, called learning rate, and subtracting those from the parameters (hence minimizing the loss). Therefore, we slowly move towards the direction of minimizing the loss. A good default value of the learning rate for a small network as ours is 0.1. "
      ]
    },
    {
      "cell_type": "code",
      "metadata": {
        "id": "9A79PH_NX_BE"
      },
      "source": [
        "# Input to the optimizer are the parameters of the model: model.parameters()\n",
        "optimizer = torch.optim.SGD(model.parameters(), lr=0.1)"
      ],
      "execution_count": 47,
      "outputs": []
    },
    {
      "cell_type": "markdown",
      "metadata": {
        "id": "s6CMqKQ0X_BF"
      },
      "source": [
        "The optimizer provides two useful functions: `optimizer.step()`, and `optimizer.zero_grad()`. The step function updates the parameters based on the gradients as explained above. The function `optimizer.zero_grad()` sets the gradients of all parameters to zero. While this function seems less relevant at first, it is a crucial pre-step before performing backpropagation. If we would call the `backward` function on the loss while the parameter gradients are non-zero from the previous batch, the new gradients would actually be added to the previous ones instead of overwriting them. This is done because a parameter might occur multiple times in a computation graph, and we need to sum the gradients in this case instead of replacing them. Hence, remember to call `optimizer.zero_grad()` before calculating the gradients of a batch."
      ]
    },
    {
      "cell_type": "markdown",
      "metadata": {
        "id": "SSVAFp_EX_BF"
      },
      "source": [
        "### Training\n",
        "\n",
        "Finally, we are ready to train our model. As a first step, we create a slightly larger dataset and specify a data loader with a larger batch size. "
      ]
    },
    {
      "cell_type": "code",
      "metadata": {
        "id": "g0E-bvPrX_BF"
      },
      "source": [
        "train_dataset = XORDataset(size=2500)\n",
        "train_data_loader = data.DataLoader(train_dataset, batch_size=128, shuffle=True)"
      ],
      "execution_count": 48,
      "outputs": []
    },
    {
      "cell_type": "markdown",
      "metadata": {
        "id": "jcdpgLyOX_BG"
      },
      "source": [
        "Now, we can write a small training function. Remember our five steps: load a batch, obtain the predictions, calculate the loss, backpropagate, and update. Additionally, we have to push all data and model parameters to the device of our choice (GPU if available). For the tiny neural network we have, communicating the data to the GPU actually takes much more time than we could save from running the operation on GPU. For large networks, the communication time is significantly smaller than the actual runtime making a GPU crucial in these cases. Still, to practice, we will push the data to GPU here. "
      ]
    },
    {
      "cell_type": "code",
      "metadata": {
        "colab": {
          "base_uri": "https://localhost:8080/"
        },
        "id": "W5nHp_QlX_BG",
        "outputId": "94c0c00d-3b16-4092-edd6-d31596b9a46f"
      },
      "source": [
        "# Push model to device. Has to be only done once\n",
        "model.to(device)"
      ],
      "execution_count": 49,
      "outputs": [
        {
          "output_type": "execute_result",
          "data": {
            "text/plain": [
              "SimpleClassifier(\n",
              "  (linear1): Linear(in_features=2, out_features=4, bias=True)\n",
              "  (act_fn): Tanh()\n",
              "  (linear2): Linear(in_features=4, out_features=1, bias=True)\n",
              ")"
            ]
          },
          "metadata": {},
          "execution_count": 49
        }
      ]
    },
    {
      "cell_type": "markdown",
      "metadata": {
        "id": "bd4o0MpIX_BH"
      },
      "source": [
        "In addition, we set our model to training mode. This is done by calling `model.train()`. There exist certain modules that need to perform a different forward step during training than during testing (e.g. BatchNorm and Dropout), and we can switch between them using `model.train()` and `model.eval()`."
      ]
    },
    {
      "cell_type": "code",
      "metadata": {
        "id": "EvfEIc4NX_BJ"
      },
      "source": [
        "def train_model(model, optimizer, data_loader, loss_module, num_epochs=100):\n",
        "    # Set model to train mode\n",
        "    model.train() \n",
        "    \n",
        "    # Training loop\n",
        "    for epoch in tqdm(range(num_epochs)):\n",
        "        for data_inputs, data_labels in data_loader:\n",
        "            \n",
        "            ## Step 1: Move input data to device (only strictly necessary if we use GPU)\n",
        "            data_inputs = data_inputs.to(device)\n",
        "            data_labels = data_labels.to(device)\n",
        "            \n",
        "            ## Step 2: Run the model on the input data\n",
        "            preds = model(data_inputs)\n",
        "            preds = preds.squeeze(dim=1) # Output is [Batch size, 1], but we want [Batch size]\n",
        "            \n",
        "            ## Step 3: Calculate the loss\n",
        "            loss = loss_module(preds, data_labels.float())\n",
        "            \n",
        "            ## Step 4: Perform backpropagation\n",
        "            # Before calculating the gradients, we need to ensure that they are all zero. \n",
        "            # The gradients would not be overwritten, but actually added to the existing ones.\n",
        "            optimizer.zero_grad() \n",
        "            # Perform backpropagation\n",
        "            loss.backward()\n",
        "            \n",
        "            ## Step 5: Update the parameters\n",
        "            optimizer.step()"
      ],
      "execution_count": 50,
      "outputs": []
    },
    {
      "cell_type": "code",
      "metadata": {
        "colab": {
          "base_uri": "https://localhost:8080/",
          "height": 49,
          "referenced_widgets": [
            "d1146219e8e34f4399325a6bb2098146",
            "67d3eeab8a1842e19a196896e031505b",
            "bc18f277e0a94b5999f6418c4731571d",
            "3d3391c85f48408d84cca61373682c38",
            "b13dae2943464ab3a9f84e6085be5c0b",
            "dfaa704305cb4e88ac30a56951434a56",
            "f4fb458dda1a4c3fa135796026de282c",
            "06c30e0bf1f44e1db544420b48829a8f",
            "82eb43a6395343099ebd516646ed5a79",
            "ebec3cac544c47119efd37718d4099dc",
            "1287adba61794f06ba346b1f622d9c87"
          ]
        },
        "id": "p2Ddg7oiX_BJ",
        "outputId": "7eb8f59d-f342-45fc-d8f2-70a485486fc3"
      },
      "source": [
        "train_model(model, optimizer, train_data_loader, loss_module)"
      ],
      "execution_count": 51,
      "outputs": [
        {
          "output_type": "display_data",
          "data": {
            "application/vnd.jupyter.widget-view+json": {
              "model_id": "d1146219e8e34f4399325a6bb2098146",
              "version_minor": 0,
              "version_major": 2
            },
            "text/plain": [
              "  0%|          | 0/100 [00:00<?, ?it/s]"
            ]
          },
          "metadata": {}
        }
      ]
    },
    {
      "cell_type": "markdown",
      "metadata": {
        "id": "BXxmrG3PX_BK"
      },
      "source": [
        "#### Saving a model\n",
        "\n",
        "After finish training a model, we save the model to disk so that we can load the same weights at a later time. For this, we extract the so-called `state_dict` from the model which contains all learnable parameters. For our simple model, the state dict contains the following entries:"
      ]
    },
    {
      "cell_type": "code",
      "metadata": {
        "colab": {
          "base_uri": "https://localhost:8080/"
        },
        "id": "oXZ5VKcwX_BK",
        "outputId": "a2d239cb-6653-4599-a387-f79a773f5c30"
      },
      "source": [
        "state_dict = model.state_dict()\n",
        "print(state_dict)"
      ],
      "execution_count": 52,
      "outputs": [
        {
          "output_type": "stream",
          "name": "stdout",
          "text": [
            "OrderedDict([('linear1.weight', tensor([[ 2.8957, -2.1860],\n",
            "        [-2.4901, -2.5125],\n",
            "        [-2.3119,  2.9668],\n",
            "        [ 1.2837,  1.2051]], device='cuda:0')), ('linear1.bias', tensor([ 0.9271,  0.8499,  1.0310, -1.9309], device='cuda:0')), ('linear2.weight', tensor([[-3.7568, -3.5683, -3.7784, -2.3891]], device='cuda:0')), ('linear2.bias', tensor([0.3319], device='cuda:0'))])\n"
          ]
        }
      ]
    },
    {
      "cell_type": "markdown",
      "metadata": {
        "id": "7Zg-cBETX_BL"
      },
      "source": [
        "To save the state dictionary, we can use `torch.save`:"
      ]
    },
    {
      "cell_type": "code",
      "metadata": {
        "id": "E2oeQS_rX_BL"
      },
      "source": [
        "# torch.save(object, filename). For the filename, any extension can be used\n",
        "torch.save(state_dict, \"our_model.tar\")"
      ],
      "execution_count": 53,
      "outputs": []
    },
    {
      "cell_type": "markdown",
      "metadata": {
        "id": "fuePsk3OX_BL"
      },
      "source": [
        "To load a model from a state dict, we use the function `torch.load` to load the state dict from the disk, and the module function `load_state_dict` to overwrite our parameters with the new values:"
      ]
    },
    {
      "cell_type": "code",
      "metadata": {
        "colab": {
          "base_uri": "https://localhost:8080/"
        },
        "id": "uHtmQH1hX_BL",
        "outputId": "62f8a7da-5d9b-4b6d-d877-af742130cd3d"
      },
      "source": [
        "# Load state dict from the disk (make sure it is the same name as above)\n",
        "state_dict = torch.load(\"our_model.tar\")\n",
        "\n",
        "# Create a new model and load the state\n",
        "new_model = SimpleClassifier(num_inputs=2, num_hidden=4, num_outputs=1)\n",
        "new_model.load_state_dict(state_dict)\n",
        "\n",
        "# Verify that the parameters are the same\n",
        "print(\"Original model\\n\", model.state_dict())\n",
        "print(\"\\nLoaded model\\n\", new_model.state_dict())"
      ],
      "execution_count": 54,
      "outputs": [
        {
          "output_type": "stream",
          "name": "stdout",
          "text": [
            "Original model\n",
            " OrderedDict([('linear1.weight', tensor([[ 2.8957, -2.1860],\n",
            "        [-2.4901, -2.5125],\n",
            "        [-2.3119,  2.9668],\n",
            "        [ 1.2837,  1.2051]], device='cuda:0')), ('linear1.bias', tensor([ 0.9271,  0.8499,  1.0310, -1.9309], device='cuda:0')), ('linear2.weight', tensor([[-3.7568, -3.5683, -3.7784, -2.3891]], device='cuda:0')), ('linear2.bias', tensor([0.3319], device='cuda:0'))])\n",
            "\n",
            "Loaded model\n",
            " OrderedDict([('linear1.weight', tensor([[ 2.8957, -2.1860],\n",
            "        [-2.4901, -2.5125],\n",
            "        [-2.3119,  2.9668],\n",
            "        [ 1.2837,  1.2051]])), ('linear1.bias', tensor([ 0.9271,  0.8499,  1.0310, -1.9309])), ('linear2.weight', tensor([[-3.7568, -3.5683, -3.7784, -2.3891]])), ('linear2.bias', tensor([0.3319]))])\n"
          ]
        }
      ]
    },
    {
      "cell_type": "markdown",
      "metadata": {
        "id": "4Ca-yDCFX_BM"
      },
      "source": [
        "A detailed tutorial on saving and loading models in PyTorch can be found [here](https://pytorch.org/tutorials/beginner/saving_loading_models.html)."
      ]
    },
    {
      "cell_type": "markdown",
      "metadata": {
        "id": "FigAkd_pX_BM"
      },
      "source": [
        "### Evaluation\n",
        "\n",
        "Once we have trained a model, it is time to evaluate it on a held-out test set. As our dataset consist of randomly generated data points, we need to first create a test set with a corresponding data loader."
      ]
    },
    {
      "cell_type": "code",
      "metadata": {
        "id": "MTAoPWJGX_BM"
      },
      "source": [
        "test_dataset = XORDataset(size=500)\n",
        "# drop_last -> Don't drop the last batch although it is smaller than 128\n",
        "test_data_loader = data.DataLoader(test_dataset, batch_size=128, shuffle=False, drop_last=False) "
      ],
      "execution_count": 55,
      "outputs": []
    },
    {
      "cell_type": "markdown",
      "metadata": {
        "id": "wS1cqkpUX_BM"
      },
      "source": [
        "As metric, we will use accuracy which is calculated as follows:\n",
        "\n",
        "$$acc = \\frac{\\#\\text{correct predictions}}{\\#\\text{all predictions}} = \\frac{TP+TN}{TP+TN+FP+FN}$$\n",
        "\n",
        "where TP are the true positives, TN true negatives, FP false positives, and FN the fale negatives. \n",
        "\n",
        "When evaluating the model, we don't need to keep track of the computation graph as we don't intend to calculate the gradients. This reduces the required memory and speed up the model. In PyTorch, we can deactivate the computation graph using `with torch.no_grad(): ...`. Remember to additionally set the model to eval mode."
      ]
    },
    {
      "cell_type": "code",
      "metadata": {
        "id": "psG77VUFX_BM"
      },
      "source": [
        "def eval_model(model, data_loader):\n",
        "    model.eval() # Set model to eval mode\n",
        "    true_preds, num_preds = 0., 0.\n",
        "    \n",
        "    with torch.no_grad(): # Deactivate gradients for the following code\n",
        "        for data_inputs, data_labels in data_loader:\n",
        "            \n",
        "            # Determine prediction of model on dev set\n",
        "            data_inputs, data_labels = data_inputs.to(device), data_labels.to(device)\n",
        "            preds = model(data_inputs)\n",
        "            preds = preds.squeeze(dim=1)\n",
        "            preds = torch.sigmoid(preds) # Sigmoid to map predictions between 0 and 1\n",
        "            pred_labels = (preds >= 0.5).long() # Binarize predictions to 0 and 1\n",
        "            \n",
        "            # Keep records of predictions for the accuracy metric (true_preds=TP+TN, num_preds=TP+TN+FP+FN)\n",
        "            true_preds += (pred_labels == data_labels).sum()\n",
        "            num_preds += data_labels.shape[0]\n",
        "            \n",
        "    acc = true_preds / num_preds\n",
        "    print(f\"Accuracy of the model: {100.0*acc:4.2f}%\")"
      ],
      "execution_count": 56,
      "outputs": []
    },
    {
      "cell_type": "code",
      "metadata": {
        "colab": {
          "base_uri": "https://localhost:8080/"
        },
        "id": "mKO0G_L2X_BM",
        "outputId": "b93bbb40-08f7-437e-f581-31dba3666e4b"
      },
      "source": [
        "eval_model(model, test_data_loader)"
      ],
      "execution_count": 57,
      "outputs": [
        {
          "output_type": "stream",
          "name": "stdout",
          "text": [
            "Accuracy of the model: 100.00%\n"
          ]
        }
      ]
    },
    {
      "cell_type": "markdown",
      "metadata": {
        "id": "hG0MmIbkX_BN"
      },
      "source": [
        "If we trained our model correctly, we should see a score close to 100% accuracy. However, this is only possible because of our simple task, and unfortunately, we usually don't get such high scores on test sets of more complex tasks."
      ]
    },
    {
      "cell_type": "markdown",
      "metadata": {
        "id": "ltVDdRN3o4n3"
      },
      "source": [
        "## Learning by example II: Convolution neural network (CNN) model for image classification. \n",
        "\n",
        "\n",
        "Let's try another neural network in PyTorch. The MNIST dataset contains 70.000 greyscale images of handwritten digits, each with a resolution of 28x28 pixels. Using convolutional neural networks, we aim to predict the digit shown in each image.\n",
        "\n",
        "In the previous example, we had to define the dataset first. In this example, we use a popular, \"Hello World\" kind of dataset, that is widely used to prototype and benchmark models. PyTorch conveniently provides a number of pre-loaded datasets, including [Image Datasets](https://pytorch.org/vision/stable/datasets.html), [Text Datasets](https://pytorch.org/text/stable/datasets.html), and [Audio Datasets](https://pytorch.org/text/stable/datasets.html). These datasets subclass `torch.utils.data.Dataset` and implement functions specific to the particular data. \n",
        "\n"
      ]
    },
    {
      "cell_type": "code",
      "metadata": {
        "id": "1EAoEYE8tvz0"
      },
      "source": [
        "from torchvision import datasets\n",
        "import torchvision.transforms as transforms"
      ],
      "execution_count": 58,
      "outputs": []
    },
    {
      "cell_type": "markdown",
      "metadata": {
        "id": "WLwyV5Rnrnd_"
      },
      "source": [
        "We load the MNIST Dataset with the following parameters:\n",
        "\n",
        "* `root` is the path where the train/test data is stored,\n",
        "* `train` specifies training or test dataset,\n",
        "* `download=True` downloads the data from the internet if it’s not available at root.\n",
        "* `transform` specifies feature and label transformations\n",
        "\n"
      ]
    },
    {
      "cell_type": "code",
      "metadata": {
        "colab": {
          "base_uri": "https://localhost:8080/",
          "height": 423,
          "referenced_widgets": [
            "230f704d81534aea96ccd61e00bdd241",
            "1c27fba839724477a1cbad8a13f1b672",
            "a0bcbe035350431ba9e41a9b98bbd992",
            "ebfeecc100044de296e6545b2e0fcdc5",
            "0426a0c194a14f63805ab1b9ff0d0b3e",
            "4f740501d81a46c0a5f0379f4ffe19c8",
            "e4aa35f6e1a14a5b86e94ab30bd1fd1d",
            "948bc66222914e1dadee50c85a6a6448",
            "051e8e2f281f4128966be1d8c16f8553",
            "7226d2fbb63c4c33b1a22eac6327e4e7",
            "ba1af1a666af467b9dbeceb863628b6b",
            "ceb18b9dfabb4552a8e6272d7f304ead",
            "add53f6deb9849f0b9a30aacacbe2036",
            "9d352747466b491ca9f03d8b457adbeb",
            "9b3da039176a454cb5029d9295740ebc",
            "09ad2b28013a4c309e7f346bd70c179d",
            "b85b96b97a8446eeb9d23a0901322fbb",
            "5170b56503414765b3eda76c1d735892",
            "df0608e556f444219a01b7511d565ab2",
            "003a8546a0a340699758b2a237943d32",
            "e52107a253a4470ca822a47daa4d847d",
            "f6f983e4b9934ef68a640a44282bb9cc",
            "6f0cf37e983140f5ba46659ac2012a1d",
            "667ae143e5a64f52b5f8b4648086e09f",
            "406cba99995a47aeb35e2957a7f45ac9",
            "2be0e6a822974a36bdc6fd56b9dd2dc3",
            "53fa53f1db5944579c747d76c7475a3d",
            "2266d2f68c464fe5992f23d77a640caf",
            "4a26b3f39e234276a365ca4061cb46ae",
            "d8a838b0aaa14ef6a232b41b939b9c27",
            "f5ea383942394641ad8ba33b99131b1e",
            "e04a8144152845e0ac23cdcd09e965a2",
            "ffe17d82e7924dbdb647c65ab5bd75c1",
            "f55335d876294a008035d1312ded8c59",
            "ef082cec426449dabd263a254167dcce",
            "9eab1e5ed66841bc800d8de801983f2f",
            "9a533e4d4b0f4d76859e18bedc575fa9",
            "29e79792045745c6b2960d50e7466d13",
            "0fd8f6d11e324681b989912d064eb19b",
            "afc5101138c245f580247879e2f3092c",
            "7ba2e7141ac44483815a620208d41613",
            "1b7e2402b5f44a9daebf777adf745cb8",
            "c503cb78cfb740c78c987b86c3b29c69",
            "185f39a27e0942a8b6b7c4c534bfeb1e"
          ]
        },
        "id": "_HvbSXGSs77U",
        "outputId": "ceba3147-b292-40fe-96a0-8b91cb558c65"
      },
      "source": [
        "transform = transforms.Compose(\n",
        "    [transforms.ToTensor()])\n",
        "\n",
        "train_dataset = datasets.MNIST(\n",
        "    root=\"data\",\n",
        "    train=True,\n",
        "    download=True,\n",
        "    transform=transform\n",
        ")\n",
        "\n",
        "test_dataset = datasets.MNIST(\n",
        "    root=\"data\",\n",
        "    train=False,\n",
        "    download=True,\n",
        "    transform=transform\n",
        ")"
      ],
      "execution_count": 59,
      "outputs": [
        {
          "output_type": "stream",
          "name": "stdout",
          "text": [
            "Downloading http://yann.lecun.com/exdb/mnist/train-images-idx3-ubyte.gz\n",
            "Downloading http://yann.lecun.com/exdb/mnist/train-images-idx3-ubyte.gz to data/MNIST/raw/train-images-idx3-ubyte.gz\n"
          ]
        },
        {
          "output_type": "display_data",
          "data": {
            "application/vnd.jupyter.widget-view+json": {
              "model_id": "230f704d81534aea96ccd61e00bdd241",
              "version_minor": 0,
              "version_major": 2
            },
            "text/plain": [
              "  0%|          | 0/9912422 [00:00<?, ?it/s]"
            ]
          },
          "metadata": {}
        },
        {
          "output_type": "stream",
          "name": "stdout",
          "text": [
            "Extracting data/MNIST/raw/train-images-idx3-ubyte.gz to data/MNIST/raw\n",
            "\n",
            "Downloading http://yann.lecun.com/exdb/mnist/train-labels-idx1-ubyte.gz\n",
            "Downloading http://yann.lecun.com/exdb/mnist/train-labels-idx1-ubyte.gz to data/MNIST/raw/train-labels-idx1-ubyte.gz\n"
          ]
        },
        {
          "output_type": "display_data",
          "data": {
            "application/vnd.jupyter.widget-view+json": {
              "model_id": "ceb18b9dfabb4552a8e6272d7f304ead",
              "version_minor": 0,
              "version_major": 2
            },
            "text/plain": [
              "  0%|          | 0/28881 [00:00<?, ?it/s]"
            ]
          },
          "metadata": {}
        },
        {
          "output_type": "stream",
          "name": "stdout",
          "text": [
            "Extracting data/MNIST/raw/train-labels-idx1-ubyte.gz to data/MNIST/raw\n",
            "\n",
            "Downloading http://yann.lecun.com/exdb/mnist/t10k-images-idx3-ubyte.gz\n",
            "Downloading http://yann.lecun.com/exdb/mnist/t10k-images-idx3-ubyte.gz to data/MNIST/raw/t10k-images-idx3-ubyte.gz\n"
          ]
        },
        {
          "output_type": "display_data",
          "data": {
            "application/vnd.jupyter.widget-view+json": {
              "model_id": "6f0cf37e983140f5ba46659ac2012a1d",
              "version_minor": 0,
              "version_major": 2
            },
            "text/plain": [
              "  0%|          | 0/1648877 [00:00<?, ?it/s]"
            ]
          },
          "metadata": {}
        },
        {
          "output_type": "stream",
          "name": "stdout",
          "text": [
            "Extracting data/MNIST/raw/t10k-images-idx3-ubyte.gz to data/MNIST/raw\n",
            "\n",
            "Downloading http://yann.lecun.com/exdb/mnist/t10k-labels-idx1-ubyte.gz\n",
            "Downloading http://yann.lecun.com/exdb/mnist/t10k-labels-idx1-ubyte.gz to data/MNIST/raw/t10k-labels-idx1-ubyte.gz\n"
          ]
        },
        {
          "output_type": "display_data",
          "data": {
            "application/vnd.jupyter.widget-view+json": {
              "model_id": "f55335d876294a008035d1312ded8c59",
              "version_minor": 0,
              "version_major": 2
            },
            "text/plain": [
              "  0%|          | 0/4542 [00:00<?, ?it/s]"
            ]
          },
          "metadata": {}
        },
        {
          "output_type": "stream",
          "name": "stdout",
          "text": [
            "Extracting data/MNIST/raw/t10k-labels-idx1-ubyte.gz to data/MNIST/raw\n",
            "\n"
          ]
        }
      ]
    },
    {
      "cell_type": "markdown",
      "metadata": {
        "id": "-PvPfnfvsARr"
      },
      "source": [
        "Let's visualize the data to gain a better understanding of the content."
      ]
    },
    {
      "cell_type": "code",
      "metadata": {
        "colab": {
          "base_uri": "https://localhost:8080/",
          "height": 640
        },
        "id": "LbZy4BeJ_u2t",
        "outputId": "d328e513-3e5d-4c7d-a9b9-952583f678e4"
      },
      "source": [
        "figure = plt.figure(figsize=(8, 8))\n",
        "cols, rows = 3, 3\n",
        "for i in range(1, cols * rows + 1):\n",
        "    sample_idx = torch.randint(len(train_dataset), size=(1,)).item()\n",
        "    img, label = train_dataset[sample_idx]\n",
        "    figure.add_subplot(rows, cols, i)\n",
        "    plt.title(str(label))\n",
        "    plt.axis(\"off\")\n",
        "    plt.imshow(img.squeeze(), cmap=\"gray\")\n",
        "plt.show()"
      ],
      "execution_count": 61,
      "outputs": [
        {
          "output_type": "display_data",
          "data": {
            "application/pdf": "[encoded data removed]",
            "text/plain": [
              "<Figure size 576x576 with 9 Axes>"
            ],
            "image/svg+xml": "<?xml version=\"1.0\" encoding=\"utf-8\" standalone=\"no\"?>\n<!DOCTYPE svg PUBLIC \"-//W3C//DTD SVG 1.1//EN\"\n  \"http://www.w3.org/Graphics/SVG/1.1/DTD/svg11.dtd\">\n<!-- Created with matplotlib (https://matplotlib.org/) -->\n<svg height=\"464.398125pt\" version=\"1.1\" viewBox=\"0 0 457.411765 464.398125\" width=\"457.411765pt\" xmlns=\"http://www.w3.org/2000/svg\" xmlns:xlink=\"http://www.w3.org/1999/xlink\">\n <defs>\n  <style type=\"text/css\">\n*{stroke-linecap:butt;stroke-linejoin:round;}\n  </style>\n </defs>\n <g id=\"figure_1\">\n  <g id=\"patch_1\">\n   <path d=\"M 0 464.398125 \nL 457.411765 464.398125 \nL 457.411765 0 \nL 0 0 \nz\n\" style=\"fill:none;\"/>\n  </g>\n  <g id=\"axes_1\">\n   <g clip-path=\"url(#pab9f89583f)\">\n    <image height=\"128\" id=\"imagee7517f1187\" transform=\"scale(1 -1)translate(0 -128)\" width=\"128\" x=\"7.2\" xlink:href=\"data:image/png;base64,\niVBORw0KGgoAAAANSUhEUgAAAIAAAACACAYAAADDPmHLAAAABHNCSVQICAgIfAhkiAAABP5JREFUeJztnUsotWsUxx/HQaFcQi7lMpGQIgPlknKJgSi5TGWGpJQiSlJkopCBSyGS5JKSgRQykFwmMsbAQIlQSi7f9Kx3ved4z/62j+3//83+q2Xv56tf61vZ3md7GWPeDYHlr68+APlaKAA4FAAcCgAOBQCHAoBDAcChAOBQAHAoADgUABwKAA4FAOdvV38wOTlZ5Pb2dtVTU1Mj8tzcnOo5PDxUtenpaZEfHx9dOSJxACcAOBQAHAoAjpdx8S+CHh4eRA4ICHDHeYwxxlxcXIg8OzureiYnJ0U+Pz932/sjwQkADgUAhwKAQwHAcXkJXF1dFbmoqEj1NDc3ixweHq56KisrVS0tLU1kHx8f1WNdQicmJlRPZ2enyE9PT6oHHU4AcCgAOBQAHJd3gM8kMTFR5PLyctXT0NAgclxc3Ievu7i4qGpTU1OqtrGx8eFr/RQ4AcChAOBQAHAoADjfcgl0QmBgoMj5+fmqZ2RkROTY2FjV8/r6qmozMzMit7a2qp67uzsnx/z2cAKAQwHAoQDgUABwPHYJdEJoaKjI1qXQGGNKSkpULTg4WOS9vT3V09bWJvL+/r4rR/xyOAHAoQDgUABwfvQO4ATrL5SMMebg4EDkpKQk1XN/fy9yRUWF6tne3v69w/0BOAHAoQDgUABwKAA48EugHdbnHHd2dlRPRkaGyNbF0RhjSktLRb69vXXD6dwLJwA4FAAcCgDOl+8AhYWFqmZ9pGt8fFz1bG5uinx9fe3eg/2D6OhoVZufnxc5NzdX9XR0dIjc39/v3oO5AU4AcCgAOBQAHAoAjssXRboLu0/a8vLy/jMboz+N293dVT1LS0siWy+gdMrV1ZWqHR0diWy3BKanp7v0fn8STgBwKAA4FACcL/9FkB1VVVUid3V1qZ7U1NT//bpeXl6q9v7+ef/8lpYWkYeGhj7tvVyFEwAcCgAOBQCHAoDzLZdAK/7+/qrW09MjclNTk+rx9fX98LWfn59VzXpbuRNOTk5Ura6uTuTveFElJwA4FAAcCgAOBQDHI5ZAJ2RnZ6ua9bKnhIQE1WO3mPX29oo8MDCgeuwul/JEOAHAoQDgUABwfswO4ITq6mpVs/7ptjH6G0vsbhm3flVuRESE6vGEe4M4AcChAOBQAHAoADhQS6Addp80Whe8xsZG1WP9Kju7Tx4HBwdFtls4397eHJ3zs+AEAIcCgEMBwPHYHaC2tlZku/+nl5eXRZ6cnFQ91kfM7IiPj1c1650FWVlZqsd619DW1pbqqa+vV7XLy8sPz+QuOAHAoQDgUABwKAA4HrsEWp8fXFhY+PBnbm5uVG10dFTVTk9PRbb7NNCK3T0H1qUvKirK0ZlSUlJE/swLsDgBwKEA4FAAcDx2B/D29hY5JCRE9YyNjYmck5OjesLCwlTt5eVFZOullMYYc3x8LPL6+rrqKS4uFrm7u1v12LG2tiay3beRuAtOAHAoADgUABwKAI7HLoGuEBkZqWrDw8OqVlZWJrKTewbcycrKisiVlZWf9l6cAOBQAHAoADgUAByoJdApmZmZIgcFBake63OGfn5+qqegoEDkmJgY1TM3N6dqfX19Ip+dnf37YX8TTgBwKAA4FAAc7gDgcAKAQwHAoQDgUABwKAA4FAAcCgAOBQCHAoBDAcChAOBQAHAoADgUABwKAA4FAIcCgEMBwKEA4FAAcCgAOBQAnF9g4ApBMIc4pgAAAABJRU5ErkJggg==\" y=\"-22.224007\"/>\n   </g>\n   <g id=\"text_1\">\n    <!-- 3 -->\n    <defs>\n     <path d=\"M 40.578125 39.3125 \nQ 47.65625 37.796875 51.625 33 \nQ 55.609375 28.21875 55.609375 21.1875 \nQ 55.609375 10.40625 48.1875 4.484375 \nQ 40.765625 -1.421875 27.09375 -1.421875 \nQ 22.515625 -1.421875 17.65625 -0.515625 \nQ 12.796875 0.390625 7.625 2.203125 \nL 7.625 11.71875 \nQ 11.71875 9.328125 16.59375 8.109375 \nQ 21.484375 6.890625 26.8125 6.890625 \nQ 36.078125 6.890625 40.9375 10.546875 \nQ 45.796875 14.203125 45.796875 21.1875 \nQ 45.796875 27.640625 41.28125 31.265625 \nQ 36.765625 34.90625 28.71875 34.90625 \nL 20.21875 34.90625 \nL 20.21875 43.015625 \nL 29.109375 43.015625 \nQ 36.375 43.015625 40.234375 45.921875 \nQ 44.09375 48.828125 44.09375 54.296875 \nQ 44.09375 59.90625 40.109375 62.90625 \nQ 36.140625 65.921875 28.71875 65.921875 \nQ 24.65625 65.921875 20.015625 65.03125 \nQ 15.375 64.15625 9.8125 62.3125 \nL 9.8125 71.09375 \nQ 15.4375 72.65625 20.34375 73.4375 \nQ 25.25 74.21875 29.59375 74.21875 \nQ 40.828125 74.21875 47.359375 69.109375 \nQ 53.90625 64.015625 53.90625 55.328125 \nQ 53.90625 49.265625 50.4375 45.09375 \nQ 46.96875 40.921875 40.578125 39.3125 \nz\n\" id=\"DejaVuSans-51\"/>\n    </defs>\n    <g style=\"fill:#262626;\" transform=\"translate(67.335441 16.318125)scale(0.12 -0.12)\">\n     <use xlink:href=\"#DejaVuSans-51\"/>\n    </g>\n   </g>\n  </g>\n  <g id=\"axes_2\">\n   <g clip-path=\"url(#p1ded829d3b)\">\n    <image height=\"128\" id=\"image29a8f1bf93\" transform=\"scale(1 -1)translate(0 -128)\" width=\"128\" x=\"164.752941\" xlink:href=\"data:image/png;base64,\niVBORw0KGgoAAAANSUhEUgAAAIAAAACACAYAAADDPmHLAAAABHNCSVQICAgIfAhkiAAABTNJREFUeJztncsr7V0Yx5fXJcqdRORelJNCSWRAsetEbv+Ay8BAYSSnzlFEShIxYCDMTGRkIBOcSAZGcmvnGkVmOp2BcAbv5F2/Z2Vv++y9f9v7/X5m36fHstKn5Wnt3947SCn1pggs/9i9AWIvFAAcCgAOBQCHAoBDAcChAOBQAHAoADgUABwKAA4FAIcCgEMBwKEA4FAAcCgAOCF2b8BESIi+raCgINHz/Pzsr+24RXh4uKjFxMRoube316O15+fnRc3pdHq0lhWeAOBQAHAoADgUAJwgZfNj4UlJSaI2NzenZetQqJRS37590/Lh4aF3N+aC8vJyLY+Pj4uesrIyr/yui4sLUZuYmNDy7Oys6Hl5eXG5Nk8AcCgAOBQAHNsvgqKjo0WtoaHB5c+FhoZqubOzU/RcXV15vrH/kJ+fL2o/fvzQsrf+35vIysoStenpaS2b/o6jo6Mu1+YJAA4FAIcCgEMBwLH9Iig3N1fUzs7OPrzO7e2tqNXU1Gj55OTErbXi4uK0vL29LXoKCgo+sLt/2d/fFzXrhZaJvr4+UXM4HFq+vLwUPdnZ2S7X5gkADgUAhwKAQwHAsX0ITE5OFjXrsJSWlubR2tbBsK6uTvRUVlaKWnd3t5ZNg6o7WNdZXl4WPY+Pjy7XiY2NFbXMzEwtPzw8iJ67uzuXa/MEAIcCgEMBwLF9BjBRWFio5bW1NdGTmpr64XWfnp5ELSoqStSsj6G/vck/0enpqZbHxsZEz+Liost17IYnADgUABwKAA4FACcgh0ArbW1tojYyMqJl04WSt7AOfEop9f37dy2vrKz47Pf7Ep4A4FAAcCgAOJ9iBjDR1NSkZeuli1LmSx5PML1gtLOz45W17YYnADgUABwKAA4FAMf29wZ6yurqqpaPj49FT0VFhZZNr9hZHwFXSr4amJCQ4MkWPwU8AcChAOBQAHA+7UWQJ3z58kXUpqamRK2qqkrL9/f3osd6EbW3t/eXu7MHngDgUABwKAA4FAAcqCHQRG1traitr69r2fQ499LSkpZNTy19BngCgEMBwKEA4FAAcPz6amBJSYmopaeni5r1lT5fsrW1JWozMzNa7urqEj05OTlajoiIED2/f//+y935Hp4A4FAAcCgAOH69CPr165eohYWFidrw8LCWBwcHfbYnE9YPWPz586foSUlJ0XJ9fb3oMX2uQaDBEwAcCgAOBQCHAoDj14ugg4MDUbM+uq2UUgMDA1re3NwUPaYLHG9xfn7+blZKDoHV1dWih0MgCXgoADgUABy/zgC7u7uiZpoBrG/N6unpET3WR7Xd/TYQX2GaAYKDg7Xszle5+hueAOBQAHAoADgUABy/DoGmJ306OjpELT4+XsuNjY2ip6ioSMumAbO/v1/LNzc3bu0zLy/v3WzC9O0cgfjp4FZ4AoBDAcChAOD4dQYwvYfe9P99cnJSy8XFxaInIyPj3ayUUqWlpVp2Op1u7dP6uUGJiYkuf2ZjY0PUXl9f3fp9dsITABwKAA4FAIcCgBOQnw8QGRmp5aGhIdHT3t6u5ejoaJ/uyYr1aZ/m5mbR8/z87K/teAxPAHAoADgUABwKAE5ADoHu4HA4tNzS0iJ6WltbtRwS4tnF5/X1tah9/fpVy0dHRx6tbTc8AcChAOBQAHA+7QzgDnV1dVo2ff2bOywsLIia3Y+hewueAOBQAHAoADgUAJz/9RBIXMMTABwKAA4FAIcCgEMBwKEA4FAAcCgAOBQAHAoADgUAhwKAQwHAoQDgUABwKAA4FACcP92FCUg73wvSAAAAAElFTkSuQmCC\" y=\"-22.224007\"/>\n   </g>\n   <g id=\"text_2\">\n    <!-- 2 -->\n    <defs>\n     <path d=\"M 19.1875 8.296875 \nL 53.609375 8.296875 \nL 53.609375 0 \nL 7.328125 0 \nL 7.328125 8.296875 \nQ 12.9375 14.109375 22.625 23.890625 \nQ 32.328125 33.6875 34.8125 36.53125 \nQ 39.546875 41.84375 41.421875 45.53125 \nQ 43.3125 49.21875 43.3125 52.78125 \nQ 43.3125 58.59375 39.234375 62.25 \nQ 35.15625 65.921875 28.609375 65.921875 \nQ 23.96875 65.921875 18.8125 64.3125 \nQ 13.671875 62.703125 7.8125 59.421875 \nL 7.8125 69.390625 \nQ 13.765625 71.78125 18.9375 73 \nQ 24.125 74.21875 28.421875 74.21875 \nQ 39.75 74.21875 46.484375 68.546875 \nQ 53.21875 62.890625 53.21875 53.421875 \nQ 53.21875 48.921875 51.53125 44.890625 \nQ 49.859375 40.875 45.40625 35.40625 \nQ 44.1875 33.984375 37.640625 27.21875 \nQ 31.109375 20.453125 19.1875 8.296875 \nz\n\" id=\"DejaVuSans-50\"/>\n    </defs>\n    <g style=\"fill:#262626;\" transform=\"translate(224.888382 16.318125)scale(0.12 -0.12)\">\n     <use xlink:href=\"#DejaVuSans-50\"/>\n    </g>\n   </g>\n  </g>\n  <g id=\"axes_3\">\n   <g clip-path=\"url(#pf36bad79ed)\">\n    <image height=\"128\" id=\"image3b2891b40f\" transform=\"scale(1 -1)translate(0 -128)\" width=\"128\" x=\"322.305882\" xlink:href=\"data:image/png;base64,\niVBORw0KGgoAAAANSUhEUgAAAIAAAACACAYAAADDPmHLAAAABHNCSVQICAgIfAhkiAAAA6tJREFUeJztnDFLK1EQRjfmaZqUVhItxE4EbcRI6oAhhaTR/ACj9vaSH2EVFImFYCUY0lha2GhhEYKFjaWFjWChJFrfnYVd83wvuTnf6WaY3dziMBl2795UEARfgcAyMewFiOEiAeBIADgSAI4EgCMB4EgAOBIAzp9hLyAJ2WzW5EqlkhOvra2Zmkql4sS5XM7UvL29mVyhUHDiTqeTaJ0+og4ARwLAkQBwJACcVODB28BqtWpyZ2dnv3LvVCplco1Gw4n39vZ+5bdGEXUAOBIAjgSA48WDoKenJ5M7OTlx4sXFRVPTarWc+OrqytQ8PDyY3Pz8/E+X6C3qAHAkABwJAEcCwPHiQVASJicnTe7z8zP2upubG5NbXV114vX1dVNzf3//g9WNLuoAcCQAHAkAx4sHQUlI8n8fxd3dncnl83knrtVqpmZ3d3eg3xs11AHgSAA4EgCOBIAjAeBIADgSAI4EgCMB4IzNk8BBiXoSSEIdAI4EgCMB4OBngNvb22EvYaioA8CRAHAkABwJAAc/BCZhbm7O5NLptBP3er3/tZxfRR0AjgSAIwHgoGaA5eVlk6vX6yYXPjeoWCyamkwm48Tv7+9/ubrhoA4ARwLAkQBwJACcsRkCp6enTe7w8NCJ9/f3TU3UQZFfX2NxZEIi1AHgSAA4EgCOt2cEhV/GXF5empqNjY3Y+ww6A4QPpnx8fIy9ZhRRB4AjAeBIADgSAI63Q2D4kKajo6PYay4uLkxua2vL5JIMgd1u14mXlpZirxlF1AHgSAA4EgCOBIDj7RD4/PzsxDMzM6am3W478ebmpqmJGgKPj4+deGpqytS8vLzE/r4PqAPAkQBwJAAcb3cEvb6+OnHUf3D4c61+v29qzs/PTS48F5TL5UGW6AXqAHAkABwJAEcCwPF2CCRt3f6XqAPAkQBwJAAcb2eAVqvlxFE7csJbxycmkvkevm6cUQeAIwHgSAA4EgCOt0NgkkOZSqWSEx8cHJialZUVk0vyTWHUFnMfUQeAIwHgSAA43u4KXlhYcOLr62tTMzs7G3ufJOcDhD9DC4IgOD09dWIdFi28RALAkQBwJAAcb4fAMNvb2yZXrVadOGp7d9Qbwp2dHSduNpum5uPj46dLHEnUAeBIADgSAI4EgDM2Q6AYDHUAOBIAjgSAIwHgSAA4EgCOBIAjAeBIADgSAI4EgCMB4EgAOBIAjgSAIwHgSAA4EgCOBIAjAeBIADgSAI4EgCMB4EgAOBIAzjetMJt7qbur3AAAAABJRU5ErkJggg==\" y=\"-22.224007\"/>\n   </g>\n   <g id=\"text_3\">\n    <!-- 9 -->\n    <defs>\n     <path d=\"M 10.984375 1.515625 \nL 10.984375 10.5 \nQ 14.703125 8.734375 18.5 7.8125 \nQ 22.3125 6.890625 25.984375 6.890625 \nQ 35.75 6.890625 40.890625 13.453125 \nQ 46.046875 20.015625 46.78125 33.40625 \nQ 43.953125 29.203125 39.59375 26.953125 \nQ 35.25 24.703125 29.984375 24.703125 \nQ 19.046875 24.703125 12.671875 31.3125 \nQ 6.296875 37.9375 6.296875 49.421875 \nQ 6.296875 60.640625 12.9375 67.421875 \nQ 19.578125 74.21875 30.609375 74.21875 \nQ 43.265625 74.21875 49.921875 64.515625 \nQ 56.59375 54.828125 56.59375 36.375 \nQ 56.59375 19.140625 48.40625 8.859375 \nQ 40.234375 -1.421875 26.421875 -1.421875 \nQ 22.703125 -1.421875 18.890625 -0.6875 \nQ 15.09375 0.046875 10.984375 1.515625 \nz\nM 30.609375 32.421875 \nQ 37.25 32.421875 41.125 36.953125 \nQ 45.015625 41.5 45.015625 49.421875 \nQ 45.015625 57.28125 41.125 61.84375 \nQ 37.25 66.40625 30.609375 66.40625 \nQ 23.96875 66.40625 20.09375 61.84375 \nQ 16.21875 57.28125 16.21875 49.421875 \nQ 16.21875 41.5 20.09375 36.953125 \nQ 23.96875 32.421875 30.609375 32.421875 \nz\n\" id=\"DejaVuSans-57\"/>\n    </defs>\n    <g style=\"fill:#262626;\" transform=\"translate(382.441324 16.318125)scale(0.12 -0.12)\">\n     <use xlink:href=\"#DejaVuSans-57\"/>\n    </g>\n   </g>\n  </g>\n  <g id=\"axes_4\">\n   <g clip-path=\"url(#p2b209459f7)\">\n    <image height=\"128\" id=\"image3db14b43ae\" transform=\"scale(1 -1)translate(0 -128)\" width=\"128\" x=\"7.2\" xlink:href=\"data:image/png;base64,\niVBORw0KGgoAAAANSUhEUgAAAIAAAACACAYAAADDPmHLAAAABHNCSVQICAgIfAhkiAAABRRJREFUeJztnUsodW0Ux7cvISZCKZKBTJxSYkKKmRLlEuZCRMlloOSakVByKWWg3EIuOQpFTCQlRRiSEuWS5JJSfNPvedb+Os6xz9n4/3+ztVrOXu/br9Vqn2fv42cYxqdBYPnH7gaIvVAAcCgAOBQAHAoADgUAhwKAQwHAoQDgUABwKAA4FAAcCgAOBQCHAoBDAcChAOD4292AGdHR0Urc09MjaoqLi93+3PPzc5FzOp0i197ersSPj49uX+u3wAkADgUAhwKAQwHA8TNsPhYeFRUlcuvr60qckJDgq3YMwzCMk5MTJe7v7xc1MzMzSvz8/OzVnrwFJwA4FAAcCgCO7TtAX1+fyNXW1irx7e2tqOnt7VXi1dVVl9eKi4sTuZycHJErKytT4o+PD1GztLSkxJ2dnaLm8PDQZU92wwkADgUAhwKAQwHAsX0JPDo6EjmHw6HEe3t7oiYtLc1rPek3p+bn50VNcnKyEpvdCGptbVXikZERUfP+/u5Ji5bBCQAOBQCHAoBDAcD5kUfC7Obq6kqJU1NTRU13d7cSNzQ0iBr9W8SXlxdRMzExIXK+XAw5AcChAOBQAHBs3wFmZ2dFrqOjw4ZO3EM/qv7w8CBqurq6lHh0dFTUhISEiNzg4OA3u/s6nADgUABwKAA4FAAc25fAtbU1kWtpaVFis6PjsbGxSnxxcWFtYy64ublR4oGBAVGjP7+YmJgoaiIjI61tzE04AcChAOBQAHBs3wH29/dFTj/inZubK2r0myUVFRWiJjw8XImfnp5EjVW7g9mJoKqqKiXe2dmx5FpWwgkADgUAhwKAQwHAsX0JNGNlZUWJzZbA7OxsJd7d3RU1MTExSnx3dydq6uvrRW5ycvJLff6XwMBAkauurnb7c3wNJwA4FAAcCgCO7Y+GmaF/QXJ9fe3T6+uPqxUUFIia4OBgJW5raxM1hYWFLq9VUlIicnNzcy7/zio4AcChAOBQAHAoADg/cgmMiIhQ4rOzM1FjdpzaKvz8/JT489Oz/yL95VZNTU2iZmxszKPPtgpOAHAoADgUABwKAM6PXAJ1pqamRM7sDponDA8Pi5z+Ld5XlsDX11eRy8jIUOKDgwM3u/M+nADgUABwKAA4P/JEkM7p6akln7O9vS1yZu/20V/oaHYiqbGxUYlDQ0NFzcLCghKbvZn8+PjYtFdfwQkADgUAhwKAQwHA+RU3gvTfEjYMw9jc3FTi+Ph4UaPfQCovLxc1b29vHvWUkpKixMvLy6JGP9pmdq3S0lKR03+SzptwAoBDAcChAOD8ih3ADP0dQWY/0ab/3FtRUZGo0XcJTwkKChI5/YZSfn7+l/4uKytLibe2tr7Z3f/DCQAOBQCHAoBDAcD5tUugTk1Njcjpv9jhdDpFTV5entd60qmrqxM5/a3jhmEYGxsbSqwvhVbCCQAOBQCHAoDzK04EfYWhoSGRu7+/V2J/f3v/uWYngszQ35HkTTgBwKEA4FAAcCgAOH9mCTR7fGt6etpn1zdbMDMzM5XY4XCIGrO+Ly8vLevLFZwA4FAAcCgAOBQAnD+zBHoTszd+VlZWKnFAQICoSU9Pd/nZ4+PjIre4uOhGd9+DEwAcCgAOBQCHO8AXCAsLE7mkpCSXNTpmj3w1Nzd73pgFcAKAQwHAoQDgUABw/syxcOIZnADgUABwKAA4FAAcCgAOBQCHAoBDAcChAOBQAHAoADgUABwKAA4FAIcCgEMBwKEA4PwLGPgaMXh6hlAAAAAASUVORK5CYII=\" y=\"-175.711066\"/>\n   </g>\n   <g id=\"text_4\">\n    <!-- 8 -->\n    <defs>\n     <path d=\"M 31.78125 34.625 \nQ 24.75 34.625 20.71875 30.859375 \nQ 16.703125 27.09375 16.703125 20.515625 \nQ 16.703125 13.921875 20.71875 10.15625 \nQ 24.75 6.390625 31.78125 6.390625 \nQ 38.8125 6.390625 42.859375 10.171875 \nQ 46.921875 13.96875 46.921875 20.515625 \nQ 46.921875 27.09375 42.890625 30.859375 \nQ 38.875 34.625 31.78125 34.625 \nz\nM 21.921875 38.8125 \nQ 15.578125 40.375 12.03125 44.71875 \nQ 8.5 49.078125 8.5 55.328125 \nQ 8.5 64.0625 14.71875 69.140625 \nQ 20.953125 74.21875 31.78125 74.21875 \nQ 42.671875 74.21875 48.875 69.140625 \nQ 55.078125 64.0625 55.078125 55.328125 \nQ 55.078125 49.078125 51.53125 44.71875 \nQ 48 40.375 41.703125 38.8125 \nQ 48.828125 37.15625 52.796875 32.3125 \nQ 56.78125 27.484375 56.78125 20.515625 \nQ 56.78125 9.90625 50.3125 4.234375 \nQ 43.84375 -1.421875 31.78125 -1.421875 \nQ 19.734375 -1.421875 13.25 4.234375 \nQ 6.78125 9.90625 6.78125 20.515625 \nQ 6.78125 27.484375 10.78125 32.3125 \nQ 14.796875 37.15625 21.921875 38.8125 \nz\nM 18.3125 54.390625 \nQ 18.3125 48.734375 21.84375 45.5625 \nQ 25.390625 42.390625 31.78125 42.390625 \nQ 38.140625 42.390625 41.71875 45.5625 \nQ 45.3125 48.734375 45.3125 54.390625 \nQ 45.3125 60.0625 41.71875 63.234375 \nQ 38.140625 66.40625 31.78125 66.40625 \nQ 25.390625 66.40625 21.84375 63.234375 \nQ 18.3125 60.0625 18.3125 54.390625 \nz\n\" id=\"DejaVuSans-56\"/>\n    </defs>\n    <g style=\"fill:#262626;\" transform=\"translate(67.335441 169.805184)scale(0.12 -0.12)\">\n     <use xlink:href=\"#DejaVuSans-56\"/>\n    </g>\n   </g>\n  </g>\n  <g id=\"axes_5\">\n   <g clip-path=\"url(#p37c8eed033)\">\n    <image height=\"128\" id=\"imagee972436a38\" transform=\"scale(1 -1)translate(0 -128)\" width=\"128\" x=\"164.752941\" xlink:href=\"data:image/png;base64,\niVBORw0KGgoAAAANSUhEUgAAAIAAAACACAYAAADDPmHLAAAABHNCSVQICAgIfAhkiAAABQdJREFUeJztnUsofV8Ux/f995vI+zmQRyIlYUBkIo8oUWQgDDBkooxkqhCZYWLASDHzSFIyMJLHwCMDDFCUV5E8IvlN/3uvXefe+7vOxff7ma3VOufuwad1V/vuc65HKfWpCCz/BXsBJLhQAHAoADgUABwKAA4FAIcCgEMBwKEA4FAAcCgAOBQAHAoADgUAhwKAQwHAoQDg/An2AiorK0VucHBQi/Pz80XN56d+kGl1dVXUnJycaPHNzY2oGRoaErnn52f7Yn8h7ADgUABwKAA4FAAcj3LxWHhBQYHITU1NiVx2drYby1FKKbW/vy9yzc3NWnx4eOjWclyHHQAcCgAOBQDH1Rng4eFB5MLDw936eK95f3/X4vr6elGzvLzs1nK+FHYAcCgAOBQAHAoAjqtD4NPTk8iFhISI3N3dnRabGzPekpOTo8W1tbWipqyszPE+V1dXImf+inlwcODj6r4H7ADgUABwKAA4FAAcV4fA8fFxkevs7BS5i4sLLU5OTg7I5ycmJorcyMiIyDU1NTnea35+Xottg+rr66sPqwsO7ADgUABwKAA4rh4L9/Y7MTY2VosLCwtFzebmps+ff3l5KXItLS0iV1RUpMVpaWmipq6uTotbW1tFzcTEhK9LdB12AHAoADgUABwKAI6rG0G2X+NGR0dFLjU1VYt3dnZEjXlMy9w8+hcyMjK0eG1tTdQkJSVp8cvLi6gxN5QWFxcDsLrAwg4ADgUAhwKA4+oMYKO3t1fk+vv7Ha8zTxelp6eLmuvra/8X9j9mZmZErrGx0fG629tbLU5ISAjIegIJOwA4FAAcCgAOBQAn6ENgRESEyC0sLGhxSUmJ4322trZErqamRovNocxbIiMjRe78/FyLbc84fnx8aLFtI2xlZcWvNQUKdgBwKAA4FACcoM8ANuLj47X46OhI1Ni+l03MDRzb6R9/MV9m2dPT43iN7RRTaWmpyLl5mpgdABwKAA4FAIcCgPMth0CTiooKkZubm9Pi0NBQUWO+UbyhoUHUmI94eUt7e7sWT05O+nWfzMxMkTPfcv6VsAOAQwHAoQDgUABwfsQQaOP09FSLU1JSHK/Z29sTueLiYpEzj3jbdh2jo6O1eGlpSdRkZWU5rsn23OP29rbjdYGCHQAcCgAOBQDnx84A5t/ElZeX+3Wf6elpkWtra3Os2d3d1WLbm9Bt70QysW362DaHvgp2AHAoADgUABwKAM6PHQLN4+Tr6+uiJjc31697Dw8Pa7Ftk6mjo0OLPR6PqDk+PtbiuLg4UWN7g7qbf6PDDgAOBQCHAoDzY2cAk+rqapGbnZ3V4rCwML/ubTu6bc4c5osjlZKnlswTSkpxBiBBhgKAQwHAoQDg/Joh0EZVVZUWm0OhUt49Y7ixsSFy5n8H246c5+XlOd6bQyAJKhQAHAoAzq+eAUxiYmJEznZqx3wJpO2HnkAxNjYmcl1dXV/2eSbsAOBQAHAoADgUAByoIdBbHh8ftdj27gF/sJ1aMjerlFLq7e0tIJ/nDewA4FAAcCgAOBQAHA6BFqKiorTY9mugN8/vmcOk7Zj62dmZj6sLLOwA4FAAcCgAOH+CvYDvyP39vRZ3d3eLmoGBAS025wallOrr69PiYH/f22AHAIcCgEMBwKEA4HAjCBx2AHAoADgUABwKAA4FAIcCgEMBwKEA4FAAcCgAOBQAHAoADgUAhwKAQwHAoQDgUABw/gKwLB+8g4N6uwAAAABJRU5ErkJggg==\" y=\"-175.711066\"/>\n   </g>\n   <g id=\"text_5\">\n    <!-- 0 -->\n    <defs>\n     <path d=\"M 31.78125 66.40625 \nQ 24.171875 66.40625 20.328125 58.90625 \nQ 16.5 51.421875 16.5 36.375 \nQ 16.5 21.390625 20.328125 13.890625 \nQ 24.171875 6.390625 31.78125 6.390625 \nQ 39.453125 6.390625 43.28125 13.890625 \nQ 47.125 21.390625 47.125 36.375 \nQ 47.125 51.421875 43.28125 58.90625 \nQ 39.453125 66.40625 31.78125 66.40625 \nz\nM 31.78125 74.21875 \nQ 44.046875 74.21875 50.515625 64.515625 \nQ 56.984375 54.828125 56.984375 36.375 \nQ 56.984375 17.96875 50.515625 8.265625 \nQ 44.046875 -1.421875 31.78125 -1.421875 \nQ 19.53125 -1.421875 13.0625 8.265625 \nQ 6.59375 17.96875 6.59375 36.375 \nQ 6.59375 54.828125 13.0625 64.515625 \nQ 19.53125 74.21875 31.78125 74.21875 \nz\n\" id=\"DejaVuSans-48\"/>\n    </defs>\n    <g style=\"fill:#262626;\" transform=\"translate(224.888382 169.805184)scale(0.12 -0.12)\">\n     <use xlink:href=\"#DejaVuSans-48\"/>\n    </g>\n   </g>\n  </g>\n  <g id=\"axes_6\">\n   <g clip-path=\"url(#p0fc0e02c55)\">\n    <image height=\"128\" id=\"image6854e921e6\" transform=\"scale(1 -1)translate(0 -128)\" width=\"128\" x=\"322.305882\" xlink:href=\"data:image/png;base64,\niVBORw0KGgoAAAANSUhEUgAAAIAAAACACAYAAADDPmHLAAAABHNCSVQICAgIfAhkiAAAA2FJREFUeJzt3bErdlEcwPHrzaAYJIPJRCK7gU2RQZkMsohNbP4AG4PNYjEoUc+kjFYpRQYpSrFImSwykHc+9/cMenou7v1+P9vvdIYzfDudrrfnbcmy7CsT1r/fPoB+lwHAGQCcAcAZAJwBwBkAnAHAGQCcAcAZAJwBwBkAnAHAGQCcAcAZAFzrbx+gUT09Pcl8fX0d9hwcHCTzyspKoWcqI28AOAOAMwA4A4Ar7SOwo6Mjmbu6usKe09PTnzpOaXkDwBkAnAHAlfYN8PLyksyPj49hz+joaDIfHh4WeqYy8gaAMwA4A4AzALiWrCK/D7CzsxPWpqenk3lwcDDseX19LexMZeANAGcAcAYAZwBwpf0SmHd3dxfW8v9sbGJiIuyp1WqFnakMvAHgDADOAOAq8yFoYGAgrF1eXiZzvb8GLi4uFnamMvAGgDMAOAOAMwC4ynwIur29DWv7+/vJPDU1Ffa0tbWFtff39+Yd7I/zBoAzADgDgKvMG6Ce8/PzZF5aWgp7lpeXw9rW1lZhZ/prvAHgDADOAOAMAK4yfw2sp729PZlvbm7Cnqenp7A2NjaWzJ+fn8092B/iDQBnAHAGAFfpN0DewsJCWNvd3Q1rc3NzyZz/wckq8QaAMwA4A4AzALhK/zUw7+zsLKx9fcU38OzsbDL7CFRlGQCcAcAZABzqS2Bra3zzHh0dhbXJyclk7uvrC3seHh6adq7f5A0AZwBwBgCHegPUMz4+HtZOTk6SeXt7O+ypyn9B5w0AZwBwBgBnAHD4R2A9+R+X6uzsDHuGh4eT+e3trdAzFcUbAM4A4AwAzjdAHfPz88m8t7cX9qyuriZzvY9FZeANAGcAcAYAZwBwPgLrGBoaSuarq6uwJ/+xKP+bAlmWZR8fH809WAG8AeAMAM4A4HwDfMPm5mZYW1tbS+b+/v6w5/7+vrAzNYs3AJwBwBkAnAHA+Qj8hvyHoSzLsouLi2ReX18PezY2Ngo7U7N4A8AZAJwBwBkAnI/ABtVqtWTu7e0Ne0ZGRn7qOA3zBoAzADgDgPMN0KDu7u5knpmZCXuOj4+T+fn5udAzNcIbAM4A4AwAzgDgfATCeQPAGQCcAcAZAJwBwBkAnAHAGQCcAcAZAJwBwBkAnAHAGQCcAcAZAJwBwP0HSBGOYJNVAuIAAAAASUVORK5CYII=\" y=\"-175.711066\"/>\n   </g>\n   <g id=\"text_6\">\n    <!-- 1 -->\n    <defs>\n     <path d=\"M 12.40625 8.296875 \nL 28.515625 8.296875 \nL 28.515625 63.921875 \nL 10.984375 60.40625 \nL 10.984375 69.390625 \nL 28.421875 72.90625 \nL 38.28125 72.90625 \nL 38.28125 8.296875 \nL 54.390625 8.296875 \nL 54.390625 0 \nL 12.40625 0 \nz\n\" id=\"DejaVuSans-49\"/>\n    </defs>\n    <g style=\"fill:#262626;\" transform=\"translate(382.441324 169.805184)scale(0.12 -0.12)\">\n     <use xlink:href=\"#DejaVuSans-49\"/>\n    </g>\n   </g>\n  </g>\n  <g id=\"axes_7\">\n   <g clip-path=\"url(#pe659ee6037)\">\n    <image height=\"128\" id=\"image61cacfdc39\" transform=\"scale(1 -1)translate(0 -128)\" width=\"128\" x=\"7.2\" xlink:href=\"data:image/png;base64,\niVBORw0KGgoAAAANSUhEUgAAAIAAAACACAYAAADDPmHLAAAABHNCSVQICAgIfAhkiAAABJtJREFUeJztnUsofV8Ux/f1HKBkQJKYYKhQykgSmVCSmTJQJBlIicKQDDBSRpIZBlyR18BAeYSRTCQTc0WuyOM3/e+9dv9z3PY99/H9fmZrte4+mz6W1bnn7htSSv0qAktavDdA4gsFAIcCgEMBwKEA4FAAcCgAOBQAHAoADgUAhwKAQwHAoQDgUABwKAA4FAAcCgBORrw34Ieenh6Rm5iY0OKqqirPdV5fX0VuY2ND5DY3N7V4f3/fc+1khR0AHAoADgUAhwKAE1IBPhZeWFgocu3t7SK3sLCgxTk5OaImFApp8e9vdD+GuY5tLdvwODs7q8UzMzNRXT/esAOAQwHAoQDgxHQG6O3t1eKxsTFR4+cGzvz8vMiZ/3MjkYjnOnl5eSLX3d0tcp2dnVrc2Njoufbt7a3IjYyMaPHx8bHnOkHDDgAOBQCHAoBDAcBxNgROT0/7ypk8Pz+L3ODgoBbb3rH7+fn5w+7+Rlqa/nfR0NAgasLhsBbn5+eLmvf3dy0eGhoSNSsrK9Fs0RnsAOBQAHAoADgUABxnQ6D5GJVS8o7aycmJqOno6BA527tviYY5GNqGuYqKCi1+eXkRNbbhMUjYAcChAOBQAHCczQDZ2dki19LSosXmDRallNre3nZx+bhTX18vcmdnZ56va2trE7mDgwMne/IDOwA4FAAcCgAOBQDH2WcDPz4+RG5nZ8fV8gnP/f29Z43t0fW3t7dYbMc37ADgUABwKAA4SXE+gA3z42JlZWWi5u7uLqjtqOrqas8a25x0enoai+34hh0AHAoADgUAhwKAk7RD4OjoqBaPj4+Lmv7+fi1eXV11dv2MDP1XNzk56fma3d1dZ9d3BTsAOBQAHAoATtLOAOaNoKysLFGzvLzsuU60c0F5ebkW284Q+Pz81OJEPEeIHQAcCgAOBQCHAoCTtEOgH8zB0DYUDgwMiNze3p7n2l1dXVpsO69gampKi29ubjzXDRp2AHAoADgUABwKAE5KD4HmAVS5ubmixvaZPlvOi6enJ5Gbm5v78zpBww4ADgUAhwKAk9IzwOLiohYfHR2JmtbWVpEzn9xpbm4WNQUFBVq8vr4ezRbjDjsAOBQAHAoADgUAJ6WHwNLSUi0+Pz8XNbacydXVlbM9JRrsAOBQAHAoADgpPQPYDq8kOuwA4FAAcCgAOBQAnJQeAmtqauK9hYSHHQAcCgAOBQAnaWeAx8dHz5qvry8trqurEzW2Ax7NsweamppEjXkQtnkWgFJKbW1tabH5VbK2PQYNOwA4FAAcCgAOBQDH2dfGBY050F1eXooa80me4uJiUVNSUuJ2Y//DxcWFyC0tLYnc2tpaENtRSrEDwEMBwKEA4FAAcFJ6CPTD9/e3yEUiES0Oh8OiprKyUov9vPOYnp4ucrY7gbZTT2MFOwA4FAAcCgBO0r4b+PDwoMXX19eipqioSIv7+vpEzeHhoduN/YfMzEwtHh4eFjW1tbUxu74f2AHAoQDgUABwKAA4SXsjiLiBHQAcCgAOBQCHAoBDAcChAOBQAHAoADgUABwKAA4FAIcCgEMBwKEA4FAAcCgAOBQAnH/wq+7kA1rrmwAAAABJRU5ErkJggg==\" y=\"-329.198125\"/>\n   </g>\n   <g id=\"text_7\">\n    <!-- 5 -->\n    <defs>\n     <path d=\"M 10.796875 72.90625 \nL 49.515625 72.90625 \nL 49.515625 64.59375 \nL 19.828125 64.59375 \nL 19.828125 46.734375 \nQ 21.96875 47.46875 24.109375 47.828125 \nQ 26.265625 48.1875 28.421875 48.1875 \nQ 40.625 48.1875 47.75 41.5 \nQ 54.890625 34.8125 54.890625 23.390625 \nQ 54.890625 11.625 47.5625 5.09375 \nQ 40.234375 -1.421875 26.90625 -1.421875 \nQ 22.3125 -1.421875 17.546875 -0.640625 \nQ 12.796875 0.140625 7.71875 1.703125 \nL 7.71875 11.625 \nQ 12.109375 9.234375 16.796875 8.0625 \nQ 21.484375 6.890625 26.703125 6.890625 \nQ 35.15625 6.890625 40.078125 11.328125 \nQ 45.015625 15.765625 45.015625 23.390625 \nQ 45.015625 31 40.078125 35.4375 \nQ 35.15625 39.890625 26.703125 39.890625 \nQ 22.75 39.890625 18.8125 39.015625 \nQ 14.890625 38.140625 10.796875 36.28125 \nz\n\" id=\"DejaVuSans-53\"/>\n    </defs>\n    <g style=\"fill:#262626;\" transform=\"translate(67.335441 323.292243)scale(0.12 -0.12)\">\n     <use xlink:href=\"#DejaVuSans-53\"/>\n    </g>\n   </g>\n  </g>\n  <g id=\"axes_8\">\n   <g clip-path=\"url(#p11126427bd)\">\n    <image height=\"128\" id=\"image1f3d953cb9\" transform=\"scale(1 -1)translate(0 -128)\" width=\"128\" x=\"164.752941\" xlink:href=\"data:image/png;base64,\niVBORw0KGgoAAAANSUhEUgAAAIAAAACACAYAAADDPmHLAAAABHNCSVQICAgIfAhkiAAABI5JREFUeJztnTssbFEUhve5uSERErQoCaExGo+IGUKCRoOGQkI0iIpKIlFRKYRIVBKPqCQyKs8JjUSnohGEBo2Kxi3vXXvtZI7JuXNm5v+/7l9ZM7MlX5adfc7M8Ywx34bA8ivsBZBwoQDgUABwKAA4FAAcCgAOBQCHAoBDAcChAOBQAHAoADgUAJzfYS/ARXFxsciDg4Oqp6enR+Te3l7Vk0gkRF5YWFA9l5eXqvb19eVrnbkAJwA4FAAcCgCOZzLwjqCtrS2RXXsAP3ieJ/L3t/5TT05OVG1paUnko6OjlD4/G+AEAIcCgEMBwKEA4IS+CZybm1O1+fl5kd/e3lTP+vq6yPF4XPVEo1GROzo6VE8sFku6RtcmcHFxUeTT09Ok75OJcAKAQwHAoQDghL4HeHh4ULXy8nKRV1ZWVM/U1NSPPys/P1/VmpubVW1/f1/koqIi1XN/fy9yS0uL6nl5efnhCtMPJwA4FAAcCgAOBQAn9DuCPj4+VM2+atfY2Kh68vLyRPZzF8/n56equQ5w2tvbRbYPpowxpru7W+Tj42PV09XVJfLT01PSNaYbTgBwKAA4FAAcCgBO6CeBVVVVqjY5OSlyJBJRPePj4yLf3NwEu7B/KCgoULXNzU2R+/r6VM/Ozo7Iw8PDwS4sADgBwKEA4FAAcELfA2Qr9hXCi4sL1VNbWyvy0NCQ6tnd3Q12YT+EEwAcCgAOBQCHAoDDTWBAjIyMqNrGxobI29vbqifswyFOAHAoADgUAJzQ7wjKZew7m1y/Y+S6GHZ7e/vf1mTDCQAOBQCHAoBDAcDhJjBF2traRLZ/L8DF8vKyqqVzw+eCEwAcCgAOBQCHF4N84LrQY//PLy0tVT13d3ci19TUBLuwAOAEAIcCgEMBwKEA4OT0QZB96/bo6KjqqaysVDX7ql1FRYXqsa/02Rs+Y4zp7Oz0tc4w4QQAhwKAQwHAoQDg5PRJoP0DUK2trSm9z/Pzs6rNzMyIHPZ3/FKFEwAcCgAOBQAnpw+C7KeRuO7asb/Db4wxhYWFIr++vqoe+9fCsxVOAHAoADgUABwKAE5OHwT5oa6uTtVWV1dFdj0O5uzsTOSBgQHV43rcXabBCQAOBQCHAoAT+h6goaFB1a6vr0NYyV/sr325nipi3xE0MTGhetbW1oJd2H+AEwAcCgAOBQCHAoCT1quB/f39qmY/VcMYY0pKSkR2PVouKFxPA4nFYiLbGz5XzbWZzQY4AcChAOBQAHDSugd4f39XNdcjX8/Pz0W2L7wYY8ze3p7I9fX1qsc+0HFRVlamak1NTUlfl0gkRJ6dnU36mkyEEwAcCgAOBQCHAoCTkVcDr66uRHYdxPjB87xA3md6elrV7AOsbLj7xwUnADgUABwKAA4FACf0TaCL6upqkcfGxpK+JhKJqFo0GhX54OBA9RweHqpaPB4X+fHxMennZyucAOBQAHAoADgZuQcg6YMTABwKAA4FAIcCgEMBwKEA4FAAcCgAOBQAHAoADgUAhwKAQwHAoQDgUABwKAA4FAAcCgAOBQCHAoBDAcChAOD8AZIl9fv9zFaxAAAAAElFTkSuQmCC\" y=\"-329.198125\"/>\n   </g>\n   <g id=\"text_8\">\n    <!-- 3 -->\n    <g style=\"fill:#262626;\" transform=\"translate(224.888382 323.292243)scale(0.12 -0.12)\">\n     <use xlink:href=\"#DejaVuSans-51\"/>\n    </g>\n   </g>\n  </g>\n  <g id=\"axes_9\">\n   <g clip-path=\"url(#p122078b681)\">\n    <image height=\"128\" id=\"image2cda43d102\" transform=\"scale(1 -1)translate(0 -128)\" width=\"128\" x=\"322.305882\" xlink:href=\"data:image/png;base64,\niVBORw0KGgoAAAANSUhEUgAAAIAAAACACAYAAADDPmHLAAAABHNCSVQICAgIfAhkiAAAA7JJREFUeJztnSFIc2EUhuePsDQQRXEw0bImIhpFEOMsM2hSy7QYNCwZxSqYxSIWm2UoLMnSlgZaLTLFFQeKQQ3qn797Luwytnt3ed6nncOZ9yAPh8O3b9tAIpH4Swgs/6JuQESLBIAjAeBIADiDUTcQJmtrayZ3eXlpcqVSyYlXV1d71lPUaALAkQBwJAAc1A4QlLm5uahbCA1NADgSAI4EgCMB4KCWwKenJ5P7/PyMoJP+QRMAjgSAIwHgDCTgN4IajYbJpdNpJ87n86bm+vq6Zz2FiSYAHAkARwLAkQBwUAdBfpycnJjc8fGxE4+OjobVTuhoAsCRAHAkABz8DhCEQqFgcufn5+E30gM0AeBIADgSAI4EgKMlMAAjIyNtc61WK6x2uoomABwJAEcCwJEAcPBXwlKplMm9v7878d+f/RctLCw4ca1W625jIaEJAEcCwJEAcPAHQR8fHyZXqVSceHFxMax2QkcTAI4EgCMB4EgAOPgl0I96ve7Efkvg+Ph4WO30FE0AOBIAjgSAox3Ah4eHh7Y1xWLRicvlsqmJw/cPaQLAkQBwJAAcCQAHfyPIj4mJCSd+fHxs+5rJyUmTe35+7lZLPUMTAI4EgCMB4KAOgsbGxkzu+/vb5N7e3pz47u7O1MzMzHSvsQjRBIAjAeBIADgSAE5sl0DvT7v5fYbf++VOy8vLpub19dXk7u/vnXh4eLiTFmOBJgAcCQBHAsCRAHBisQSenp6a3ObmphP//PyYmpubGye+vb0N9LzZ2VknzmQygV4XRzQB4EgAOBIATl/uADs7O068tbVlai4uLpz48PDQ1Ly8vHT0/I2NDSdeX183NfPz8x397X5DEwCOBIAjAeBIADiRXwsfGhoyuWq16sTZbNbUTE1NOXE3r2B7D56+vr5Mjffbwc/OzkxNs9nsWk+9QhMAjgSAIwHgRH4QlEwmTc7vdo+XlZUVJ/Z7wygI29vbbXNXV1emZn9/v6Pn9RuaAHAkABwJAEcCwIn8IMiPo6MjJz44ODA13kOWRqNhan5/f9s+y+9dPe8vhkxPT5uauP5MnBdNADgSAI4EgNOXO4D3cGhvb8/U5HI5J15aWjI1QXaA3d1dkyuVSk7c6c2iOKAJAEcCwJEAcCQAnL5cAkV4aALAkQBwJAAcCQBHAsCRAHAkABwJAEcCwJEAcCQAHAkARwLAkQBwJAAcCQBHAsCRAHAkABwJAEcCwJEAcCQAHAkARwLAkQBwJAAcCQBHAsCRAHAkAJz//D+mOTSQW/MAAAAASUVORK5CYII=\" y=\"-329.198125\"/>\n   </g>\n   <g id=\"text_9\">\n    <!-- 9 -->\n    <g style=\"fill:#262626;\" transform=\"translate(382.441324 323.292243)scale(0.12 -0.12)\">\n     <use xlink:href=\"#DejaVuSans-57\"/>\n    </g>\n   </g>\n  </g>\n </g>\n <defs>\n  <clipPath id=\"pab9f89583f\">\n   <rect height=\"127.905882\" width=\"127.905882\" x=\"7.2\" y=\"22.318125\"/>\n  </clipPath>\n  <clipPath id=\"p1ded829d3b\">\n   <rect height=\"127.905882\" width=\"127.905882\" x=\"164.752941\" y=\"22.318125\"/>\n  </clipPath>\n  <clipPath id=\"pf36bad79ed\">\n   <rect height=\"127.905882\" width=\"127.905882\" x=\"322.305882\" y=\"22.318125\"/>\n  </clipPath>\n  <clipPath id=\"p2b209459f7\">\n   <rect height=\"127.905882\" width=\"127.905882\" x=\"7.2\" y=\"175.805184\"/>\n  </clipPath>\n  <clipPath id=\"p37c8eed033\">\n   <rect height=\"127.905882\" width=\"127.905882\" x=\"164.752941\" y=\"175.805184\"/>\n  </clipPath>\n  <clipPath id=\"p0fc0e02c55\">\n   <rect height=\"127.905882\" width=\"127.905882\" x=\"322.305882\" y=\"175.805184\"/>\n  </clipPath>\n  <clipPath id=\"pe659ee6037\">\n   <rect height=\"127.905882\" width=\"127.905882\" x=\"7.2\" y=\"329.292243\"/>\n  </clipPath>\n  <clipPath id=\"p11126427bd\">\n   <rect height=\"127.905882\" width=\"127.905882\" x=\"164.752941\" y=\"329.292243\"/>\n  </clipPath>\n  <clipPath id=\"p122078b681\">\n   <rect height=\"127.905882\" width=\"127.905882\" x=\"322.305882\" y=\"329.292243\"/>\n  </clipPath>\n </defs>\n</svg>\n"
          },
          "metadata": {
            "needs_background": "light"
          }
        }
      ]
    },
    {
      "cell_type": "markdown",
      "metadata": {
        "id": "OfeKmWP-sdTp"
      },
      "source": [
        "With the dataset ready, let's create a data loader that can feed our neural network with batches of train and test samples."
      ]
    },
    {
      "cell_type": "code",
      "metadata": {
        "id": "71eIVCauAM9c"
      },
      "source": [
        "train_data_loader = data.DataLoader(train_dataset, batch_size=32, shuffle=True, drop_last=True) \n",
        "test_data_loader = data.DataLoader(train_dataset, batch_size=32, shuffle=False, drop_last=False)"
      ],
      "execution_count": 69,
      "outputs": []
    },
    {
      "cell_type": "code",
      "metadata": {
        "colab": {
          "base_uri": "https://localhost:8080/"
        },
        "id": "gHHffBwKA-eC",
        "outputId": "1264669d-f7f1-4992-ef64-38666d204736"
      },
      "source": [
        "## get some random training images\n",
        "dataiter = iter(train_data_loader)\n",
        "images, labels = dataiter.next()\n",
        "\n",
        "for images, labels in train_data_loader:\n",
        "    print(\"Image batch dimensions:\", images.shape)\n",
        "    print(\"Image label dimensions:\", labels.shape)\n",
        "    break"
      ],
      "execution_count": 70,
      "outputs": [
        {
          "output_type": "stream",
          "name": "stdout",
          "text": [
            "Image batch dimensions: torch.Size([32, 1, 28, 28])\n",
            "Image label dimensions: torch.Size([32])\n"
          ]
        }
      ]
    },
    {
      "cell_type": "markdown",
      "metadata": {
        "id": "OD3Pht0ts1Eg"
      },
      "source": [
        "Now using the previously discussed modelling approach, let's build a model featuring 1 convolutional layer, denoted by `nn.Conv2d(...)`. We are dealing with an image dataset that is in a grayscale so we only need one channel going in, hence in_channels=1. We use 2 linear transformations to the incoming data. In `d1`, 128 represents the size we want as output and the (26*26*32) represents the dimension of the incoming data. For the second linear transformation `d2`, the dimension of the output of the previous linear layer was added as in_features=128, and 10 is the number of output classes. After each one of those layers, we also apply an activation function such as ReLU. For prediction purposes, we then apply a softmax layer to the last transformation and return the output of that.\n"
      ]
    },
    {
      "cell_type": "code",
      "metadata": {
        "id": "RzK9vLAiBa0c"
      },
      "source": [
        "class MNISTModel(nn.Module):\n",
        "    def __init__(self):\n",
        "        super(MNISTModel, self).__init__()\n",
        "\n",
        "        # 28x28x1 => 26x26x32\n",
        "        self.conv1 = nn.Conv2d(in_channels=1, out_channels=32, kernel_size=3)\n",
        "        self.d1 = nn.Linear(26 * 26 * 32, 128)\n",
        "        self.d2 = nn.Linear(128, 10)\n",
        "\n",
        "    def forward(self, x):\n",
        "        # 32x1x28x28 => 32x32x26x26\n",
        "        x = self.conv1(x)\n",
        "        x = F.relu(x)\n",
        "\n",
        "        # flatten => 32 x (32*26*26)\n",
        "        x = x.flatten(start_dim = 1)\n",
        "\n",
        "        # 32 x (32*26*26) => 32x128\n",
        "        x = self.d1(x)\n",
        "        x = F.relu(x)\n",
        "\n",
        "        # logits => 32x10\n",
        "        logits = self.d2(x)\n",
        "        out = F.softmax(logits, dim=1)\n",
        "        return out"
      ],
      "execution_count": 71,
      "outputs": []
    },
    {
      "cell_type": "markdown",
      "metadata": {
        "id": "rO5-w2Gnu6m3"
      },
      "source": [
        "### Training\n",
        "\n",
        "Now we only need to define some parameters such as learning rate and number of epochs, as well as our loss function and optimizer. Only then are we ready to train our model. "
      ]
    },
    {
      "cell_type": "code",
      "metadata": {
        "id": "YidkBHc8Bk5_"
      },
      "source": [
        "learning_rate = 0.001\n",
        "num_epochs = 5\n",
        "\n",
        "device = torch.device(\"cuda:0\" if torch.cuda.is_available() else \"cpu\")\n",
        "model = MNISTModel()\n",
        "model = model.to(device)\n",
        "criterion = nn.CrossEntropyLoss()\n",
        "optimizer = torch.optim.Adam(model.parameters(), lr=learning_rate)"
      ],
      "execution_count": 72,
      "outputs": []
    },
    {
      "cell_type": "code",
      "metadata": {
        "id": "C9KjxhubByFX"
      },
      "source": [
        "def train_model(model, optimizer, data_loader, loss_module, num_epochs=100):\n",
        "    # Set model to train mode\n",
        "    model.train() \n",
        "    \n",
        "    # Training loop\n",
        "    for epoch in tqdm(range(num_epochs)):\n",
        "        for data_inputs, data_labels in data_loader:\n",
        "            \n",
        "            ## Step 1: Move input data to device (only strictly necessary if we use GPU)\n",
        "            data_inputs = data_inputs.to(device)\n",
        "            data_labels = data_labels.to(device)\n",
        "            \n",
        "            ## Step 2: Run the model on the input data\n",
        "            logits = model(data_inputs)\n",
        "\n",
        "            ## Step 3: Calculate the loss\n",
        "            loss = loss_module(logits, data_labels)\n",
        "            \n",
        "            ## Step 4: Perform backpropagation\n",
        "            # Before calculating the gradients, we need to ensure that they are all zero. \n",
        "            # The gradients would not be overwritten, but actually added to the existing ones.\n",
        "            optimizer.zero_grad() \n",
        "            # Perform backpropagation\n",
        "            loss.backward()\n",
        "            \n",
        "            ## Step 5: Update the parameters\n",
        "            optimizer.step()\n",
        "            "
      ],
      "execution_count": 74,
      "outputs": []
    },
    {
      "cell_type": "code",
      "metadata": {
        "colab": {
          "base_uri": "https://localhost:8080/",
          "height": 49,
          "referenced_widgets": [
            "3e2231583d534c58b2f16afefdf905c4",
            "d686560409b04281b917bd530b28f18a",
            "929efa7b73cd40b4b9f814537ed1d1da",
            "34f6012dac204045a173681a4511ecfb",
            "a4c0477291e845cfab92db2290023a2d",
            "ac96828008db4387978af49920690de3",
            "e5198caee9f04a71b3f02a165d437117",
            "87e14cdf630542e5828746dc50e2d11e",
            "9a3a9970f58b4b359eee6ed38a4752f6",
            "520884e46dba4877a3fe1ba62e3c2872",
            "b6b43d8d6f0b431aa0144f8bd6ae5b93"
          ]
        },
        "id": "QNPqMSMfJXf0",
        "outputId": "af9197de-573d-44a1-b091-082471a34af0"
      },
      "source": [
        "train_model(model, optimizer, train_data_loader, criterion)"
      ],
      "execution_count": 75,
      "outputs": [
        {
          "output_type": "display_data",
          "data": {
            "application/vnd.jupyter.widget-view+json": {
              "model_id": "3e2231583d534c58b2f16afefdf905c4",
              "version_minor": 0,
              "version_major": 2
            },
            "text/plain": [
              "  0%|          | 0/100 [00:00<?, ?it/s]"
            ]
          },
          "metadata": {}
        }
      ]
    },
    {
      "cell_type": "markdown",
      "metadata": {
        "id": "13CIA4cEvT_F"
      },
      "source": [
        "Let's compute the accuracy on the testing dataset to see how well the model performs on the image classificaiton task. As you can see below, our basic CNN model is performing quite well on the MNIST classification task.\n"
      ]
    },
    {
      "cell_type": "code",
      "metadata": {
        "id": "5ECjqM88nw-a"
      },
      "source": [
        "## compute accuracy\n",
        "def get_accuracy(preds, target, batch_size):\n",
        "    corrects = (torch.max(logit, 1)[1].view(target.size()).data == target.data).sum()\n",
        "    accuracy = 100.0 * corrects/batch_size\n",
        "    return accuracy.item()"
      ],
      "execution_count": null,
      "outputs": []
    },
    {
      "cell_type": "code",
      "metadata": {
        "id": "Ii4m7YdwgWIi"
      },
      "source": [
        "def eval_model(model, data_loader):\n",
        "    model.eval() # Set model to eval mode\n",
        "    acc = 0.\n",
        "    \n",
        "    with torch.no_grad(): # Deactivate gradients for the following code\n",
        "        for i, (data_inputs, data_labels) in enumerate(data_loader, 0):\n",
        "            \n",
        "            # Determine prediction of model on dev set\n",
        "            data_inputs, data_labels = data_inputs.to(device), data_labels.to(device)\n",
        "            preds = model(data_inputs)\n",
        "            acc += get_accuracy(preds, data_labels, 32)\n",
        "            \n",
        "    print(f\"Accuracy of the model: {acc/i:4.2f}%\")"
      ],
      "execution_count": 135,
      "outputs": []
    },
    {
      "cell_type": "code",
      "metadata": {
        "colab": {
          "base_uri": "https://localhost:8080/"
        },
        "id": "tTr0wwC_gwDU",
        "outputId": "16479358-25a6-4ec7-c9c6-9c1be7b8b019"
      },
      "source": [
        "eval_model(model, test_data_loader)"
      ],
      "execution_count": 136,
      "outputs": [
        {
          "output_type": "stream",
          "name": "stdout",
          "text": [
            "Accuracy of the model: 99.89%\n"
          ]
        }
      ]
    },
    {
      "cell_type": "markdown",
      "metadata": {
        "id": "KxALmO9CX_BN"
      },
      "source": [
        "## Additional features we didn't discuss\n",
        "\n",
        "Finally, you are all set to start with your own PyTorch project! In summary, we have looked at how we can build neural networks in PyTorch, and train and test them on data. However, there is still much more to PyTorch we haven't discussed. If you are already interested in learning more of PyTorch, we recommend the official [tutorial website](https://pytorch.org/tutorials/) that contains many tutorials on various topics. Especially logging with Tensorboard ([official tutorial here](https://pytorch.org/tutorials/intermediate/tensorboard_tutorial.html)) is a good practice that we highly recommend to track your own experiments."
      ]
    }
  ]
}